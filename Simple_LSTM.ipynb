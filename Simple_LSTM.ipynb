{
  "nbformat": 4,
  "nbformat_minor": 0,
  "metadata": {
    "colab": {
      "name": "Simple_LSTM.ipynb",
      "provenance": [],
      "collapsed_sections": [],
      "machine_shape": "hm",
      "authorship_tag": "ABX9TyN5i8MEEtU2yHrKGuS0XiGK"
    },
    "kernelspec": {
      "name": "python3",
      "display_name": "Python 3"
    }
  },
  "cells": [
    {
      "cell_type": "code",
      "metadata": {
        "id": "6rcsxjbvXJVB",
        "colab_type": "code",
        "colab": {
          "base_uri": "https://localhost:8080/",
          "height": 34
        },
        "outputId": "5626482c-f720-49ff-bddd-709b854d3d29"
      },
      "source": [
        "%tensorflow_version 1.x"
      ],
      "execution_count": null,
      "outputs": [
        {
          "output_type": "stream",
          "text": [
            "TensorFlow 1.x selected.\n"
          ],
          "name": "stdout"
        }
      ]
    },
    {
      "cell_type": "code",
      "metadata": {
        "id": "IoPILehOTOJL",
        "colab_type": "code",
        "colab": {}
      },
      "source": [
        "import pandas as pd\n",
        "import numpy as np\n",
        "import re\n",
        "import keras\n",
        "from tqdm import tqdm\n",
        "import pickle as pkl\n",
        "from tensorflow.keras import layers\n",
        "import tensorflow as tf\n",
        "import gc\n",
        "from sklearn.metrics import accuracy_score\n",
        "import os\n",
        "gc.enable()\n",
        "\n",
        "from tensorflow.keras.utils import to_categorical\n",
        "from tensorflow.keras.preprocessing.sequence import pad_sequences\n",
        "from tensorflow.keras.models import Sequential, Model\n",
        "from tensorflow.keras.layers import Dense, Dropout, TimeDistributed, Activation, Masking, Input\n",
        "from tensorflow.keras.layers import LSTM, Bidirectional, dot, concatenate\n",
        "from tensorflow.keras.layers import Embedding\n",
        "from tensorflow.keras.callbacks import * \n",
        "from tensorflow.keras.models import load_model\n",
        "from tensorflow.keras.regularizers import L1L2\n",
        "from tensorflow.keras.backend import squeeze\n",
        "from tensorflow.keras. optimizers import RMSprop, Adam\n",
        "\n",
        "from google.colab import drive\n",
        "drive.mount('/content/drive')"
      ],
      "execution_count": null,
      "outputs": []
    },
    {
      "cell_type": "code",
      "metadata": {
        "id": "tMkE11k7TZWI",
        "colab_type": "code",
        "colab": {
          "base_uri": "https://localhost:8080/",
          "height": 306
        },
        "outputId": "01a7276e-f234-472c-d0f1-1081cb1df53d"
      },
      "source": [
        "from tensorflow.python.client import device_lib\n",
        "print(device_lib.list_local_devices())\n",
        "\n",
        "from keras import backend as K\n",
        "K.tensorflow_backend._get_available_gpus()\n",
        "\n",
        "sess = tf.Session(config=tf.ConfigProto(log_device_placement=True))\n",
        "keras.backend.set_session(sess)"
      ],
      "execution_count": null,
      "outputs": [
        {
          "output_type": "stream",
          "text": [
            "[name: \"/device:CPU:0\"\n",
            "device_type: \"CPU\"\n",
            "memory_limit: 268435456\n",
            "locality {\n",
            "}\n",
            "incarnation: 10590221345816099547\n",
            ", name: \"/device:XLA_CPU:0\"\n",
            "device_type: \"XLA_CPU\"\n",
            "memory_limit: 17179869184\n",
            "locality {\n",
            "}\n",
            "incarnation: 4654365438363155553\n",
            "physical_device_desc: \"device: XLA_CPU device\"\n",
            "]\n",
            "Device mapping:\n",
            "/job:localhost/replica:0/task:0/device:XLA_CPU:0 -> device: XLA_CPU device\n",
            "\n"
          ],
          "name": "stdout"
        }
      ]
    },
    {
      "cell_type": "markdown",
      "metadata": {
        "id": "gHrwxc-wpv26",
        "colab_type": "text"
      },
      "source": [
        "##Классификация последовательностей"
      ]
    },
    {
      "cell_type": "code",
      "metadata": {
        "id": "ND_sIGI3v5-k",
        "colab_type": "code",
        "colab": {}
      },
      "source": [
        "order_features = pd.read_csv('/content/drive/My Drive/Colab Notebooks/Diplom/instacart-market-basket-analysis/test_train/order_features.csv')\n",
        "order_features['prod_seq'] = order_features['prod_seq'].apply(lambda x: list(np.fromstring(x.strip('[ ]'), dtype=int, sep=', ')))\n",
        "order_features['prev_seq'] = order_features['prev_seq'].apply(lambda x: list(np.fromstring(x.strip('[ ]'), dtype=int, sep=', ')))\n",
        "order_features['prev_orders_seq'] = order_features['prev_orders_seq'].apply(lambda x: list(np.fromstring(x.strip('[ ]'), dtype=int, sep=', ')))\n",
        "\n",
        "train_positive = pd.read_csv('/content/drive/My Drive/Colab Notebooks/Diplom/instacart-market-basket-analysis/test_train/train_positive.csv')\n",
        "train_negative = pd.read_csv('/content/drive/My Drive/Colab Notebooks/Diplom/instacart-market-basket-analysis/test_train/train_negative.csv')\n",
        "\n",
        "with open('/content/drive/My Drive/Colab Notebooks/Diplom/instacart-market-basket-analysis/test_train/id_to_token.pkl', 'rb') as f:\n",
        "  id_to_token = pkl.load(f)\n",
        "\n",
        "with open('/content/drive/My Drive/Colab Notebooks/Diplom/instacart-market-basket-analysis/test_train/token_to_id.pkl', 'rb') as f:\n",
        "  token_to_id = pkl.load(f)\n",
        "\n",
        "with open('/content/drive/My Drive/Colab Notebooks/Diplom/instacart-market-basket-analysis/test_train/val_orders.pkl', 'rb') as f:\n",
        "  val_orders = pkl.load(f)\n",
        "\n",
        "with open('/content/drive/My Drive/Colab Notebooks/Diplom/instacart-market-basket-analysis/test_train/test_orders.pkl', 'rb') as f:\n",
        "  test_orders = pkl.load(f)"
      ],
      "execution_count": null,
      "outputs": []
    },
    {
      "cell_type": "code",
      "metadata": {
        "id": "SyIy2hnGXVkP",
        "colab_type": "code",
        "colab": {}
      },
      "source": [
        "it = 1\n",
        "#os.makedirs('/content/drive/My Drive/Colab Notebooks/Diplom/models/simple_lstm/{0}'.format(it))"
      ],
      "execution_count": null,
      "outputs": []
    },
    {
      "cell_type": "markdown",
      "metadata": {
        "id": "lne94_nFYp_x",
        "colab_type": "text"
      },
      "source": [
        "### Собираем выборки"
      ]
    },
    {
      "cell_type": "code",
      "metadata": {
        "id": "xDPS8uhLwIEI",
        "colab_type": "code",
        "colab": {}
      },
      "source": [
        "pos_neg = pd.concat((train_positive, train_negative), axis=0)"
      ],
      "execution_count": null,
      "outputs": []
    },
    {
      "cell_type": "code",
      "metadata": {
        "id": "eSBZH6nwYpEW",
        "colab_type": "code",
        "colab": {}
      },
      "source": [
        "data_train = pos_neg[(~pos_neg['order_id'].isin(val_orders)) & (~pos_neg['order_id'].isin(test_orders))].sample(frac=1).drop_duplicates(subset=['uxp_total_bought', 'uxp_reorder_ratio',\n",
        "       'times_lastN', 'u_total_orders', 'u_reordered_ratio', 'p_total_purchases', 'p_reorder_ratio', 'order_dow',\n",
        "        'order_hour_of_day', 'days_since_prior_order'])\n",
        "data_val = pos_neg[pos_neg['order_id'].isin(val_orders)].sample(frac=1)\n",
        "data_test = pos_neg[pos_neg['order_id'].isin(test_orders)].sample(frac=1)"
      ],
      "execution_count": null,
      "outputs": []
    },
    {
      "cell_type": "code",
      "metadata": {
        "id": "vyYxNYVYG57j",
        "colab_type": "code",
        "colab": {}
      },
      "source": [
        "new_data_train = data_train.merge(order_features[['order_id', 'prev_seq']], how='inner', on='order_id')\n",
        "new_data_val = data_val.merge(order_features[['order_id', 'prev_seq']], how='inner', on='order_id')\n",
        "new_data_test = data_test.merge(order_features[['order_id', 'prev_seq']], how='inner', on='order_id')\n",
        "\n",
        "prods_df = train_positive.merge(order_features[['order_id', 'prev_seq']], how='inner', on='order_id')"
      ],
      "execution_count": null,
      "outputs": []
    },
    {
      "cell_type": "code",
      "metadata": {
        "id": "ax6KWk2kaVrG",
        "colab_type": "code",
        "colab": {}
      },
      "source": [
        "new_data_train['set'] = new_data_train['prev_seq'] + new_data_train['product_id'].apply(lambda x: [x])\n",
        "new_data_val['set'] = new_data_val['prev_seq'] + new_data_val['product_id'].apply(lambda x: [x])\n",
        "new_data_test['set'] = new_data_test['prev_seq'] + new_data_test['product_id'].apply(lambda x: [x])\n",
        "\n",
        "new_data_train['lens'] = new_data_train['set'].apply(len)\n",
        "new_data_val['lens'] = new_data_val['prev_seq'].apply(len)\n",
        "new_data_test['lens'] = new_data_test['prev_seq'].apply(len)"
      ],
      "execution_count": null,
      "outputs": []
    },
    {
      "cell_type": "code",
      "metadata": {
        "id": "iFxd7THoziEJ",
        "colab_type": "code",
        "colab": {}
      },
      "source": [
        "new_val_set = new_data_val[new_data_val['label'] == 1]\n",
        "new_test_set = new_data_test[new_data_test['label'] == 1]"
      ],
      "execution_count": null,
      "outputs": []
    },
    {
      "cell_type": "markdown",
      "metadata": {
        "id": "PwsGUhZ-edTu",
        "colab_type": "text"
      },
      "source": [
        "### Объявляем модель и обучаем"
      ]
    },
    {
      "cell_type": "code",
      "metadata": {
        "id": "Xv_i4w9mrF-V",
        "colab_type": "code",
        "colab": {
          "base_uri": "https://localhost:8080/",
          "height": 445
        },
        "outputId": "c5a7ba9b-e524-4443-a952-bbc34ccc691e"
      },
      "source": [
        "hidden_size = 10\n",
        "\n",
        "inp = Input(shape=(None,))\n",
        "\n",
        "emb = Embedding(len(id_to_token), output_dim=13, name='embedding')(inp)\n",
        "\n",
        "lstm = LSTM(hidden_size, kernel_initializer='he_uniform', name='lstm_1')(emb)\n",
        "\n",
        "#target_vec = lstm[:,-1,:]\n",
        "#query = Dense(hidden_size, kernel_initializer='he_uniform', name='query')(target_vec)\n",
        "\n",
        "#attention = dot([query, lstm[:,:-1,:]], axes=[1, 2], name='score_attention')\n",
        "#attention = Activation('softmax', name='attention_activation')(attention)\n",
        "\n",
        "#context = dot([attention, lstm[:,:-1,:]], axes=[1,1], name='context')\n",
        "#decoder_combined_context = concatenate([target_vec, context], name='attention_vectors')\n",
        "\n",
        "output = Dense(hidden_size, activation='tanh', kernel_initializer='he_uniform', name='dense_tanh')(lstm)\n",
        "\n",
        "out = Dense(2, kernel_initializer='he_uniform', activation='softmax')(output)\n",
        "\n",
        "model = Model(inp, out)\n",
        "\n",
        "optimizer = Adam(learning_rate=0.00001)\n",
        "\n",
        "model.compile(optimizer=optimizer, loss='binary_crossentropy',\n",
        "              metrics=['binary_accuracy'])\n",
        "\n",
        "model.summary()"
      ],
      "execution_count": null,
      "outputs": [
        {
          "output_type": "stream",
          "text": [
            "WARNING:tensorflow:From /tensorflow-1.15.2/python3.6/tensorflow_core/python/keras/initializers.py:119: calling RandomUniform.__init__ (from tensorflow.python.ops.init_ops) with dtype is deprecated and will be removed in a future version.\n",
            "Instructions for updating:\n",
            "Call initializer instance with the dtype argument instead of passing it to the constructor\n",
            "WARNING:tensorflow:From /tensorflow-1.15.2/python3.6/tensorflow_core/python/ops/resource_variable_ops.py:1630: calling BaseResourceVariable.__init__ (from tensorflow.python.ops.resource_variable_ops) with constraint is deprecated and will be removed in a future version.\n",
            "Instructions for updating:\n",
            "If using Keras pass *_constraint arguments to layers.\n",
            "Model: \"model\"\n",
            "_________________________________________________________________\n",
            "Layer (type)                 Output Shape              Param #   \n",
            "=================================================================\n",
            "input_1 (InputLayer)         [(None, None)]            0         \n",
            "_________________________________________________________________\n",
            "embedding (Embedding)        (None, None, 13)          322634    \n",
            "_________________________________________________________________\n",
            "lstm_1 (LSTM)                (None, 10)                960       \n",
            "_________________________________________________________________\n",
            "dense_tanh (Dense)           (None, 10)                110       \n",
            "_________________________________________________________________\n",
            "dense (Dense)                (None, 2)                 22        \n",
            "=================================================================\n",
            "Total params: 323,726\n",
            "Trainable params: 323,726\n",
            "Non-trainable params: 0\n",
            "_________________________________________________________________\n"
          ],
          "name": "stdout"
        }
      ]
    },
    {
      "cell_type": "code",
      "metadata": {
        "id": "8F7p92mjM0s_",
        "colab_type": "code",
        "colab": {}
      },
      "source": [
        "path = '/content/drive/My Drive/Colab Notebooks/Diplom/models/simple_lstm/{0}/'.format(it)"
      ],
      "execution_count": null,
      "outputs": []
    },
    {
      "cell_type": "code",
      "metadata": {
        "id": "Dr3Wb76jh7Ca",
        "colab_type": "code",
        "colab": {}
      },
      "source": [
        "model.load_weights(path+'simple_lstm_lr4_epochs:5_precision:0.250_trainloss:0.684_trainacc:0.554_valloss:0.686_valacc:0.559.hdf5')"
      ],
      "execution_count": null,
      "outputs": []
    },
    {
      "cell_type": "code",
      "metadata": {
        "id": "xY_l2FcftFkv",
        "colab_type": "code",
        "colab": {}
      },
      "source": [
        "def my_learning_rate(epoch, lrate):\n",
        "  return lrate\n",
        "\n",
        "checkpoint = ModelCheckpoint(path + '2cl_lstm_10emb_epochs:{epoch:03d}.hdf5', \n",
        "                             monitor='binary_accuracy', verbose=1, save_best_only=True, mode='max', save_freq='epoch')\n",
        "stop = EarlyStopping(monitor='loss', min_delta=0.0001)\n",
        "lrs = LearningRateScheduler(my_learning_rate)\n",
        "\n",
        "callbacks_list = [checkpoint, lrs]\n",
        "\n",
        "metrics = {}"
      ],
      "execution_count": null,
      "outputs": []
    },
    {
      "cell_type": "code",
      "metadata": {
        "id": "L2Lo-HL6rMBD",
        "colab_type": "code",
        "colab": {
          "base_uri": "https://localhost:8080/",
          "height": 1000
        },
        "outputId": "063e4f53-f705-4811-adb4-cce039f225ae"
      },
      "source": [
        "batch_size = 64\n",
        "ep = 10\n",
        "\n",
        "for ep in range(ep, ep+1):\n",
        "\n",
        "  print('\\n')\n",
        "  print('Training_epoch_{0}\\n'.format(ep))\n",
        "\n",
        "  train_loss = 0\n",
        "  train_acc = 0\n",
        "\n",
        "  train_steps = 0\n",
        "\n",
        "  for ln, group_l in tqdm(new_data_train.groupby('lens'), position=0):\n",
        "    temp_train = group_l.sample(frac=1,random_state=432)[['set', 'label']].values\n",
        "\n",
        "    if batch_size > temp_train.shape[0]:\n",
        "      batch_size = temp_train.shape[0]\n",
        "\n",
        "    X_train_seq = np.zeros((temp_train.shape[0], ln), dtype=int)\n",
        "    y_train = np.zeros((temp_train.shape[0], 2), dtype=int)\n",
        "\n",
        "    for i in range(temp_train.shape[0]):\n",
        "      seq = temp_train[i, 0]\n",
        "      label = temp_train[i, -1]\n",
        "      for j in range(ln):\n",
        "        X_train_seq[i,j] = token_to_id[seq[j]]\n",
        "      y_train[i, label] = 1\n",
        "    \n",
        "    history = model.fit(X_train_seq, y_train, batch_size=batch_size, epochs=1, shuffle=False, workers=-1)\n",
        "\n",
        "    train_loss += history.history['loss'][0]\n",
        "    train_acc += history.history['binary_accuracy'][0]\n",
        "    train_steps += 1\n",
        "\n",
        "  train_loss /= train_steps\n",
        "  train_acc /= train_steps\n",
        "\n",
        "  print('\\n')\n",
        "  print('train_loss: ', train_loss)\n",
        "  print('train_acc: ', train_acc)\n",
        "\n",
        "  print('\\n')\n",
        "  print('Validation_epoch_{0}\\n'.format(ep))\n",
        "\n",
        "  val_loss = 0\n",
        "  val_acc = 0\n",
        "\n",
        "  val_steps = 0\n",
        "\n",
        "  for ln, group_l in tqdm(new_data_val.groupby('lens'), position=0):\n",
        "    temp_val = group_l.sample(frac=1,random_state=432)[['set', 'label']].values\n",
        "\n",
        "    if batch_size > temp_val.shape[0]:\n",
        "      batch_size = temp_val.shape[0]\n",
        "\n",
        "    X_val_seq = np.zeros((temp_val.shape[0], ln), dtype=int)\n",
        "    y_val = np.zeros((temp_val.shape[0], 2), dtype=int)\n",
        "\n",
        "    for i in range(temp_val.shape[0]):\n",
        "      seq = temp_val[i, 0]\n",
        "      label = temp_val[i, -1]\n",
        "      for j in range(ln):\n",
        "        X_val_seq[i,j] = token_to_id[seq[j]]\n",
        "      y_val[i, label] = 1\n",
        "\n",
        "    loss, acc = model.evaluate(X_val_seq, y_val, batch_size=batch_size, workers=-1)\n",
        "\n",
        "    val_loss += loss\n",
        "    val_acc += acc\n",
        "    val_steps += 1\n",
        "\n",
        "  val_loss /= val_steps\n",
        "  val_acc /= val_steps\n",
        "\n",
        "  print('\\n')\n",
        "  print('val_loss: ', val_loss)\n",
        "  print('val_acc: ', val_acc)\n",
        "\n",
        "  print('\\n')\n",
        "  print('Target_metric\\n')\n",
        "\n",
        "  precision_lstm = {}\n",
        "  recall_lstm = {}\n",
        "  for i in range(1, 11):\n",
        "    precision_lstm[i] = 0\n",
        "    recall_lstm[i] = 0\n",
        "\n",
        "  total = 0\n",
        "\n",
        "  for user_id, group_u in tqdm(new_val_set.groupby('user_id'), position=0):\n",
        "\n",
        "    all_prod_set = prods_df[prods_df['user_id']==user_id].drop_duplicates(subset='product_id')\n",
        "    all_prod_set['product_id'] = all_prod_set['product_id'].apply(lambda x: token_to_id[x])\n",
        "    prod_set_features = all_prod_set['product_id'].values\n",
        "\n",
        "    for order_id, group_o in group_u.groupby('order_id'):\n",
        "      prod_seq = list(map(lambda x: token_to_id[x], group_o['prev_seq'].values[0]))\n",
        "      #Купленные товары\n",
        "      bought = np.array(list(set(group_o['product_id'])))\n",
        "\n",
        "      #Ищем товары, которые порекомендует сетка\n",
        "      inp_seq = np.zeros((prod_set_features.shape[0], len(prod_seq) + 1), dtype=int)\n",
        "\n",
        "      for i in range(prod_set_features.shape[0]):\n",
        "        temp_arr = prod_seq + [prod_set_features[i]]\n",
        "        for j in range(len(prod_seq) + 1):\n",
        "          inp_seq[i, j] = temp_arr[j]\n",
        "\n",
        "      preds = model.predict(inp_seq)[:, 1]\n",
        "      indexes = np.argsort(preds)[::-1]\n",
        "\n",
        "      for i in range(1, 11):\n",
        "        recommended_lstm = list(map(lambda x: id_to_token[x], prod_set_features[indexes[:i]]))\n",
        "        precision_lstm[i] += np.intersect1d(bought, recommended_lstm).shape[0]/len(recommended_lstm)\n",
        "        recall_lstm[i] += np.intersect1d(bought, recommended_lstm).shape[0]/len(bought)\n",
        "\n",
        "      total += 1\n",
        "\n",
        "  for i in range(1, 11):\n",
        "    precision_lstm[i] = precision_lstm[i]/total\n",
        "    recall_lstm[i] = recall_lstm[i]/total\n",
        "\n",
        "  model.save(path + 'simple_lstm_lr4_epochs:{}_precision:{:.3f}_trainloss:{:.3f}_\\\n",
        "trainacc:{:.3f}_valloss:{:.3f}_valacc:{:.3f}.hdf5'.format(ep, precision_lstm[1], train_loss, train_acc, val_loss, val_acc))\n",
        "  \n",
        "  print('\\n')\n",
        "  print(precision_lstm)\n",
        "  print(recall_lstm)\n",
        "  print('\\n')"
      ],
      "execution_count": null,
      "outputs": [
        {
          "output_type": "stream",
          "text": [
            "\r  0%|          | 0/70 [00:00<?, ?it/s]"
          ],
          "name": "stderr"
        },
        {
          "output_type": "stream",
          "text": [
            "\n",
            "\n",
            "Training_epoch_10\n",
            "\n",
            "Train on 103087 samples\n",
            "103087/103087 [==============================] - 8s 77us/sample - loss: 0.6762 - binary_accuracy: 0.5931\n"
          ],
          "name": "stdout"
        },
        {
          "output_type": "stream",
          "text": [
            "\r  1%|▏         | 1/70 [00:08<09:39,  8.39s/it]"
          ],
          "name": "stderr"
        },
        {
          "output_type": "stream",
          "text": [
            "Train on 36589 samples\n",
            "36589/36589 [==============================] - 3s 90us/sample - loss: 0.6965 - binary_accuracy: 0.5023\n"
          ],
          "name": "stdout"
        },
        {
          "output_type": "stream",
          "text": [
            "\r  3%|▎         | 2/70 [00:11<07:48,  6.89s/it]"
          ],
          "name": "stderr"
        },
        {
          "output_type": "stream",
          "text": [
            "Train on 53091 samples\n",
            "53091/53091 [==============================] - 6s 104us/sample - loss: 0.6885 - binary_accuracy: 0.5345\n"
          ],
          "name": "stdout"
        },
        {
          "output_type": "stream",
          "text": [
            "\r  4%|▍         | 3/70 [00:17<07:17,  6.53s/it]"
          ],
          "name": "stderr"
        },
        {
          "output_type": "stream",
          "text": [
            "Train on 66409 samples\n",
            "66409/66409 [==============================] - 8s 117us/sample - loss: 0.6864 - binary_accuracy: 0.5445\n"
          ],
          "name": "stdout"
        },
        {
          "output_type": "stream",
          "text": [
            "\r  6%|▌         | 4/70 [00:25<07:40,  6.98s/it]"
          ],
          "name": "stderr"
        },
        {
          "output_type": "stream",
          "text": [
            "Train on 81115 samples\n",
            "81115/81115 [==============================] - 11s 130us/sample - loss: 0.6859 - binary_accuracy: 0.5460\n"
          ],
          "name": "stdout"
        },
        {
          "output_type": "stream",
          "text": [
            "\r  7%|▋         | 5/70 [00:36<08:49,  8.15s/it]"
          ],
          "name": "stderr"
        },
        {
          "output_type": "stream",
          "text": [
            "Train on 94564 samples\n",
            "94564/94564 [==============================] - 14s 144us/sample - loss: 0.6849 - binary_accuracy: 0.5496\n"
          ],
          "name": "stdout"
        },
        {
          "output_type": "stream",
          "text": [
            "\r  9%|▊         | 6/70 [00:50<10:34,  9.92s/it]"
          ],
          "name": "stderr"
        },
        {
          "output_type": "stream",
          "text": [
            "Train on 103250 samples\n",
            "103250/103250 [==============================] - 16s 156us/sample - loss: 0.6844 - binary_accuracy: 0.5500\n"
          ],
          "name": "stdout"
        },
        {
          "output_type": "stream",
          "text": [
            "\r 10%|█         | 7/70 [01:07<12:32, 11.95s/it]"
          ],
          "name": "stderr"
        },
        {
          "output_type": "stream",
          "text": [
            "Train on 103615 samples\n",
            "103615/103615 [==============================] - 18s 170us/sample - loss: 0.6835 - binary_accuracy: 0.5542\n"
          ],
          "name": "stdout"
        },
        {
          "output_type": "stream",
          "text": [
            "\r 11%|█▏        | 8/70 [01:25<14:17, 13.83s/it]"
          ],
          "name": "stderr"
        },
        {
          "output_type": "stream",
          "text": [
            "Train on 103453 samples\n",
            "103453/103453 [==============================] - 19s 184us/sample - loss: 0.6839 - binary_accuracy: 0.5512\n"
          ],
          "name": "stdout"
        },
        {
          "output_type": "stream",
          "text": [
            "\r 13%|█▎        | 9/70 [01:44<15:49, 15.57s/it]"
          ],
          "name": "stderr"
        },
        {
          "output_type": "stream",
          "text": [
            "Train on 97225 samples\n",
            "97225/97225 [==============================] - 19s 193us/sample - loss: 0.6829 - binary_accuracy: 0.5549\n"
          ],
          "name": "stdout"
        },
        {
          "output_type": "stream",
          "text": [
            "\r 14%|█▍        | 10/70 [02:04<16:43, 16.73s/it]"
          ],
          "name": "stderr"
        },
        {
          "output_type": "stream",
          "text": [
            "Train on 90095 samples\n",
            "90095/90095 [==============================] - 18s 204us/sample - loss: 0.6819 - binary_accuracy: 0.5571\n"
          ],
          "name": "stdout"
        },
        {
          "output_type": "stream",
          "text": [
            "\r 16%|█▌        | 11/70 [02:23<17:06, 17.39s/it]"
          ],
          "name": "stderr"
        },
        {
          "output_type": "stream",
          "text": [
            "Train on 83100 samples\n",
            "83100/83100 [==============================] - 19s 229us/sample - loss: 0.6819 - binary_accuracy: 0.5559\n"
          ],
          "name": "stdout"
        },
        {
          "output_type": "stream",
          "text": [
            "\r 17%|█▋        | 12/70 [02:42<17:27, 18.06s/it]"
          ],
          "name": "stderr"
        },
        {
          "output_type": "stream",
          "text": [
            "Train on 78379 samples\n",
            "78379/78379 [==============================] - 18s 231us/sample - loss: 0.6801 - binary_accuracy: 0.5619\n"
          ],
          "name": "stdout"
        },
        {
          "output_type": "stream",
          "text": [
            "\r 19%|█▊        | 13/70 [03:01<17:20, 18.26s/it]"
          ],
          "name": "stderr"
        },
        {
          "output_type": "stream",
          "text": [
            "Train on 72644 samples\n",
            "72644/72644 [==============================] - 17s 240us/sample - loss: 0.6812 - binary_accuracy: 0.5604\n"
          ],
          "name": "stdout"
        },
        {
          "output_type": "stream",
          "text": [
            "\r 20%|██        | 14/70 [03:19<16:58, 18.18s/it]"
          ],
          "name": "stderr"
        },
        {
          "output_type": "stream",
          "text": [
            "Train on 66016 samples\n",
            "66016/66016 [==============================] - 17s 250us/sample - loss: 0.6804 - binary_accuracy: 0.5642\n"
          ],
          "name": "stdout"
        },
        {
          "output_type": "stream",
          "text": [
            "\r 21%|██▏       | 15/70 [03:36<16:21, 17.85s/it]"
          ],
          "name": "stderr"
        },
        {
          "output_type": "stream",
          "text": [
            "Train on 59890 samples\n",
            "59890/59890 [==============================] - 16s 264us/sample - loss: 0.6808 - binary_accuracy: 0.5599\n"
          ],
          "name": "stdout"
        },
        {
          "output_type": "stream",
          "text": [
            "\r 23%|██▎       | 16/70 [03:53<15:39, 17.39s/it]"
          ],
          "name": "stderr"
        },
        {
          "output_type": "stream",
          "text": [
            "Train on 57038 samples\n",
            "57038/57038 [==============================] - 16s 286us/sample - loss: 0.6786 - binary_accuracy: 0.5691\n"
          ],
          "name": "stdout"
        },
        {
          "output_type": "stream",
          "text": [
            "\r 24%|██▍       | 17/70 [04:09<15:12, 17.22s/it]"
          ],
          "name": "stderr"
        },
        {
          "output_type": "stream",
          "text": [
            "Train on 50685 samples\n",
            "50685/50685 [==============================] - 15s 292us/sample - loss: 0.6802 - binary_accuracy: 0.5616\n"
          ],
          "name": "stdout"
        },
        {
          "output_type": "stream",
          "text": [
            "\r 26%|██▌       | 18/70 [04:25<14:25, 16.64s/it]"
          ],
          "name": "stderr"
        },
        {
          "output_type": "stream",
          "text": [
            "Train on 44913 samples\n",
            "44913/44913 [==============================] - 14s 303us/sample - loss: 0.6799 - binary_accuracy: 0.5621\n"
          ],
          "name": "stdout"
        },
        {
          "output_type": "stream",
          "text": [
            "\r 27%|██▋       | 19/70 [04:39<13:28, 15.86s/it]"
          ],
          "name": "stderr"
        },
        {
          "output_type": "stream",
          "text": [
            "Train on 38453 samples\n",
            "38453/38453 [==============================] - 12s 310us/sample - loss: 0.6807 - binary_accuracy: 0.5628\n"
          ],
          "name": "stdout"
        },
        {
          "output_type": "stream",
          "text": [
            "\r 29%|██▊       | 20/70 [04:51<12:19, 14.80s/it]"
          ],
          "name": "stderr"
        },
        {
          "output_type": "stream",
          "text": [
            "Train on 36115 samples\n",
            "36115/36115 [==============================] - 12s 319us/sample - loss: 0.6784 - binary_accuracy: 0.5664\n"
          ],
          "name": "stdout"
        },
        {
          "output_type": "stream",
          "text": [
            "\r 30%|███       | 21/70 [05:03<11:21, 13.92s/it]"
          ],
          "name": "stderr"
        },
        {
          "output_type": "stream",
          "text": [
            "Train on 33275 samples\n",
            "33275/33275 [==============================] - 11s 334us/sample - loss: 0.6761 - binary_accuracy: 0.5755\n"
          ],
          "name": "stdout"
        },
        {
          "output_type": "stream",
          "text": [
            "\r 31%|███▏      | 22/70 [05:14<10:32, 13.18s/it]"
          ],
          "name": "stderr"
        },
        {
          "output_type": "stream",
          "text": [
            "Train on 29218 samples\n",
            "29218/29218 [==============================] - 10s 345us/sample - loss: 0.6778 - binary_accuracy: 0.5669\n"
          ],
          "name": "stdout"
        },
        {
          "output_type": "stream",
          "text": [
            "\r 33%|███▎      | 23/70 [05:25<09:40, 12.35s/it]"
          ],
          "name": "stderr"
        },
        {
          "output_type": "stream",
          "text": [
            "Train on 22814 samples\n",
            "22814/22814 [==============================] - 8s 354us/sample - loss: 0.6751 - binary_accuracy: 0.5775\n"
          ],
          "name": "stdout"
        },
        {
          "output_type": "stream",
          "text": [
            "\r 34%|███▍      | 24/70 [05:33<08:32, 11.14s/it]"
          ],
          "name": "stderr"
        },
        {
          "output_type": "stream",
          "text": [
            "Train on 21054 samples\n",
            "21054/21054 [==============================] - 8s 363us/sample - loss: 0.6755 - binary_accuracy: 0.5749\n"
          ],
          "name": "stdout"
        },
        {
          "output_type": "stream",
          "text": [
            "\r 36%|███▌      | 25/70 [05:41<07:37, 10.17s/it]"
          ],
          "name": "stderr"
        },
        {
          "output_type": "stream",
          "text": [
            "Train on 17979 samples\n",
            "17979/17979 [==============================] - 7s 379us/sample - loss: 0.6745 - binary_accuracy: 0.5802\n"
          ],
          "name": "stdout"
        },
        {
          "output_type": "stream",
          "text": [
            "\r 37%|███▋      | 26/70 [05:48<06:46,  9.23s/it]"
          ],
          "name": "stderr"
        },
        {
          "output_type": "stream",
          "text": [
            "Train on 16619 samples\n",
            "16619/16619 [==============================] - 6s 391us/sample - loss: 0.6733 - binary_accuracy: 0.5772\n"
          ],
          "name": "stdout"
        },
        {
          "output_type": "stream",
          "text": [
            "\r 39%|███▊      | 27/70 [05:55<06:04,  8.47s/it]"
          ],
          "name": "stderr"
        },
        {
          "output_type": "stream",
          "text": [
            "Train on 13743 samples\n",
            "13743/13743 [==============================] - 6s 403us/sample - loss: 0.6771 - binary_accuracy: 0.5695\n"
          ],
          "name": "stdout"
        },
        {
          "output_type": "stream",
          "text": [
            "\r 40%|████      | 28/70 [06:00<05:20,  7.64s/it]"
          ],
          "name": "stderr"
        },
        {
          "output_type": "stream",
          "text": [
            "Train on 12727 samples\n",
            "12727/12727 [==============================] - 5s 419us/sample - loss: 0.6680 - binary_accuracy: 0.5854\n"
          ],
          "name": "stdout"
        },
        {
          "output_type": "stream",
          "text": [
            "\r 41%|████▏     | 29/70 [06:06<04:46,  7.00s/it]"
          ],
          "name": "stderr"
        },
        {
          "output_type": "stream",
          "text": [
            "Train on 10515 samples\n",
            "10515/10515 [==============================] - 4s 426us/sample - loss: 0.6711 - binary_accuracy: 0.5850\n"
          ],
          "name": "stdout"
        },
        {
          "output_type": "stream",
          "text": [
            "\r 43%|████▎     | 30/70 [06:11<04:11,  6.29s/it]"
          ],
          "name": "stderr"
        },
        {
          "output_type": "stream",
          "text": [
            "Train on 9878 samples\n",
            "9878/9878 [==============================] - 4s 443us/sample - loss: 0.6589 - binary_accuracy: 0.5858\n"
          ],
          "name": "stdout"
        },
        {
          "output_type": "stream",
          "text": [
            "\r 44%|████▍     | 31/70 [06:15<03:44,  5.75s/it]"
          ],
          "name": "stderr"
        },
        {
          "output_type": "stream",
          "text": [
            "Train on 8527 samples\n",
            "8527/8527 [==============================] - 4s 454us/sample - loss: 0.6722 - binary_accuracy: 0.5851\n"
          ],
          "name": "stdout"
        },
        {
          "output_type": "stream",
          "text": [
            "\r 46%|████▌     | 32/70 [06:19<03:18,  5.23s/it]"
          ],
          "name": "stderr"
        },
        {
          "output_type": "stream",
          "text": [
            "Train on 6310 samples\n",
            "6310/6310 [==============================] - 3s 474us/sample - loss: 0.6708 - binary_accuracy: 0.5976\n"
          ],
          "name": "stdout"
        },
        {
          "output_type": "stream",
          "text": [
            "\r 47%|████▋     | 33/70 [06:22<02:49,  4.58s/it]"
          ],
          "name": "stderr"
        },
        {
          "output_type": "stream",
          "text": [
            "Train on 6957 samples\n",
            "6957/6957 [==============================] - 3s 469us/sample - loss: 0.6699 - binary_accuracy: 0.5948\n"
          ],
          "name": "stdout"
        },
        {
          "output_type": "stream",
          "text": [
            "\r 49%|████▊     | 34/70 [06:25<02:31,  4.22s/it]"
          ],
          "name": "stderr"
        },
        {
          "output_type": "stream",
          "text": [
            "Train on 4666 samples\n",
            "4666/4666 [==============================] - 2s 477us/sample - loss: 0.6794 - binary_accuracy: 0.5619\n"
          ],
          "name": "stdout"
        },
        {
          "output_type": "stream",
          "text": [
            "\r 50%|█████     | 35/70 [06:28<02:07,  3.64s/it]"
          ],
          "name": "stderr"
        },
        {
          "output_type": "stream",
          "text": [
            "Train on 5188 samples\n",
            "5188/5188 [==============================] - 3s 503us/sample - loss: 0.6687 - binary_accuracy: 0.5871\n"
          ],
          "name": "stdout"
        },
        {
          "output_type": "stream",
          "text": [
            "\r 51%|█████▏    | 36/70 [06:30<01:54,  3.36s/it]"
          ],
          "name": "stderr"
        },
        {
          "output_type": "stream",
          "text": [
            "Train on 4116 samples\n",
            "4116/4116 [==============================] - 2s 524us/sample - loss: 0.6660 - binary_accuracy: 0.6023\n"
          ],
          "name": "stdout"
        },
        {
          "output_type": "stream",
          "text": [
            "\r 53%|█████▎    | 37/70 [06:33<01:39,  3.02s/it]"
          ],
          "name": "stderr"
        },
        {
          "output_type": "stream",
          "text": [
            "Train on 3247 samples\n",
            "3247/3247 [==============================] - 2s 527us/sample - loss: 0.6851 - binary_accuracy: 0.5553\n"
          ],
          "name": "stdout"
        },
        {
          "output_type": "stream",
          "text": [
            "\r 54%|█████▍    | 38/70 [06:34<01:24,  2.64s/it]"
          ],
          "name": "stderr"
        },
        {
          "output_type": "stream",
          "text": [
            "Train on 2970 samples\n",
            "2970/2970 [==============================] - 2s 528us/sample - loss: 0.6737 - binary_accuracy: 0.5710\n"
          ],
          "name": "stdout"
        },
        {
          "output_type": "stream",
          "text": [
            "\r 56%|█████▌    | 39/70 [06:36<01:12,  2.34s/it]"
          ],
          "name": "stderr"
        },
        {
          "output_type": "stream",
          "text": [
            "Train on 2594 samples\n",
            "2594/2594 [==============================] - 1s 538us/sample - loss: 0.6689 - binary_accuracy: 0.5906\n"
          ],
          "name": "stdout"
        },
        {
          "output_type": "stream",
          "text": [
            "\r 57%|█████▋    | 40/70 [06:38<01:02,  2.07s/it]"
          ],
          "name": "stderr"
        },
        {
          "output_type": "stream",
          "text": [
            "Train on 2445 samples\n",
            "2445/2445 [==============================] - 1s 562us/sample - loss: 0.6897 - binary_accuracy: 0.5603\n"
          ],
          "name": "stdout"
        },
        {
          "output_type": "stream",
          "text": [
            "\r 59%|█████▊    | 41/70 [06:39<00:54,  1.87s/it]"
          ],
          "name": "stderr"
        },
        {
          "output_type": "stream",
          "text": [
            "Train on 1495 samples\n",
            "1495/1495 [==============================] - 1s 564us/sample - loss: 0.6774 - binary_accuracy: 0.5799\n"
          ],
          "name": "stdout"
        },
        {
          "output_type": "stream",
          "text": [
            "\r 60%|██████    | 42/70 [06:40<00:44,  1.57s/it]"
          ],
          "name": "stderr"
        },
        {
          "output_type": "stream",
          "text": [
            "Train on 1476 samples\n",
            "1476/1476 [==============================] - 1s 590us/sample - loss: 0.6844 - binary_accuracy: 0.5481\n"
          ],
          "name": "stdout"
        },
        {
          "output_type": "stream",
          "text": [
            "\r 61%|██████▏   | 43/70 [06:41<00:37,  1.38s/it]"
          ],
          "name": "stderr"
        },
        {
          "output_type": "stream",
          "text": [
            "Train on 1936 samples\n",
            "1936/1936 [==============================] - 1s 596us/sample - loss: 0.6759 - binary_accuracy: 0.5682\n"
          ],
          "name": "stdout"
        },
        {
          "output_type": "stream",
          "text": [
            "\r 63%|██████▎   | 44/70 [06:42<00:34,  1.32s/it]"
          ],
          "name": "stderr"
        },
        {
          "output_type": "stream",
          "text": [
            "Train on 1441 samples\n",
            "1441/1441 [==============================] - 1s 600us/sample - loss: 0.6635 - binary_accuracy: 0.6107\n"
          ],
          "name": "stdout"
        },
        {
          "output_type": "stream",
          "text": [
            "\r 64%|██████▍   | 45/70 [06:43<00:29,  1.19s/it]"
          ],
          "name": "stderr"
        },
        {
          "output_type": "stream",
          "text": [
            "Train on 1072 samples\n",
            "1072/1072 [==============================] - 1s 606us/sample - loss: 0.6869 - binary_accuracy: 0.5485\n"
          ],
          "name": "stdout"
        },
        {
          "output_type": "stream",
          "text": [
            "\r 66%|██████▌   | 46/70 [06:44<00:24,  1.04s/it]"
          ],
          "name": "stderr"
        },
        {
          "output_type": "stream",
          "text": [
            "Train on 841 samples\n",
            "841/841 [==============================] - 1s 662us/sample - loss: 0.6753 - binary_accuracy: 0.5803\n"
          ],
          "name": "stdout"
        },
        {
          "output_type": "stream",
          "text": [
            "\r 67%|██████▋   | 47/70 [06:44<00:20,  1.11it/s]"
          ],
          "name": "stderr"
        },
        {
          "output_type": "stream",
          "text": [
            "Train on 925 samples\n",
            "925/925 [==============================] - 1s 660us/sample - loss: 0.6593 - binary_accuracy: 0.5827\n"
          ],
          "name": "stdout"
        },
        {
          "output_type": "stream",
          "text": [
            "\r 69%|██████▊   | 48/70 [06:45<00:18,  1.22it/s]"
          ],
          "name": "stderr"
        },
        {
          "output_type": "stream",
          "text": [
            "Train on 820 samples\n",
            "820/820 [==============================] - 1s 670us/sample - loss: 0.6718 - binary_accuracy: 0.5805\n"
          ],
          "name": "stdout"
        },
        {
          "output_type": "stream",
          "text": [
            "\r 70%|███████   | 49/70 [06:45<00:15,  1.34it/s]"
          ],
          "name": "stderr"
        },
        {
          "output_type": "stream",
          "text": [
            "Train on 574 samples\n",
            "574/574 [==============================] - 0s 659us/sample - loss: 0.6620 - binary_accuracy: 0.5714\n"
          ],
          "name": "stdout"
        },
        {
          "output_type": "stream",
          "text": [
            "\r 71%|███████▏  | 50/70 [06:46<00:12,  1.56it/s]"
          ],
          "name": "stderr"
        },
        {
          "output_type": "stream",
          "text": [
            "Train on 1086 samples\n",
            "1086/1086 [==============================] - 1s 684us/sample - loss: 0.6534 - binary_accuracy: 0.6455\n"
          ],
          "name": "stdout"
        },
        {
          "output_type": "stream",
          "text": [
            "\r 73%|███████▎  | 51/70 [06:46<00:12,  1.47it/s]"
          ],
          "name": "stderr"
        },
        {
          "output_type": "stream",
          "text": [
            "Train on 396 samples\n",
            "396/396 [==============================] - 0s 763us/sample - loss: 0.6705 - binary_accuracy: 0.6061\n"
          ],
          "name": "stdout"
        },
        {
          "output_type": "stream",
          "text": [
            "\r 74%|███████▍  | 52/70 [06:47<00:10,  1.75it/s]"
          ],
          "name": "stderr"
        },
        {
          "output_type": "stream",
          "text": [
            "Train on 582 samples\n",
            "582/582 [==============================] - 0s 762us/sample - loss: 0.6691 - binary_accuracy: 0.6065\n"
          ],
          "name": "stdout"
        },
        {
          "output_type": "stream",
          "text": [
            "\r 76%|███████▌  | 53/70 [06:47<00:09,  1.85it/s]"
          ],
          "name": "stderr"
        },
        {
          "output_type": "stream",
          "text": [
            "Train on 423 samples\n",
            "423/423 [==============================] - 0s 736us/sample - loss: 0.6867 - binary_accuracy: 0.5603\n"
          ],
          "name": "stdout"
        },
        {
          "output_type": "stream",
          "text": [
            "\r 77%|███████▋  | 54/70 [06:48<00:07,  2.10it/s]"
          ],
          "name": "stderr"
        },
        {
          "output_type": "stream",
          "text": [
            "Train on 342 samples\n",
            "342/342 [==============================] - 0s 788us/sample - loss: 0.6726 - binary_accuracy: 0.5789\n"
          ],
          "name": "stdout"
        },
        {
          "output_type": "stream",
          "text": [
            "\r 79%|███████▊  | 55/70 [06:48<00:06,  2.39it/s]"
          ],
          "name": "stderr"
        },
        {
          "output_type": "stream",
          "text": [
            "Train on 242 samples\n",
            "242/242 [==============================] - 0s 759us/sample - loss: 0.6874 - binary_accuracy: 0.5207\n"
          ],
          "name": "stdout"
        },
        {
          "output_type": "stream",
          "text": [
            "\r 80%|████████  | 56/70 [06:48<00:04,  2.84it/s]"
          ],
          "name": "stderr"
        },
        {
          "output_type": "stream",
          "text": [
            "Train on 263 samples\n",
            "263/263 [==============================] - 0s 860us/sample - loss: 0.7178 - binary_accuracy: 0.4905\n"
          ],
          "name": "stdout"
        },
        {
          "output_type": "stream",
          "text": [
            "\r 81%|████████▏ | 57/70 [06:48<00:04,  3.14it/s]"
          ],
          "name": "stderr"
        },
        {
          "output_type": "stream",
          "text": [
            "Train on 152 samples\n",
            "152/152 [==============================] - 0s 926us/sample - loss: 0.6703 - binary_accuracy: 0.6645\n"
          ],
          "name": "stdout"
        },
        {
          "output_type": "stream",
          "text": [
            "\r 83%|████████▎ | 58/70 [06:48<00:03,  3.72it/s]"
          ],
          "name": "stderr"
        },
        {
          "output_type": "stream",
          "text": [
            "Train on 172 samples\n",
            "172/172 [==============================] - 0s 824us/sample - loss: 0.6416 - binary_accuracy: 0.6395\n"
          ],
          "name": "stdout"
        },
        {
          "output_type": "stream",
          "text": [
            "\r 84%|████████▍ | 59/70 [06:49<00:02,  4.27it/s]"
          ],
          "name": "stderr"
        },
        {
          "output_type": "stream",
          "text": [
            "Train on 196 samples\n",
            "196/196 [==============================] - 0s 1ms/sample - loss: 0.6789 - binary_accuracy: 0.6276\n"
          ],
          "name": "stdout"
        },
        {
          "output_type": "stream",
          "text": [
            "\r 86%|████████▌ | 60/70 [06:49<00:02,  4.39it/s]"
          ],
          "name": "stderr"
        },
        {
          "output_type": "stream",
          "text": [
            "Train on 207 samples\n",
            "207/207 [==============================] - 0s 916us/sample - loss: 0.6791 - binary_accuracy: 0.5556\n"
          ],
          "name": "stdout"
        },
        {
          "output_type": "stream",
          "text": [
            "\r 87%|████████▋ | 61/70 [06:49<00:01,  4.55it/s]"
          ],
          "name": "stderr"
        },
        {
          "output_type": "stream",
          "text": [
            "Train on 151 samples\n",
            "151/151 [==============================] - 0s 1ms/sample - loss: 0.6084 - binary_accuracy: 0.7483\n"
          ],
          "name": "stdout"
        },
        {
          "output_type": "stream",
          "text": [
            "\r 89%|████████▊ | 62/70 [06:49<00:01,  4.93it/s]"
          ],
          "name": "stderr"
        },
        {
          "output_type": "stream",
          "text": [
            "Train on 310 samples\n",
            "310/310 [==============================] - 0s 812us/sample - loss: 0.6902 - binary_accuracy: 0.5419\n"
          ],
          "name": "stdout"
        },
        {
          "output_type": "stream",
          "text": [
            "\r 90%|█████████ | 63/70 [06:49<00:01,  4.51it/s]"
          ],
          "name": "stderr"
        },
        {
          "output_type": "stream",
          "text": [
            "Train on 382 samples\n",
            "382/382 [==============================] - 0s 819us/sample - loss: 0.6917 - binary_accuracy: 0.5079\n"
          ],
          "name": "stdout"
        },
        {
          "output_type": "stream",
          "text": [
            "\r 91%|█████████▏| 64/70 [06:50<00:01,  3.94it/s]"
          ],
          "name": "stderr"
        },
        {
          "output_type": "stream",
          "text": [
            "Train on 110 samples\n",
            "110/110 [==============================] - 0s 969us/sample - loss: 0.6785 - binary_accuracy: 0.5727\n"
          ],
          "name": "stdout"
        },
        {
          "output_type": "stream",
          "text": [
            "\r 93%|█████████▎| 65/70 [06:50<00:01,  4.70it/s]"
          ],
          "name": "stderr"
        },
        {
          "output_type": "stream",
          "text": [
            "Train on 98 samples\n",
            "98/98 [==============================] - 0s 1ms/sample - loss: 0.6935 - binary_accuracy: 0.5306\n"
          ],
          "name": "stdout"
        },
        {
          "output_type": "stream",
          "text": [
            "\r 94%|█████████▍| 66/70 [06:50<00:00,  5.38it/s]"
          ],
          "name": "stderr"
        },
        {
          "output_type": "stream",
          "text": [
            "Train on 164 samples\n",
            "164/164 [==============================] - 0s 1ms/sample - loss: 0.6917 - binary_accuracy: 0.5366\n"
          ],
          "name": "stdout"
        },
        {
          "output_type": "stream",
          "text": [
            "\r 96%|█████████▌| 67/70 [06:50<00:00,  5.43it/s]"
          ],
          "name": "stderr"
        },
        {
          "output_type": "stream",
          "text": [
            "Train on 78 samples\n",
            "78/78 [==============================] - 0s 1ms/sample - loss: 0.6811 - binary_accuracy: 0.6410\n"
          ],
          "name": "stdout"
        },
        {
          "output_type": "stream",
          "text": [
            "\r 97%|█████████▋| 68/70 [06:50<00:00,  6.05it/s]"
          ],
          "name": "stderr"
        },
        {
          "output_type": "stream",
          "text": [
            "Train on 32 samples\n",
            "32/32 [==============================] - 0s 2ms/sample - loss: 0.6881 - binary_accuracy: 0.5312\n",
            "Train on 30 samples\n",
            "30/30 [==============================] - 0s 2ms/sample - loss: 0.6950 - binary_accuracy: 0.4333\n"
          ],
          "name": "stdout"
        },
        {
          "output_type": "stream",
          "text": [
            "100%|██████████| 70/70 [06:50<00:00,  5.87s/it]"
          ],
          "name": "stderr"
        },
        {
          "output_type": "stream",
          "text": [
            "\n",
            "\n",
            "train_loss:  0.677301700906623\n",
            "train_acc:  0.57078537940979\n",
            "\n",
            "\n",
            "Validation_epoch_10\n",
            "\n"
          ],
          "name": "stdout"
        },
        {
          "output_type": "stream",
          "text": [
            "\n",
            "\r  0%|          | 0/54 [00:00<?, ?it/s]"
          ],
          "name": "stderr"
        },
        {
          "output_type": "stream",
          "text": [
            "5471/5471 [==============================] - 0s 32us/sample - loss: 0.6842 - binary_accuracy: 0.5674\n"
          ],
          "name": "stdout"
        },
        {
          "output_type": "stream",
          "text": [
            "\r  2%|▏         | 1/54 [00:00<00:12,  4.10it/s]"
          ],
          "name": "stderr"
        },
        {
          "output_type": "stream",
          "text": [
            "6614/6614 [==============================] - 0s 38us/sample - loss: 0.6824 - binary_accuracy: 0.5685\n"
          ],
          "name": "stdout"
        },
        {
          "output_type": "stream",
          "text": [
            "\r  4%|▎         | 2/54 [00:00<00:13,  3.98it/s]"
          ],
          "name": "stderr"
        },
        {
          "output_type": "stream",
          "text": [
            "8747/8747 [==============================] - 0s 42us/sample - loss: 0.6870 - binary_accuracy: 0.5569\n"
          ],
          "name": "stdout"
        },
        {
          "output_type": "stream",
          "text": [
            "\r  6%|▌         | 3/54 [00:00<00:15,  3.38it/s]"
          ],
          "name": "stderr"
        },
        {
          "output_type": "stream",
          "text": [
            "10284/10284 [==============================] - 0s 47us/sample - loss: 0.6887 - binary_accuracy: 0.5373\n"
          ],
          "name": "stdout"
        },
        {
          "output_type": "stream",
          "text": [
            "\r  7%|▋         | 4/54 [00:01<00:18,  2.75it/s]"
          ],
          "name": "stderr"
        },
        {
          "output_type": "stream",
          "text": [
            "10419/10419 [==============================] - 1s 51us/sample - loss: 0.6897 - binary_accuracy: 0.5339\n"
          ],
          "name": "stdout"
        },
        {
          "output_type": "stream",
          "text": [
            "\r  9%|▉         | 5/54 [00:02<00:20,  2.35it/s]"
          ],
          "name": "stderr"
        },
        {
          "output_type": "stream",
          "text": [
            "12908/12908 [==============================] - 1s 55us/sample - loss: 0.6910 - binary_accuracy: 0.5351\n"
          ],
          "name": "stdout"
        },
        {
          "output_type": "stream",
          "text": [
            "\r 11%|█         | 6/54 [00:02<00:25,  1.89it/s]"
          ],
          "name": "stderr"
        },
        {
          "output_type": "stream",
          "text": [
            "11332/11332 [==============================] - 1s 62us/sample - loss: 0.6934 - binary_accuracy: 0.5179\n"
          ],
          "name": "stdout"
        },
        {
          "output_type": "stream",
          "text": [
            "\r 13%|█▎        | 7/54 [00:03<00:28,  1.68it/s]"
          ],
          "name": "stderr"
        },
        {
          "output_type": "stream",
          "text": [
            "11960/11960 [==============================] - 1s 66us/sample - loss: 0.6923 - binary_accuracy: 0.5324\n"
          ],
          "name": "stdout"
        },
        {
          "output_type": "stream",
          "text": [
            "\r 15%|█▍        | 8/54 [00:04<00:30,  1.49it/s]"
          ],
          "name": "stderr"
        },
        {
          "output_type": "stream",
          "text": [
            "12329/12329 [==============================] - 1s 71us/sample - loss: 0.6964 - binary_accuracy: 0.5198\n"
          ],
          "name": "stdout"
        },
        {
          "output_type": "stream",
          "text": [
            "\r 17%|█▋        | 9/54 [00:05<00:33,  1.33it/s]"
          ],
          "name": "stderr"
        },
        {
          "output_type": "stream",
          "text": [
            "11554/11554 [==============================] - 1s 74us/sample - loss: 0.6961 - binary_accuracy: 0.5227\n"
          ],
          "name": "stdout"
        },
        {
          "output_type": "stream",
          "text": [
            "\r 19%|█▊        | 10/54 [00:06<00:35,  1.24it/s]"
          ],
          "name": "stderr"
        },
        {
          "output_type": "stream",
          "text": [
            "11578/11578 [==============================] - 1s 77us/sample - loss: 0.6895 - binary_accuracy: 0.5415\n"
          ],
          "name": "stdout"
        },
        {
          "output_type": "stream",
          "text": [
            "\r 20%|██        | 11/54 [00:07<00:36,  1.17it/s]"
          ],
          "name": "stderr"
        },
        {
          "output_type": "stream",
          "text": [
            "9851/9851 [==============================] - 1s 82us/sample - loss: 0.6904 - binary_accuracy: 0.5380\n"
          ],
          "name": "stdout"
        },
        {
          "output_type": "stream",
          "text": [
            "\r 22%|██▏       | 12/54 [00:08<00:36,  1.16it/s]"
          ],
          "name": "stderr"
        },
        {
          "output_type": "stream",
          "text": [
            "9324/9324 [==============================] - 1s 86us/sample - loss: 0.6885 - binary_accuracy: 0.5353\n"
          ],
          "name": "stdout"
        },
        {
          "output_type": "stream",
          "text": [
            "\r 24%|██▍       | 13/54 [00:08<00:35,  1.16it/s]"
          ],
          "name": "stderr"
        },
        {
          "output_type": "stream",
          "text": [
            "8349/8349 [==============================] - 1s 88us/sample - loss: 0.6949 - binary_accuracy: 0.5281\n"
          ],
          "name": "stdout"
        },
        {
          "output_type": "stream",
          "text": [
            "\r 26%|██▌       | 14/54 [00:09<00:33,  1.19it/s]"
          ],
          "name": "stderr"
        },
        {
          "output_type": "stream",
          "text": [
            "8035/8035 [==============================] - 1s 92us/sample - loss: 0.6914 - binary_accuracy: 0.5391\n"
          ],
          "name": "stdout"
        },
        {
          "output_type": "stream",
          "text": [
            "\r 28%|██▊       | 15/54 [00:10<00:32,  1.21it/s]"
          ],
          "name": "stderr"
        },
        {
          "output_type": "stream",
          "text": [
            "7249/7249 [==============================] - 1s 98us/sample - loss: 0.6939 - binary_accuracy: 0.5266\n"
          ],
          "name": "stdout"
        },
        {
          "output_type": "stream",
          "text": [
            "\r 30%|██▉       | 16/54 [00:11<00:30,  1.23it/s]"
          ],
          "name": "stderr"
        },
        {
          "output_type": "stream",
          "text": [
            "7226/7226 [==============================] - 1s 100us/sample - loss: 0.6959 - binary_accuracy: 0.5374\n"
          ],
          "name": "stdout"
        },
        {
          "output_type": "stream",
          "text": [
            "\r 31%|███▏      | 17/54 [00:12<00:29,  1.25it/s]"
          ],
          "name": "stderr"
        },
        {
          "output_type": "stream",
          "text": [
            "5605/5605 [==============================] - 1s 106us/sample - loss: 0.6970 - binary_accuracy: 0.5360\n"
          ],
          "name": "stdout"
        },
        {
          "output_type": "stream",
          "text": [
            "\r 33%|███▎      | 18/54 [00:12<00:27,  1.33it/s]"
          ],
          "name": "stderr"
        },
        {
          "output_type": "stream",
          "text": [
            "5821/5821 [==============================] - 1s 109us/sample - loss: 0.6893 - binary_accuracy: 0.5441\n"
          ],
          "name": "stdout"
        },
        {
          "output_type": "stream",
          "text": [
            "\r 35%|███▌      | 19/54 [00:13<00:25,  1.36it/s]"
          ],
          "name": "stderr"
        },
        {
          "output_type": "stream",
          "text": [
            "4713/4713 [==============================] - 1s 112us/sample - loss: 0.6948 - binary_accuracy: 0.5438\n"
          ],
          "name": "stdout"
        },
        {
          "output_type": "stream",
          "text": [
            "\r 37%|███▋      | 20/54 [00:13<00:23,  1.46it/s]"
          ],
          "name": "stderr"
        },
        {
          "output_type": "stream",
          "text": [
            "4769/4769 [==============================] - 1s 117us/sample - loss: 0.6925 - binary_accuracy: 0.5515\n"
          ],
          "name": "stdout"
        },
        {
          "output_type": "stream",
          "text": [
            "\r 39%|███▉      | 21/54 [00:14<00:21,  1.51it/s]"
          ],
          "name": "stderr"
        },
        {
          "output_type": "stream",
          "text": [
            "3795/3795 [==============================] - 0s 117us/sample - loss: 0.6903 - binary_accuracy: 0.5315\n"
          ],
          "name": "stdout"
        },
        {
          "output_type": "stream",
          "text": [
            "\r 41%|████      | 22/54 [00:15<00:19,  1.64it/s]"
          ],
          "name": "stderr"
        },
        {
          "output_type": "stream",
          "text": [
            "3449/3449 [==============================] - 0s 123us/sample - loss: 0.6943 - binary_accuracy: 0.5283\n"
          ],
          "name": "stdout"
        },
        {
          "output_type": "stream",
          "text": [
            "\r 43%|████▎     | 23/54 [00:15<00:17,  1.77it/s]"
          ],
          "name": "stderr"
        },
        {
          "output_type": "stream",
          "text": [
            "2557/2557 [==============================] - 0s 128us/sample - loss: 0.6969 - binary_accuracy: 0.5295\n"
          ],
          "name": "stdout"
        },
        {
          "output_type": "stream",
          "text": [
            "\r 44%|████▍     | 24/54 [00:15<00:15,  1.99it/s]"
          ],
          "name": "stderr"
        },
        {
          "output_type": "stream",
          "text": [
            "2674/2674 [==============================] - 0s 126us/sample - loss: 0.6845 - binary_accuracy: 0.5539\n"
          ],
          "name": "stdout"
        },
        {
          "output_type": "stream",
          "text": [
            "\r 46%|████▋     | 25/54 [00:16<00:13,  2.16it/s]"
          ],
          "name": "stderr"
        },
        {
          "output_type": "stream",
          "text": [
            "1900/1900 [==============================] - 0s 132us/sample - loss: 0.6879 - binary_accuracy: 0.5574\n"
          ],
          "name": "stdout"
        },
        {
          "output_type": "stream",
          "text": [
            "\r 48%|████▊     | 26/54 [00:16<00:11,  2.46it/s]"
          ],
          "name": "stderr"
        },
        {
          "output_type": "stream",
          "text": [
            "2217/2217 [==============================] - 0s 139us/sample - loss: 0.6926 - binary_accuracy: 0.5282\n"
          ],
          "name": "stdout"
        },
        {
          "output_type": "stream",
          "text": [
            "\r 50%|█████     | 27/54 [00:16<00:10,  2.59it/s]"
          ],
          "name": "stderr"
        },
        {
          "output_type": "stream",
          "text": [
            "1660/1660 [==============================] - 0s 141us/sample - loss: 0.7038 - binary_accuracy: 0.5337\n"
          ],
          "name": "stdout"
        },
        {
          "output_type": "stream",
          "text": [
            "\r 52%|█████▏    | 28/54 [00:17<00:09,  2.87it/s]"
          ],
          "name": "stderr"
        },
        {
          "output_type": "stream",
          "text": [
            "1472/1472 [==============================] - 0s 147us/sample - loss: 0.6823 - binary_accuracy: 0.5401\n"
          ],
          "name": "stdout"
        },
        {
          "output_type": "stream",
          "text": [
            "\r 54%|█████▎    | 29/54 [00:17<00:07,  3.17it/s]"
          ],
          "name": "stderr"
        },
        {
          "output_type": "stream",
          "text": [
            "1435/1435 [==============================] - 0s 139us/sample - loss: 0.6896 - binary_accuracy: 0.5443\n"
          ],
          "name": "stdout"
        },
        {
          "output_type": "stream",
          "text": [
            "\r 56%|█████▌    | 30/54 [00:17<00:06,  3.47it/s]"
          ],
          "name": "stderr"
        },
        {
          "output_type": "stream",
          "text": [
            "719/719 [==============================] - 0s 155us/sample - loss: 0.6921 - binary_accuracy: 0.5480\n"
          ],
          "name": "stdout"
        },
        {
          "output_type": "stream",
          "text": [
            "\r 57%|█████▋    | 31/54 [00:17<00:05,  4.16it/s]"
          ],
          "name": "stderr"
        },
        {
          "output_type": "stream",
          "text": [
            "892/892 [==============================] - 0s 157us/sample - loss: 0.6850 - binary_accuracy: 0.5348\n"
          ],
          "name": "stdout"
        },
        {
          "output_type": "stream",
          "text": [
            "\r 59%|█████▉    | 32/54 [00:17<00:04,  4.63it/s]"
          ],
          "name": "stderr"
        },
        {
          "output_type": "stream",
          "text": [
            "981/981 [==============================] - 0s 155us/sample - loss: 0.7002 - binary_accuracy: 0.5341\n"
          ],
          "name": "stdout"
        },
        {
          "output_type": "stream",
          "text": [
            "\r 61%|██████    | 33/54 [00:18<00:04,  4.94it/s]"
          ],
          "name": "stderr"
        },
        {
          "output_type": "stream",
          "text": [
            "581/581 [==============================] - 0s 157us/sample - loss: 0.7039 - binary_accuracy: 0.4991\n"
          ],
          "name": "stdout"
        },
        {
          "output_type": "stream",
          "text": [
            "\r 63%|██████▎   | 34/54 [00:18<00:03,  5.76it/s]"
          ],
          "name": "stderr"
        },
        {
          "output_type": "stream",
          "text": [
            "387/387 [==============================] - 0s 172us/sample - loss: 0.6907 - binary_accuracy: 0.5452\n",
            "503/503 [==============================] - 0s 175us/sample - loss: 0.6960 - binary_accuracy: 0.4911\n"
          ],
          "name": "stdout"
        },
        {
          "output_type": "stream",
          "text": [
            "\r 67%|██████▋   | 36/54 [00:18<00:02,  6.74it/s]"
          ],
          "name": "stderr"
        },
        {
          "output_type": "stream",
          "text": [
            "527/527 [==============================] - 0s 169us/sample - loss: 0.6810 - binary_accuracy: 0.5674\n"
          ],
          "name": "stdout"
        },
        {
          "output_type": "stream",
          "text": [
            "\r 69%|██████▊   | 37/54 [00:18<00:02,  7.41it/s]"
          ],
          "name": "stderr"
        },
        {
          "output_type": "stream",
          "text": [
            "436/436 [==============================] - 0s 181us/sample - loss: 0.7162 - binary_accuracy: 0.4427\n",
            "154/154 [==============================] - 0s 203us/sample - loss: 0.6854 - binary_accuracy: 0.5779\n"
          ],
          "name": "stdout"
        },
        {
          "output_type": "stream",
          "text": [
            "\r 72%|███████▏  | 39/54 [00:18<00:01,  8.74it/s]"
          ],
          "name": "stderr"
        },
        {
          "output_type": "stream",
          "text": [
            "475/475 [==============================] - 0s 176us/sample - loss: 0.6966 - binary_accuracy: 0.5347\n",
            "212/212 [==============================] - 0s 208us/sample - loss: 0.6937 - binary_accuracy: 0.5472\n"
          ],
          "name": "stdout"
        },
        {
          "output_type": "stream",
          "text": [
            "\r 76%|███████▌  | 41/54 [00:18<00:01,  9.72it/s]"
          ],
          "name": "stderr"
        },
        {
          "output_type": "stream",
          "text": [
            "131/131 [==============================] - 0s 200us/sample - loss: 0.6702 - binary_accuracy: 0.6107\n",
            "239/239 [==============================] - 0s 192us/sample - loss: 0.6920 - binary_accuracy: 0.5356\n",
            "59/59 [==============================] - 0s 254us/sample - loss: 0.6737 - binary_accuracy: 0.6271\n"
          ],
          "name": "stdout"
        },
        {
          "output_type": "stream",
          "text": [
            "\r 81%|████████▏ | 44/54 [00:18<00:00, 12.01it/s]"
          ],
          "name": "stderr"
        },
        {
          "output_type": "stream",
          "text": [
            "279/279 [==============================] - 0s 231us/sample - loss: 0.6977 - binary_accuracy: 0.5412\n",
            "136/136 [==============================] - 0s 236us/sample - loss: 0.7303 - binary_accuracy: 0.4853\n"
          ],
          "name": "stdout"
        },
        {
          "output_type": "stream",
          "text": [
            "\r 85%|████████▌ | 46/54 [00:18<00:00, 13.20it/s]"
          ],
          "name": "stderr"
        },
        {
          "output_type": "stream",
          "text": [
            "26/26 [==============================] - 0s 240us/sample - loss: 0.5844 - binary_accuracy: 0.7308\n",
            "205/205 [==============================] - 0s 266us/sample - loss: 0.6754 - binary_accuracy: 0.6244\n",
            "141/141 [==============================] - 0s 282us/sample - loss: 0.6817 - binary_accuracy: 0.5461\n"
          ],
          "name": "stdout"
        },
        {
          "output_type": "stream",
          "text": [
            "\r 91%|█████████ | 49/54 [00:19<00:00, 15.26it/s]"
          ],
          "name": "stderr"
        },
        {
          "output_type": "stream",
          "text": [
            "100/100 [==============================] - 0s 294us/sample - loss: 0.7030 - binary_accuracy: 0.4800\n",
            "77/77 [==============================] - 0s 284us/sample - loss: 0.7578 - binary_accuracy: 0.3247\n",
            "67/67 [==============================] - 0s 333us/sample - loss: 0.7635 - binary_accuracy: 0.5224\n",
            "52/52 [==============================] - 0s 339us/sample - loss: 0.6968 - binary_accuracy: 0.5577\n"
          ],
          "name": "stdout"
        },
        {
          "output_type": "stream",
          "text": [
            "\r 98%|█████████▊| 53/54 [00:19<00:00, 18.21it/s]"
          ],
          "name": "stderr"
        },
        {
          "output_type": "stream",
          "text": [
            "185/185 [==============================] - 0s 345us/sample - loss: 0.6996 - binary_accuracy: 0.4541\n"
          ],
          "name": "stdout"
        },
        {
          "output_type": "stream",
          "text": [
            "\r100%|██████████| 54/54 [00:19<00:00,  2.80it/s]"
          ],
          "name": "stderr"
        },
        {
          "output_type": "stream",
          "text": [
            "\n",
            "\n",
            "val_loss:  0.6927510624063304\n",
            "val_acc:  0.5374434938033422\n",
            "\n",
            "\n",
            "Target_metric\n",
            "\n"
          ],
          "name": "stdout"
        },
        {
          "output_type": "stream",
          "text": [
            "\n",
            "100%|██████████| 6605/6605 [02:43<00:00, 40.43it/s]\n"
          ],
          "name": "stderr"
        },
        {
          "output_type": "stream",
          "text": [
            "\n",
            "\n",
            "{1: 0.253444360333081, 2: 0.23179409538228615, 3: 0.22048952813525668, 4: 0.21282488014130713, 5: 0.2077302548574296, 6: 0.20429094120615462, 7: 0.20284722973216823, 8: 0.20096418658303578, 9: 0.19969831056318454, 10: 0.1988344868605922}\n",
            "{1: 0.04684824498070744, 2: 0.08391793665421737, 3: 0.11885337378674644, 4: 0.15073675439645165, 5: 0.1806147333424252, 6: 0.20847952986316098, 7: 0.23559645919289865, 8: 0.26099541614248567, 9: 0.28582977015923694, 10: 0.3095810025075203}\n",
            "\n",
            "\n"
          ],
          "name": "stdout"
        }
      ]
    },
    {
      "cell_type": "markdown",
      "metadata": {
        "id": "_rpOxsbUAbFk",
        "colab_type": "text"
      },
      "source": [
        "###Проверяем качество на тесте"
      ]
    },
    {
      "cell_type": "code",
      "metadata": {
        "id": "CSps3kYJO2Jt",
        "colab_type": "code",
        "colab": {
          "base_uri": "https://localhost:8080/",
          "height": 34
        },
        "outputId": "190e895b-5b7c-4fdb-f252-287252bc4250"
      },
      "source": [
        "precision_lstm = {}\n",
        "recall_lstm = {}\n",
        "for i in range(1, 11):\n",
        "  precision_lstm[i] = 0\n",
        "  recall_lstm[i] = 0\n",
        "\n",
        "total = 0\n",
        "\n",
        "for user_id, group_u in tqdm(new_test_set.groupby('user_id'), position=0):\n",
        "  \n",
        "  all_prod_set = prods_df[prods_df['user_id']==user_id].drop_duplicates(subset='product_id')\n",
        "  all_prod_set['product_id'] = all_prod_set['product_id'].apply(lambda x: token_to_id[x])\n",
        "  prod_set_features = all_prod_set['product_id'].values\n",
        "  \n",
        "  for order_id, group_o in group_u.groupby('order_id'):\n",
        "    prod_seq = list(map(lambda x: token_to_id[x], group_o['prev_seq'].values[0]))\n",
        "    #Купленные товары\n",
        "    bought = np.array(list(set(group_o['product_id'])))\n",
        "    \n",
        "    #Ищем товары, которые порекомендует сетка\n",
        "    inp_seq = np.zeros((prod_set_features.shape[0], len(prod_seq) + 1), dtype=int)\n",
        "    \n",
        "    for i in range(prod_set_features.shape[0]):\n",
        "      temp_arr = prod_seq + [prod_set_features[i]]\n",
        "      for j in range(len(prod_seq) + 1):\n",
        "        inp_seq[i, j] = temp_arr[j]\n",
        "        \n",
        "    preds = model.predict(inp_seq)[:, 1]\n",
        "    indexes = np.argsort(preds)[::-1]\n",
        "\n",
        "    for i in range(1, 11):\n",
        "      recommended_lstm = list(map(lambda x: id_to_token[x], prod_set_features[indexes[:i]]))\n",
        "      precision_lstm[i] += np.intersect1d(bought, recommended_lstm).shape[0]/len(recommended_lstm)\n",
        "      recall_lstm[i] += np.intersect1d(bought, recommended_lstm).shape[0]/len(bought)\n",
        "\n",
        "    total += 1\n",
        "\n",
        "for i in range(1, 11):\n",
        "  precision_lstm[i] = precision_lstm[i]/total\n",
        "  recall_lstm[i] = recall_lstm[i]/total\n",
        "\n",
        "metrics[it] = [precision_lstm, recall_lstm]\n",
        "  \n",
        "with open(path + 'simple_lstm_metrics.pkl', 'wb') as f:\n",
        "  pkl.dump(metrics, f)\n",
        "\n",
        "print('\\n')\n",
        "print(precision_lstm)\n",
        "print(recall_lstm)\n",
        "print('\\n')"
      ],
      "execution_count": null,
      "outputs": [
        {
          "output_type": "stream",
          "text": [
            "100%|██████████| 6605/6605 [02:26<00:00, 45.03it/s]\n"
          ],
          "name": "stderr"
        }
      ]
    },
    {
      "cell_type": "code",
      "metadata": {
        "id": "ygjREMfP1vr_",
        "colab_type": "code",
        "colab": {}
      },
      "source": [
        ""
      ],
      "execution_count": null,
      "outputs": []
    }
  ]
}