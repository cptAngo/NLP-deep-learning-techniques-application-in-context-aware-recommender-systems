{
  "nbformat": 4,
  "nbformat_minor": 0,
  "metadata": {
    "colab": {
      "name": "FastText.ipynb",
      "provenance": [],
      "collapsed_sections": [
        "B_j_J5lwlzjn",
        "X-VWfBFOBMkg",
        "QMUde7x6F5Xd"
      ],
      "machine_shape": "hm",
      "authorship_tag": "ABX9TyOEBYQfi5+U+mLzcMBj+Dta"
    },
    "kernelspec": {
      "name": "python3",
      "display_name": "Python 3"
    }
  },
  "cells": [
    {
      "cell_type": "code",
      "metadata": {
        "id": "9DRr0ISC3ZsR",
        "colab_type": "code",
        "colab": {
          "base_uri": "https://localhost:8080/",
          "height": 102
        },
        "outputId": "747f3923-80e7-4b32-dcdd-5679d4044ac3"
      },
      "source": [
        "import pandas as pd\n",
        "import numpy as np\n",
        "import re\n",
        "import keras\n",
        "from tqdm import tqdm\n",
        "import pickle as pkl\n",
        "import gc\n",
        "from sklearn.metrics import accuracy_score\n",
        "from gensim.models import Word2Vec\n",
        "from scipy.spatial.distance import euclidean\n",
        "from sklearn.metrics.pairwise import cosine_similarity, euclidean_distances\n",
        "from sklearn.decomposition import PCA\n",
        "import multiprocessing\n",
        "import os\n",
        "gc.enable()\n",
        "\n",
        "import xgboost as xgb\n",
        "from sklearn.model_selection import RandomizedSearchCV, GridSearchCV\n",
        "from sklearn.model_selection import StratifiedKFold\n",
        "\n",
        "import statsmodels.api as sm\n",
        "import pylab as plt\n",
        "from scipy import stats\n",
        "\n",
        "%pylab inline\n",
        "\n",
        "from google.colab import drive\n",
        "drive.mount('/content/drive')"
      ],
      "execution_count": null,
      "outputs": [
        {
          "output_type": "stream",
          "text": [
            "Populating the interactive namespace from numpy and matplotlib\n",
            "Drive already mounted at /content/drive; to attempt to forcibly remount, call drive.mount(\"/content/drive\", force_remount=True).\n"
          ],
          "name": "stdout"
        },
        {
          "output_type": "stream",
          "text": [
            "/usr/local/lib/python3.6/dist-packages/IPython/core/magics/pylab.py:161: UserWarning: pylab import has clobbered these variables: ['plt', 'f']\n",
            "`%matplotlib` prevents importing * from pylab and numpy\n",
            "  \"\\n`%matplotlib` prevents importing * from pylab and numpy\"\n"
          ],
          "name": "stderr"
        }
      ]
    },
    {
      "cell_type": "code",
      "metadata": {
        "id": "fCjWNh2RqRAn",
        "colab_type": "code",
        "colab": {}
      },
      "source": [
        "it = 10\n",
        "os.makedirs('/content/drive/My Drive/Colab Notebooks/Diplom/models/fasttext/{0}'.format(it))"
      ],
      "execution_count": null,
      "outputs": []
    },
    {
      "cell_type": "markdown",
      "metadata": {
        "id": "9nnCaIEPUf6n",
        "colab_type": "text"
      },
      "source": [
        "# FastText для последовательностей товаров"
      ]
    },
    {
      "cell_type": "markdown",
      "metadata": {
        "id": "B_j_J5lwlzjn",
        "colab_type": "text"
      },
      "source": [
        "###Собираем эмбеддинги продуктов"
      ]
    },
    {
      "cell_type": "code",
      "metadata": {
        "id": "wmPYGkOW-qH5",
        "colab_type": "code",
        "colab": {
          "base_uri": "https://localhost:8080/",
          "height": 258
        },
        "outputId": "5aebf3c7-63e2-461c-943e-8243383ad27f"
      },
      "source": [
        " !pip install fasttext"
      ],
      "execution_count": null,
      "outputs": [
        {
          "output_type": "stream",
          "text": [
            "Collecting fasttext\n",
            "\u001b[?25l  Downloading https://files.pythonhosted.org/packages/f8/85/e2b368ab6d3528827b147fdb814f8189acc981a4bc2f99ab894650e05c40/fasttext-0.9.2.tar.gz (68kB)\n",
            "\r\u001b[K     |████▊                           | 10kB 18.9MB/s eta 0:00:01\r\u001b[K     |█████████▌                      | 20kB 5.6MB/s eta 0:00:01\r\u001b[K     |██████████████▎                 | 30kB 7.6MB/s eta 0:00:01\r\u001b[K     |███████████████████             | 40kB 8.4MB/s eta 0:00:01\r\u001b[K     |███████████████████████▉        | 51kB 6.7MB/s eta 0:00:01\r\u001b[K     |████████████████████████████▋   | 61kB 7.5MB/s eta 0:00:01\r\u001b[K     |████████████████████████████████| 71kB 4.5MB/s \n",
            "\u001b[?25hRequirement already satisfied: pybind11>=2.2 in /usr/local/lib/python3.6/dist-packages (from fasttext) (2.5.0)\n",
            "Requirement already satisfied: setuptools>=0.7.0 in /usr/local/lib/python3.6/dist-packages (from fasttext) (47.1.1)\n",
            "Requirement already satisfied: numpy in /usr/local/lib/python3.6/dist-packages (from fasttext) (1.18.4)\n",
            "Building wheels for collected packages: fasttext\n",
            "  Building wheel for fasttext (setup.py) ... \u001b[?25l\u001b[?25hdone\n",
            "  Created wheel for fasttext: filename=fasttext-0.9.2-cp36-cp36m-linux_x86_64.whl size=3019821 sha256=f2f50b772382ccdd52100f4b3c2c9a3e96c304dc158601b43da67bf912f1e478\n",
            "  Stored in directory: /root/.cache/pip/wheels/98/ba/7f/b154944a1cf5a8cee91c154b75231136cc3a3321ab0e30f592\n",
            "Successfully built fasttext\n",
            "Installing collected packages: fasttext\n",
            "Successfully installed fasttext-0.9.2\n"
          ],
          "name": "stdout"
        }
      ]
    },
    {
      "cell_type": "code",
      "metadata": {
        "id": "iFuKX1-y-LxB",
        "colab_type": "code",
        "colab": {
          "base_uri": "https://localhost:8080/",
          "height": 68
        },
        "outputId": "355f85f1-1c6c-487b-87e8-875184163d3b"
      },
      "source": [
        "import fasttext.util\n",
        "fasttext.util.download_model('en', if_exists='ignore')  # English\n",
        "ft = fasttext.load_model('cc.en.300.bin')"
      ],
      "execution_count": null,
      "outputs": [
        {
          "output_type": "stream",
          "text": [
            "Downloading https://dl.fbaipublicfiles.com/fasttext/vectors-crawl/cc.en.300.bin.gz\n",
            "\n"
          ],
          "name": "stdout"
        },
        {
          "output_type": "stream",
          "text": [
            "Warning : `load_model` does not return WordVectorModel or SupervisedModel any more, but a `FastText` object which is very similar.\n"
          ],
          "name": "stderr"
        }
      ]
    },
    {
      "cell_type": "code",
      "metadata": {
        "id": "uXI_V57FCIO-",
        "colab_type": "code",
        "colab": {}
      },
      "source": [
        "ft.get_word_vector('hello')"
      ],
      "execution_count": null,
      "outputs": []
    },
    {
      "cell_type": "code",
      "metadata": {
        "id": "w_aQPriFl4LC",
        "colab_type": "code",
        "colab": {}
      },
      "source": [
        "products = pd.read_csv('/content/drive/My Drive/Colab Notebooks/Diplom/instacart-market-basket-analysis/products.csv')"
      ],
      "execution_count": null,
      "outputs": []
    },
    {
      "cell_type": "code",
      "metadata": {
        "id": "EfhkXNCzmbFy",
        "colab_type": "code",
        "colab": {
          "base_uri": "https://localhost:8080/",
          "height": 34
        },
        "outputId": "7c8db87d-4295-4b34-acb5-1e7d6a1af7ad"
      },
      "source": [
        "fasttext_embeddings = {}\n",
        "\n",
        "for ind in tqdm(products.index, position=0):\n",
        "  fasttext_embeddings[products.loc[ind, 'product_id']] = ft.get_word_vector(products.loc[ind, 'product_name'])\n",
        "\n",
        "with open('/content/drive/My Drive/Colab Notebooks/Diplom/models/fasttext/fasttext_embeddings.pkl', 'wb') as f:\n",
        "  pkl.dump(fasttext_embeddings, f)"
      ],
      "execution_count": null,
      "outputs": [
        {
          "output_type": "stream",
          "text": [
            "100%|██████████| 49688/49688 [00:03<00:00, 15309.09it/s]\n"
          ],
          "name": "stderr"
        }
      ]
    },
    {
      "cell_type": "markdown",
      "metadata": {
        "id": "y3JmNjYc7SlC",
        "colab_type": "text"
      },
      "source": [
        "###Считываем данные и подготавливаем выборку"
      ]
    },
    {
      "cell_type": "code",
      "metadata": {
        "id": "gOM6xQY_emW4",
        "colab_type": "code",
        "colab": {}
      },
      "source": [
        "order_features = pd.read_csv('/content/drive/My Drive/Colab Notebooks/Diplom/instacart-market-basket-analysis/test_train/order_features.csv')\n",
        "order_features['prod_seq'] = order_features['prod_seq'].apply(lambda x: list(np.fromstring(x.strip('[ ]'), dtype=int, sep=', ')))\n",
        "order_features['prev_seq'] = order_features['prev_seq'].apply(lambda x: list(np.fromstring(x.strip('[ ]'), dtype=int, sep=', ')))\n",
        "\n",
        "train_positive = pd.read_csv('/content/drive/My Drive/Colab Notebooks/Diplom/instacart-market-basket-analysis/test_train/train_positive.csv')\n",
        "train_negative = pd.read_csv('/content/drive/My Drive/Colab Notebooks/Diplom/instacart-market-basket-analysis/test_train/train_negative.csv')\n",
        "\n",
        "with open('/content/drive/My Drive/Colab Notebooks/Diplom/instacart-market-basket-analysis/test_train/id_to_token.pkl', 'rb') as f:\n",
        "  id_to_token = pkl.load(f)\n",
        "\n",
        "with open('/content/drive/My Drive/Colab Notebooks/Diplom/instacart-market-basket-analysis/test_train/token_to_id.pkl', 'rb') as f:\n",
        "  token_to_id = pkl.load(f)\n",
        "\n",
        "with open('/content/drive/My Drive/Colab Notebooks/Diplom/instacart-market-basket-analysis/test_train/val_orders.pkl', 'rb') as f:\n",
        "  val_orders = pkl.load(f)\n",
        "\n",
        "with open('/content/drive/My Drive/Colab Notebooks/Diplom/instacart-market-basket-analysis/test_train/test_orders.pkl', 'rb') as f:\n",
        "  test_orders = pkl.load(f)\n",
        "\n",
        "with open('/content/drive/My Drive/Colab Notebooks/Diplom/models/fasttext/fasttext_embeddings.pkl', 'rb') as f:\n",
        "  fasttext_embeddings = pkl.load(f)"
      ],
      "execution_count": null,
      "outputs": []
    },
    {
      "cell_type": "markdown",
      "metadata": {
        "id": "QXYmd2xtDghh",
        "colab_type": "text"
      },
      "source": [
        "###Понижаем размерность векторов fasttext"
      ]
    },
    {
      "cell_type": "code",
      "metadata": {
        "id": "gSRvL5EBDkwZ",
        "colab_type": "code",
        "colab": {}
      },
      "source": [
        "pos_neg = pd.concat((train_positive, train_negative), axis=0)"
      ],
      "execution_count": null,
      "outputs": []
    },
    {
      "cell_type": "code",
      "metadata": {
        "id": "rZNs7cMFDms6",
        "colab_type": "code",
        "colab": {}
      },
      "source": [
        "data_train = pos_neg[(~pos_neg['order_id'].isin(val_orders)) & (~pos_neg['order_id'].isin(test_orders))].sample(frac=1).drop_duplicates(subset=['uxp_total_bought', 'uxp_reorder_ratio',\n",
        "       'times_lastN', 'u_total_orders', 'u_reordered_ratio', 'p_total_purchases', 'p_reorder_ratio', 'order_dow',\n",
        "        'order_hour_of_day', 'days_since_prior_order'])\n",
        "data_val = pos_neg[pos_neg['order_id'].isin(val_orders)].sample(frac=1)\n",
        "data_test = pos_neg[pos_neg['order_id'].isin(test_orders)].sample(frac=1)"
      ],
      "execution_count": null,
      "outputs": []
    },
    {
      "cell_type": "code",
      "metadata": {
        "id": "c_jGv3FFDoyc",
        "colab_type": "code",
        "colab": {}
      },
      "source": [
        "fasttext_matrix = np.zeros((len(id_to_token), 300))\n",
        "for i_d, token in id_to_token.items():\n",
        "  fasttext_matrix[i_d, :] = fasttext_embeddings[token]"
      ],
      "execution_count": null,
      "outputs": []
    },
    {
      "cell_type": "code",
      "metadata": {
        "id": "Za1YOR8zD91W",
        "colab_type": "code",
        "colab": {}
      },
      "source": [
        "pca = PCA(n_components=13, random_state=432)\n",
        "\n",
        "fasttext_matrix_red = pca.fit_transform(fasttext_matrix)"
      ],
      "execution_count": null,
      "outputs": []
    },
    {
      "cell_type": "code",
      "metadata": {
        "id": "81FuQYFREDal",
        "colab_type": "code",
        "colab": {}
      },
      "source": [
        "fasttext_to_df = np.zeros((fasttext_matrix_red.shape[0], fasttext_matrix_red.shape[1] + 1))\n",
        "for i_d, token in id_to_token.items():\n",
        "  fasttext_to_df[i_d, 0] = token\n",
        "  fasttext_to_df[i_d, 1:] = fasttext_matrix_red[i_d, :]"
      ],
      "execution_count": null,
      "outputs": []
    },
    {
      "cell_type": "code",
      "metadata": {
        "id": "7_8H0DJBEE6d",
        "colab_type": "code",
        "colab": {}
      },
      "source": [
        "fasttext_df = pd.DataFrame(fasttext_to_df, columns=['product_id', '0', '1', '2', '3', '4', '5', '6', '7' ,'8', '9', '10', '11', '12'])"
      ],
      "execution_count": null,
      "outputs": []
    },
    {
      "cell_type": "markdown",
      "metadata": {
        "id": "ZPjbNIaoESkP",
        "colab_type": "text"
      },
      "source": [
        "###Собираем новый датасет для бустинга"
      ]
    },
    {
      "cell_type": "code",
      "metadata": {
        "id": "ym2tbOZtEUhm",
        "colab_type": "code",
        "colab": {}
      },
      "source": [
        "new_data_train = data_train.merge(fasttext_df, how='inner', on='product_id')\n",
        "new_data_val = data_val.merge(fasttext_df, how='inner', on='product_id')\n",
        "new_data_test = data_test.merge(fasttext_df, how='inner', on='product_id')\n",
        "\n",
        "prods_df = train_positive.merge(fasttext_df, how='inner', on='product_id')"
      ],
      "execution_count": null,
      "outputs": []
    },
    {
      "cell_type": "code",
      "metadata": {
        "id": "xBb_7juBEbZe",
        "colab_type": "code",
        "colab": {}
      },
      "source": [
        "new_data_train = new_data_train.sample(frac=1).reset_index(drop=True)"
      ],
      "execution_count": null,
      "outputs": []
    },
    {
      "cell_type": "code",
      "metadata": {
        "id": "Ik4qPlE8EdHp",
        "colab_type": "code",
        "colab": {}
      },
      "source": [
        "new_val_set = new_data_val[new_data_val['label'] == 1]\n",
        "new_test_set = new_data_test[new_data_test['label'] == 1]"
      ],
      "execution_count": null,
      "outputs": []
    },
    {
      "cell_type": "code",
      "metadata": {
        "id": "b99zr92NEfK2",
        "colab_type": "code",
        "colab": {}
      },
      "source": [
        "best_params = {'colsample_bytree': 0.4,\n",
        " 'eval_metric': 'logloss',\n",
        " 'gamma': 0,\n",
        " 'max_depth': 3,\n",
        " 'min_child_weight': 1,\n",
        " 'subsample': 0.6}"
      ],
      "execution_count": null,
      "outputs": []
    },
    {
      "cell_type": "markdown",
      "metadata": {
        "id": "X-VWfBFOBMkg",
        "colab_type": "text"
      },
      "source": [
        "###Обучаем и проверяем качество на валидации"
      ]
    },
    {
      "cell_type": "code",
      "metadata": {
        "id": "MFsXW_kt8suU",
        "colab_type": "code",
        "colab": {
          "base_uri": "https://localhost:8080/",
          "height": 400
        },
        "outputId": "143b93e9-558a-4c0f-87a4-e37b5cc754cd"
      },
      "source": [
        "feat_cols = ['uxp_total_bought', 'uxp_reorder_ratio', 'times_lastN', 'u_total_orders', 'u_reordered_ratio', 'p_total_purchases',\n",
        "             'p_reorder_ratio', 'order_dow', 'order_hour_of_day', 'days_since_prior_order',\n",
        "             '0', '1', '2', '3', '4', '5', '6', '7', '8', '9', '10', '11', '12', 'label']\n",
        "\n",
        "X_train, y_train = new_data_train[feat_cols[:-1]], new_data_train[feat_cols[-1]]\n",
        "\n",
        "parameters = best_params\n",
        "\n",
        "xgbc = xgb.XGBClassifier(objective='binary:logistic', parameters=parameters, num_boost_round=10, n_jobs=-1, silent=False)\n",
        "\n",
        "model_xgb = xgbc.fit(X_train, y_train)\n",
        "\n",
        "xgb.plot_importance(model_xgb)\n",
        "\n",
        "\n",
        "precision_xgb = {}\n",
        "recall_xgb = {}\n",
        "for i in range(1, 11):\n",
        "  precision_xgb[i] = 0\n",
        "  recall_xgb[i] = 0\n",
        "\n",
        "total = 0\n",
        "\n",
        "for user_id, group_u in tqdm(new_val_set.groupby('user_id'), position=0):\n",
        "\n",
        "  for order_id, group_o in group_u.groupby('order_id'):\n",
        "    #Купленные товары\n",
        "    bought = np.array(list(set(group_o['product_id'])))\n",
        "\n",
        "    #Ищем товары, которые порекомендует бустинг\n",
        "    order = group_o[['order_id', 'order_dow', 'order_hour_of_day', 'days_since_prior_order']]\n",
        "    prods = prods_df[prods_df['user_id']==user_id].drop_duplicates(subset=['product_id'])\n",
        "\n",
        "    prods['order_dow'] = prods['order_dow'].apply(lambda x: order['order_dow'].values[0])\n",
        "    prods['order_hour_of_day'] = prods['order_hour_of_day'].apply(lambda x: order['order_hour_of_day'].values[0])\n",
        "    prods['days_since_prior_order'] = prods['days_since_prior_order'].apply(lambda x: order['days_since_prior_order'].values[0])\n",
        "\n",
        "    prods['prob'] =  model_xgb.predict_proba(prods[feat_cols[:-1]])[:, 1]\n",
        "\n",
        "    for i in range(1, 11):\n",
        "      recommended_xgb = np.array(list(map(lambda x:int(x[0]),sorted(prods[['product_id', 'prob']].values, key=lambda x: x[1], reverse=True)[:i])))\n",
        "      precision_xgb[i] += np.intersect1d(bought, recommended_xgb).shape[0]/recommended_xgb.shape[0]\n",
        "      recall_xgb[i] += np.intersect1d(bought, recommended_xgb).shape[0]/bought.shape[0]\n",
        "\n",
        "    total += 1\n",
        "\n",
        "for i in range(1, 11):\n",
        "  precision_xgb[i] = precision_xgb[i]/total\n",
        "  recall_xgb[i] = recall_xgb[i]/total\n",
        "\n",
        "print('\\n')\n",
        "print(precision_xgb)\n",
        "print(recall_xgb)"
      ],
      "execution_count": null,
      "outputs": [
        {
          "output_type": "stream",
          "text": [
            "100%|██████████| 6605/6605 [05:21<00:00, 20.54it/s]\n"
          ],
          "name": "stderr"
        },
        {
          "output_type": "stream",
          "text": [
            "\n",
            "\n",
            "{1: 0.484557153671461, 2: 0.4397426192278577, 3: 0.40582891748675076, 4: 0.3768861973252587, 5: 0.35410421397929287, 6: 0.3357317688619704, 7: 0.3208638837821407, 8: 0.30733246818788074, 9: 0.29614039988946517, 10: 0.2860789985941292}\n",
            "{1: 0.08765209793652558, 2: 0.14725902971395483, 3: 0.19551825951357837, 4: 0.23384240155777303, 5: 0.2679446907948779, 6: 0.29874411931030964, 7: 0.32678044855000177, 8: 0.3513600396261092, 9: 0.37446781958113023, 10: 0.3959073591737218}\n"
          ],
          "name": "stdout"
        },
        {
          "output_type": "display_data",
          "data": {
            "image/png": "[encoded data removed]",
            "text/plain": [
              "<Figure size 432x288 with 1 Axes>"
            ]
          },
          "metadata": {
            "tags": [],
            "needs_background": "light"
          }
        }
      ]
    },
    {
      "cell_type": "markdown",
      "metadata": {
        "id": "SaOXgO44ENYx",
        "colab_type": "text"
      },
      "source": [
        "###Проверяем качество на тесте"
      ]
    },
    {
      "cell_type": "code",
      "metadata": {
        "id": "Xb0q2PQRAPSR",
        "colab_type": "code",
        "colab": {
          "base_uri": "https://localhost:8080/",
          "height": 400
        },
        "outputId": "3335dc8c-646b-4988-d1c7-c7e32e30ae26"
      },
      "source": [
        "feat_cols = ['uxp_total_bought', 'uxp_reorder_ratio', 'times_lastN', 'u_total_orders', 'u_reordered_ratio', 'p_total_purchases',\n",
        "             'p_reorder_ratio', 'order_dow', 'order_hour_of_day', 'days_since_prior_order',\n",
        "             '0', '1', '2', '3', '4', '5', '6', '7', '8', '9', '10', '11', '12', 'label']\n",
        "\n",
        "X_train, y_train = new_data_train[feat_cols[:-1]], new_data_train[feat_cols[-1]]\n",
        "\n",
        "parameters = best_params\n",
        "\n",
        "xgbc = xgb.XGBClassifier(objective='binary:logistic', parameters=parameters, num_boost_round=10, n_jobs=-1, silent=False)\n",
        "\n",
        "model_xgb = xgbc.fit(X_train, y_train)\n",
        "\n",
        "xgb.plot_importance(model_xgb)\n",
        "\n",
        "\n",
        "precision_xgb = {}\n",
        "recall_xgb = {}\n",
        "for i in range(1, 11):\n",
        "  precision_xgb[i] = 0\n",
        "  recall_xgb[i] = 0\n",
        "\n",
        "total = 0\n",
        "\n",
        "for user_id, group_u in tqdm(new_test_set.groupby('user_id'), position=0):\n",
        "\n",
        "  for order_id, group_o in group_u.groupby('order_id'):\n",
        "    #Купленные товары\n",
        "    bought = np.array(list(set(group_o['product_id'])))\n",
        "\n",
        "    #Ищем товары, которые порекомендует бустинг\n",
        "    order = group_o[['order_id', 'order_dow', 'order_hour_of_day', 'days_since_prior_order']]\n",
        "    prods = prods_df[prods_df['user_id']==user_id].drop_duplicates(subset=['product_id'])\n",
        "\n",
        "    prods['order_dow'] = prods['order_dow'].apply(lambda x: order['order_dow'].values[0])\n",
        "    prods['order_hour_of_day'] = prods['order_hour_of_day'].apply(lambda x: order['order_hour_of_day'].values[0])\n",
        "    prods['days_since_prior_order'] = prods['days_since_prior_order'].apply(lambda x: order['days_since_prior_order'].values[0])\n",
        "\n",
        "    prods['prob'] =  model_xgb.predict_proba(prods[feat_cols[:-1]])[:, 1]\n",
        "\n",
        "    for i in range(1, 11):\n",
        "      recommended_xgb = np.array(list(map(lambda x:int(x[0]),sorted(prods[['product_id', 'prob']].values, key=lambda x: x[1], reverse=True)[:i])))\n",
        "      precision_xgb[i] += np.intersect1d(bought, recommended_xgb).shape[0]/recommended_xgb.shape[0]\n",
        "      recall_xgb[i] += np.intersect1d(bought, recommended_xgb).shape[0]/bought.shape[0]\n",
        "\n",
        "    total += 1\n",
        "\n",
        "for i in range(1, 11):\n",
        "  precision_xgb[i] = precision_xgb[i]/total\n",
        "  recall_xgb[i] = recall_xgb[i]/total\n",
        "\n",
        "print('\\n')\n",
        "print(precision_xgb)\n",
        "print(recall_xgb)\n",
        "\n",
        "metric_with_fasttext_feats = {}\n",
        "\n",
        "metric_with_fasttext_feats[it] = [precision_xgb, recall_xgb]\n",
        "\n",
        "with open('/content/drive/My Drive/Colab Notebooks/Diplom/models/fasttext/{0}/metric_with_fasttext_feats.pkl'.format(it), 'wb') as f:\n",
        "  pkl.dump(metric_with_fasttext_feats, f)"
      ],
      "execution_count": null,
      "outputs": [
        {
          "output_type": "stream",
          "text": [
            "100%|██████████| 6605/6605 [04:26<00:00, 24.80it/s]\n"
          ],
          "name": "stderr"
        },
        {
          "output_type": "stream",
          "text": [
            "\n",
            "\n",
            "{1: 0.46015880429705747, 2: 0.4226062587575899, 3: 0.3911567803207283, 4: 0.36553791063366037, 5: 0.3449213763038988, 6: 0.32782033317763876, 7: 0.3149158159293702, 8: 0.30376448477569434, 9: 0.2934357183633267, 10: 0.2843631146993981}\n",
            "{1: 0.08026910775450462, 2: 0.13696842706097861, 3: 0.18381347828838665, 4: 0.22344508411536557, 5: 0.25658941471683083, 6: 0.28568030535416006, 7: 0.31405868238230467, 8: 0.34121421521916695, 9: 0.364697287030939, 10: 0.38654817454292417}\n"
          ],
          "name": "stdout"
        },
        {
          "output_type": "display_data",
          "data": {
            "image/png": "[encoded data removed]",
            "text/plain": [
              "<Figure size 432x288 with 1 Axes>"
            ]
          },
          "metadata": {
            "tags": [],
            "needs_background": "light"
          }
        }
      ]
    }
  ]
}