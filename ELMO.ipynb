{
  "nbformat": 4,
  "nbformat_minor": 0,
  "metadata": {
    "colab": {
      "name": "ELMO.ipynb",
      "provenance": [],
      "collapsed_sections": [
        "B_j_J5lwlzjn",
        "x5uAeEMJLYD4",
        "nm1exoXFL4Wn"
      ],
      "machine_shape": "hm",
      "authorship_tag": "ABX9TyPKTCssoPbJe/+plFas8zTW"
    },
    "kernelspec": {
      "name": "python3",
      "display_name": "Python 3"
    }
  },
  "cells": [
    {
      "cell_type": "code",
      "metadata": {
        "id": "9DRr0ISC3ZsR",
        "colab_type": "code",
        "colab": {}
      },
      "source": [
        "import pandas as pd\n",
        "import numpy as np\n",
        "import re\n",
        "import keras\n",
        "from tqdm import tqdm\n",
        "import pickle as pkl\n",
        "import gc\n",
        "from sklearn.metrics import accuracy_score\n",
        "from scipy.spatial.distance import euclidean\n",
        "from sklearn.metrics.pairwise import cosine_similarity, euclidean_distances\n",
        "from sklearn.decomposition import PCA\n",
        "import multiprocessing\n",
        "import os\n",
        "gc.enable()\n",
        "\n",
        "import xgboost as xgb\n",
        "from sklearn.model_selection import RandomizedSearchCV, GridSearchCV\n",
        "from sklearn.model_selection import StratifiedKFold\n",
        "\n",
        "import statsmodels.api as sm\n",
        "import pylab as plt\n",
        "from scipy import stats\n",
        "\n",
        "%pylab inline\n",
        "\n",
        "from google.colab import drive\n",
        "drive.mount('/content/drive')"
      ],
      "execution_count": null,
      "outputs": []
    },
    {
      "cell_type": "code",
      "metadata": {
        "id": "6owlL-M9PIwc",
        "colab_type": "code",
        "colab": {}
      },
      "source": [
        "it = 10\n",
        "os.makedirs('/content/drive/My Drive/Colab Notebooks/Diplom/models/elmo/{0}'.format(it))"
      ],
      "execution_count": null,
      "outputs": []
    },
    {
      "cell_type": "markdown",
      "metadata": {
        "id": "9nnCaIEPUf6n",
        "colab_type": "text"
      },
      "source": [
        "# ELMO для последовательностей товаров"
      ]
    },
    {
      "cell_type": "markdown",
      "metadata": {
        "id": "B_j_J5lwlzjn",
        "colab_type": "text"
      },
      "source": [
        "###Собираем эмбеддинги продуктов"
      ]
    },
    {
      "cell_type": "code",
      "metadata": {
        "id": "6wv4aTHx-JQs",
        "colab_type": "code",
        "colab": {}
      },
      "source": [
        "import tensorflow as tf\n",
        "import tensorflow_hub as hub"
      ],
      "execution_count": null,
      "outputs": []
    },
    {
      "cell_type": "code",
      "metadata": {
        "id": "w_aQPriFl4LC",
        "colab_type": "code",
        "colab": {}
      },
      "source": [
        "products = pd.read_csv('/content/drive/My Drive/Colab Notebooks/Diplom/instacart-market-basket-analysis/products.csv')"
      ],
      "execution_count": null,
      "outputs": []
    },
    {
      "cell_type": "code",
      "metadata": {
        "id": "0blr66jvMmXt",
        "colab_type": "code",
        "colab": {}
      },
      "source": [
        "elmo = hub.load(\"https://tfhub.dev/google/elmo/2\")"
      ],
      "execution_count": null,
      "outputs": []
    },
    {
      "cell_type": "code",
      "metadata": {
        "id": "x9EV7aXIPJWo",
        "colab_type": "code",
        "colab": {}
      },
      "source": [
        "tensor_list = tf.convert_to_tensor([\"hello adf fff\"])"
      ],
      "execution_count": null,
      "outputs": []
    },
    {
      "cell_type": "code",
      "metadata": {
        "id": "aN_keEZIPLTK",
        "colab_type": "code",
        "colab": {
          "base_uri": "https://localhost:8080/",
          "height": 34
        },
        "outputId": "d8080262-8861-438d-8fae-c77904b60c49"
      },
      "source": [
        "tensor_list"
      ],
      "execution_count": null,
      "outputs": [
        {
          "output_type": "execute_result",
          "data": {
            "text/plain": [
              "<tf.Tensor: shape=(1,), dtype=string, numpy=array([b'hello adf fff'], dtype=object)>"
            ]
          },
          "metadata": {
            "tags": []
          },
          "execution_count": 27
        }
      ]
    },
    {
      "cell_type": "code",
      "metadata": {
        "id": "R8EG_aNtO9CD",
        "colab_type": "code",
        "colab": {
          "base_uri": "https://localhost:8080/",
          "height": 51
        },
        "outputId": "e84d773d-3d7b-4d77-d7a3-d0a8793b6322"
      },
      "source": [
        "np.mean(elmo.signatures[\"default\"](tensor_list)['elmo'][0], axis=0)"
      ],
      "execution_count": null,
      "outputs": [
        {
          "output_type": "execute_result",
          "data": {
            "text/plain": [
              "array([ 0.02389512, -0.58518916,  0.09305262, ..., -0.42391977,\n",
              "        0.07482383,  0.0079967 ], dtype=float32)"
            ]
          },
          "metadata": {
            "tags": []
          },
          "execution_count": 49
        }
      ]
    },
    {
      "cell_type": "code",
      "metadata": {
        "id": "GuWfHdEYRBLr",
        "colab_type": "code",
        "colab": {}
      },
      "source": [
        "tensor_list = tf.convert_to_tensor([products.loc[1, 'product_name']])"
      ],
      "execution_count": null,
      "outputs": []
    },
    {
      "cell_type": "code",
      "metadata": {
        "id": "vl7C6qmPRFrT",
        "colab_type": "code",
        "colab": {
          "base_uri": "https://localhost:8080/",
          "height": 34
        },
        "outputId": "1aea3892-5c60-4421-8117-c5de125620b3"
      },
      "source": [
        "tensor_list"
      ],
      "execution_count": null,
      "outputs": [
        {
          "output_type": "execute_result",
          "data": {
            "text/plain": [
              "<tf.Tensor: shape=(1,), dtype=string, numpy=array([b'All-Seasons Salt'], dtype=object)>"
            ]
          },
          "metadata": {
            "tags": []
          },
          "execution_count": 55
        }
      ]
    },
    {
      "cell_type": "code",
      "metadata": {
        "id": "rpnhvj0TRHFv",
        "colab_type": "code",
        "colab": {
          "base_uri": "https://localhost:8080/",
          "height": 51
        },
        "outputId": "e40c9a7c-dcee-48de-dea3-2d06ed566a3b"
      },
      "source": [
        "np.mean(elmo.signatures[\"default\"](tensor_list)['elmo'][0], axis=0)"
      ],
      "execution_count": null,
      "outputs": [
        {
          "output_type": "execute_result",
          "data": {
            "text/plain": [
              "array([-0.42232463,  0.18180431,  0.07759979, ...,  0.21379648,\n",
              "       -0.40003544, -0.19305152], dtype=float32)"
            ]
          },
          "metadata": {
            "tags": []
          },
          "execution_count": 56
        }
      ]
    },
    {
      "cell_type": "code",
      "metadata": {
        "id": "EfhkXNCzmbFy",
        "colab_type": "code",
        "colab": {
          "base_uri": "https://localhost:8080/",
          "height": 34
        },
        "outputId": "223bc271-74aa-403b-92a0-e333883729b2"
      },
      "source": [
        "elmo = hub.load(\"https://tfhub.dev/google/elmo/2\")\n",
        "\n",
        "elmo_embeddings = {}\n",
        "\n",
        "for ind in tqdm(products.index, position=0):\n",
        "  tensor_list = tf.convert_to_tensor([products.loc[ind, 'product_name']])\n",
        "  elmo_embeddings[products.loc[ind, 'product_id']] = np.mean(elmo.signatures[\"default\"](tensor_list)['elmo'][0], axis=0)\n",
        "\n",
        "with open('/content/drive/My Drive/Colab Notebooks/Diplom/models/elmo/elmo_embeddings.pkl', 'wb') as f:\n",
        "  pkl.dump(elmo_embeddings, f)"
      ],
      "execution_count": null,
      "outputs": [
        {
          "output_type": "stream",
          "text": [
            "100%|██████████| 49688/49688 [1:36:29<00:00,  8.58it/s]\n"
          ],
          "name": "stderr"
        }
      ]
    },
    {
      "cell_type": "markdown",
      "metadata": {
        "id": "y3JmNjYc7SlC",
        "colab_type": "text"
      },
      "source": [
        "###Считываем данные и подготавливаем выборку"
      ]
    },
    {
      "cell_type": "code",
      "metadata": {
        "id": "gOM6xQY_emW4",
        "colab_type": "code",
        "colab": {}
      },
      "source": [
        "order_features = pd.read_csv('/content/drive/My Drive/Colab Notebooks/Diplom/instacart-market-basket-analysis/test_train/order_features.csv')\n",
        "order_features['prod_seq'] = order_features['prod_seq'].apply(lambda x: list(np.fromstring(x.strip('[ ]'), dtype=int, sep=', ')))\n",
        "order_features['prev_seq'] = order_features['prev_seq'].apply(lambda x: list(np.fromstring(x.strip('[ ]'), dtype=int, sep=', ')))\n",
        "\n",
        "train_positive = pd.read_csv('/content/drive/My Drive/Colab Notebooks/Diplom/instacart-market-basket-analysis/test_train/train_positive.csv')\n",
        "train_negative = pd.read_csv('/content/drive/My Drive/Colab Notebooks/Diplom/instacart-market-basket-analysis/test_train/train_negative.csv')\n",
        "\n",
        "with open('/content/drive/My Drive/Colab Notebooks/Diplom/instacart-market-basket-analysis/test_train/id_to_token.pkl', 'rb') as f:\n",
        "  id_to_token = pkl.load(f)\n",
        "\n",
        "with open('/content/drive/My Drive/Colab Notebooks/Diplom/instacart-market-basket-analysis/test_train/token_to_id.pkl', 'rb') as f:\n",
        "  token_to_id = pkl.load(f)\n",
        "\n",
        "with open('/content/drive/My Drive/Colab Notebooks/Diplom/instacart-market-basket-analysis/test_train/val_orders.pkl', 'rb') as f:\n",
        "  val_orders = pkl.load(f)\n",
        "\n",
        "with open('/content/drive/My Drive/Colab Notebooks/Diplom/instacart-market-basket-analysis/test_train/test_orders.pkl', 'rb') as f:\n",
        "  test_orders = pkl.load(f)\n",
        "\n",
        "with open('/content/drive/My Drive/Colab Notebooks/Diplom/models/elmo/elmo_embeddings.pkl', 'rb') as f:\n",
        "  elmo_embeddings = pkl.load(f)"
      ],
      "execution_count": null,
      "outputs": []
    },
    {
      "cell_type": "markdown",
      "metadata": {
        "id": "1yLqfTpqJZhg",
        "colab_type": "text"
      },
      "source": [
        "###Понижаем размерность векторов ELMO"
      ]
    },
    {
      "cell_type": "code",
      "metadata": {
        "id": "ErsGqG8jJeV0",
        "colab_type": "code",
        "colab": {}
      },
      "source": [
        "pos_neg = pd.concat((train_positive, train_negative), axis=0)"
      ],
      "execution_count": null,
      "outputs": []
    },
    {
      "cell_type": "code",
      "metadata": {
        "id": "PPiYEmJ8Jh4N",
        "colab_type": "code",
        "colab": {}
      },
      "source": [
        "data_train = pos_neg[(~pos_neg['order_id'].isin(val_orders)) & (~pos_neg['order_id'].isin(test_orders))].sample(frac=1).drop_duplicates(subset=['uxp_total_bought', 'uxp_reorder_ratio',\n",
        "       'times_lastN', 'u_total_orders', 'u_reordered_ratio', 'p_total_purchases', 'p_reorder_ratio', 'order_dow',\n",
        "        'order_hour_of_day', 'days_since_prior_order'])\n",
        "data_val = pos_neg[pos_neg['order_id'].isin(val_orders)].sample(frac=1)\n",
        "data_test = pos_neg[pos_neg['order_id'].isin(test_orders)].sample(frac=1)"
      ],
      "execution_count": null,
      "outputs": []
    },
    {
      "cell_type": "code",
      "metadata": {
        "id": "sfZ32P2tJj8R",
        "colab_type": "code",
        "colab": {}
      },
      "source": [
        "elmo_matrix = np.zeros((len(id_to_token), 1024))\n",
        "for i_d, token in id_to_token.items():\n",
        "  elmo_matrix[i_d, :] = elmo_embeddings[token]"
      ],
      "execution_count": null,
      "outputs": []
    },
    {
      "cell_type": "code",
      "metadata": {
        "id": "DpgqUr4xJleG",
        "colab_type": "code",
        "colab": {}
      },
      "source": [
        "pca = PCA(n_components=13, random_state=432)\n",
        "\n",
        "elmo_matrix_red = pca.fit_transform(elmo_matrix)"
      ],
      "execution_count": null,
      "outputs": []
    },
    {
      "cell_type": "code",
      "metadata": {
        "id": "Rq7Y1uFoJqG7",
        "colab_type": "code",
        "colab": {}
      },
      "source": [
        "elmo_to_df = np.zeros((elmo_matrix_red.shape[0], elmo_matrix_red.shape[1] + 1))\n",
        "for i_d, token in id_to_token.items():\n",
        "  elmo_to_df[i_d, 0] = token\n",
        "  elmo_to_df[i_d, 1:] = elmo_matrix_red[i_d, :]"
      ],
      "execution_count": null,
      "outputs": []
    },
    {
      "cell_type": "code",
      "metadata": {
        "id": "vFLWEE5pJspG",
        "colab_type": "code",
        "colab": {}
      },
      "source": [
        "elmo_df = pd.DataFrame(elmo_to_df, columns=['product_id', '0', '1', '2', '3', '4', '5', '6', '7' ,'8', '9', '10', '11', '12'])"
      ],
      "execution_count": null,
      "outputs": []
    },
    {
      "cell_type": "markdown",
      "metadata": {
        "id": "54zquctSLF7q",
        "colab_type": "text"
      },
      "source": [
        "###Собираем новый датасет для бустинга"
      ]
    },
    {
      "cell_type": "code",
      "metadata": {
        "id": "TVkLVQdMLIKr",
        "colab_type": "code",
        "colab": {}
      },
      "source": [
        "new_data_train = data_train.merge(elmo_df, how='inner', on='product_id')\n",
        "new_data_val = data_val.merge(elmo_df, how='inner', on='product_id')\n",
        "new_data_test = data_test.merge(elmo_df, how='inner', on='product_id')\n",
        "\n",
        "prods_df = train_positive.merge(elmo_df, how='inner', on='product_id')"
      ],
      "execution_count": null,
      "outputs": []
    },
    {
      "cell_type": "code",
      "metadata": {
        "id": "ZUhWEQd6LJ_X",
        "colab_type": "code",
        "colab": {}
      },
      "source": [
        "new_data_train = new_data_train.sample(frac=1).reset_index(drop=True)"
      ],
      "execution_count": null,
      "outputs": []
    },
    {
      "cell_type": "code",
      "metadata": {
        "id": "jpf_9s8VLL2Y",
        "colab_type": "code",
        "colab": {}
      },
      "source": [
        "new_val_set = new_data_val[new_data_val['label'] == 1]\n",
        "new_test_set = new_data_test[new_data_test['label'] == 1]"
      ],
      "execution_count": null,
      "outputs": []
    },
    {
      "cell_type": "code",
      "metadata": {
        "id": "7I89mJOoLVqH",
        "colab_type": "code",
        "colab": {}
      },
      "source": [
        "best_params = {'colsample_bytree': 0.4,\n",
        " 'eval_metric': 'logloss',\n",
        " 'gamma': 0,\n",
        " 'max_depth': 3,\n",
        " 'min_child_weight': 1,\n",
        " 'subsample': 0.6}"
      ],
      "execution_count": null,
      "outputs": []
    },
    {
      "cell_type": "markdown",
      "metadata": {
        "id": "x5uAeEMJLYD4",
        "colab_type": "text"
      },
      "source": [
        "###Обучаем и проверяем качество на валидации"
      ]
    },
    {
      "cell_type": "code",
      "metadata": {
        "id": "CjhhaBnALZHE",
        "colab_type": "code",
        "colab": {
          "base_uri": "https://localhost:8080/",
          "height": 400
        },
        "outputId": "1513159c-8c44-48fb-b3b8-929e8bf1cc20"
      },
      "source": [
        "feat_cols = ['uxp_total_bought', 'uxp_reorder_ratio', 'times_lastN', 'u_total_orders', 'u_reordered_ratio', 'p_total_purchases',\n",
        "             'p_reorder_ratio', 'order_dow', 'order_hour_of_day', 'days_since_prior_order',\n",
        "             '0', '1', '2', '3', '4', '5', '6', '7', '8', '9', '10', '11', '12', 'label']\n",
        "\n",
        "X_train, y_train = new_data_train[feat_cols[:-1]], new_data_train[feat_cols[-1]]\n",
        "\n",
        "parameters = best_params\n",
        "\n",
        "xgbc = xgb.XGBClassifier(objective='binary:logistic', parameters=parameters, num_boost_round=10, n_jobs=-1, silent=False)\n",
        "\n",
        "model_xgb = xgbc.fit(X_train, y_train)\n",
        "\n",
        "xgb.plot_importance(model_xgb)\n",
        "\n",
        "\n",
        "precision_xgb = {}\n",
        "recall_xgb = {}\n",
        "for i in range(1, 11):\n",
        "  precision_xgb[i] = 0\n",
        "  recall_xgb[i] = 0\n",
        "\n",
        "total = 0\n",
        "\n",
        "for user_id, group_u in tqdm(new_val_set.groupby('user_id'), position=0):\n",
        "\n",
        "  for order_id, group_o in group_u.groupby('order_id'):\n",
        "    #Купленные товары\n",
        "    bought = np.array(list(set(group_o['product_id'])))\n",
        "\n",
        "    #Ищем товары, которые порекомендует бустинг\n",
        "    order = group_o[['order_id', 'order_dow', 'order_hour_of_day', 'days_since_prior_order']]\n",
        "    prods = prods_df[prods_df['user_id']==user_id].drop_duplicates(subset=['product_id'])\n",
        "\n",
        "    prods['order_dow'] = prods['order_dow'].apply(lambda x: order['order_dow'].values[0])\n",
        "    prods['order_hour_of_day'] = prods['order_hour_of_day'].apply(lambda x: order['order_hour_of_day'].values[0])\n",
        "    prods['days_since_prior_order'] = prods['days_since_prior_order'].apply(lambda x: order['days_since_prior_order'].values[0])\n",
        "\n",
        "    prods['prob'] =  model_xgb.predict_proba(prods[feat_cols[:-1]])[:, 1]\n",
        "\n",
        "    for i in range(1, 11):\n",
        "      recommended_xgb = np.array(list(map(lambda x:int(x[0]),sorted(prods[['product_id', 'prob']].values, key=lambda x: x[1], reverse=True)[:i])))\n",
        "      precision_xgb[i] += np.intersect1d(bought, recommended_xgb).shape[0]/recommended_xgb.shape[0]\n",
        "      recall_xgb[i] += np.intersect1d(bought, recommended_xgb).shape[0]/bought.shape[0]\n",
        "\n",
        "    total += 1\n",
        "\n",
        "for i in range(1, 11):\n",
        "  precision_xgb[i] = precision_xgb[i]/total\n",
        "  recall_xgb[i] = recall_xgb[i]/total\n",
        "\n",
        "print('\\n')\n",
        "print(precision_xgb)\n",
        "print(recall_xgb)"
      ],
      "execution_count": null,
      "outputs": [
        {
          "output_type": "stream",
          "text": [
            "100%|██████████| 6605/6605 [05:14<00:00, 21.02it/s]\n"
          ],
          "name": "stderr"
        },
        {
          "output_type": "stream",
          "text": [
            "\n",
            "\n",
            "{1: 0.4867524602573808, 2: 0.44231642694928086, 3: 0.40693918748422564, 4: 0.37779460005046683, 5: 0.35540625788542485, 6: 0.3370943729497829, 7: 0.3216425146894613, 8: 0.308307108611802, 9: 0.29734319238673196, 10: 0.2874491727046514}\n",
            "{1: 0.08774678589445764, 2: 0.14781502363885995, 3: 0.19614654230535486, 4: 0.2344830347543294, 5: 0.26869635196330094, 6: 0.29944883154511237, 7: 0.32675915283358836, 8: 0.3519387152787104, 9: 0.375926487255584, 10: 0.39739987471766963}\n"
          ],
          "name": "stdout"
        },
        {
          "output_type": "display_data",
          "data": {
            "image/png": "[encoded data removed]",
            "text/plain": [
              "<Figure size 432x288 with 1 Axes>"
            ]
          },
          "metadata": {
            "tags": [],
            "needs_background": "light"
          }
        }
      ]
    },
    {
      "cell_type": "markdown",
      "metadata": {
        "id": "FwUE8PH6Lm0y",
        "colab_type": "text"
      },
      "source": [
        "###Проверяем качество на тесте"
      ]
    },
    {
      "cell_type": "code",
      "metadata": {
        "id": "jYHqDcuULpi4",
        "colab_type": "code",
        "colab": {
          "base_uri": "https://localhost:8080/",
          "height": 400
        },
        "outputId": "8cddbbcc-d63c-40c1-f184-e1b3ee1ee2b7"
      },
      "source": [
        "feat_cols = ['uxp_total_bought', 'uxp_reorder_ratio', 'times_lastN', 'u_total_orders', 'u_reordered_ratio', 'p_total_purchases',\n",
        "             'p_reorder_ratio', 'order_dow', 'order_hour_of_day', 'days_since_prior_order',\n",
        "             '0', '1', '2', '3', '4', '5', '6', '7', '8', '9', '10', '11', '12', 'label']\n",
        "\n",
        "X_train, y_train = new_data_train[feat_cols[:-1]], new_data_train[feat_cols[-1]]\n",
        "\n",
        "parameters = best_params\n",
        "\n",
        "xgbc = xgb.XGBClassifier(objective='binary:logistic', parameters=parameters, num_boost_round=10, n_jobs=-1, silent=False)\n",
        "\n",
        "model_xgb = xgbc.fit(X_train, y_train)\n",
        "\n",
        "xgb.plot_importance(model_xgb)\n",
        "\n",
        "\n",
        "precision_xgb = {}\n",
        "recall_xgb = {}\n",
        "for i in range(1, 11):\n",
        "  precision_xgb[i] = 0\n",
        "  recall_xgb[i] = 0\n",
        "\n",
        "total = 0\n",
        "\n",
        "for user_id, group_u in tqdm(new_test_set.groupby('user_id'), position=0):\n",
        "\n",
        "  for order_id, group_o in group_u.groupby('order_id'):\n",
        "    #Купленные товары\n",
        "    bought = np.array(list(set(group_o['product_id'])))\n",
        "\n",
        "    #Ищем товары, которые порекомендует бустинг\n",
        "    order = group_o[['order_id', 'order_dow', 'order_hour_of_day', 'days_since_prior_order']]\n",
        "    prods = prods_df[prods_df['user_id']==user_id].drop_duplicates(subset=['product_id'])\n",
        "\n",
        "    prods['order_dow'] = prods['order_dow'].apply(lambda x: order['order_dow'].values[0])\n",
        "    prods['order_hour_of_day'] = prods['order_hour_of_day'].apply(lambda x: order['order_hour_of_day'].values[0])\n",
        "    prods['days_since_prior_order'] = prods['days_since_prior_order'].apply(lambda x: order['days_since_prior_order'].values[0])\n",
        "\n",
        "    prods['prob'] =  model_xgb.predict_proba(prods[feat_cols[:-1]])[:, 1]\n",
        "\n",
        "    for i in range(1, 11):\n",
        "      recommended_xgb = np.array(list(map(lambda x:int(x[0]),sorted(prods[['product_id', 'prob']].values, key=lambda x: x[1], reverse=True)[:i])))\n",
        "      precision_xgb[i] += np.intersect1d(bought, recommended_xgb).shape[0]/recommended_xgb.shape[0]\n",
        "      recall_xgb[i] += np.intersect1d(bought, recommended_xgb).shape[0]/bought.shape[0]\n",
        "\n",
        "    total += 1\n",
        "\n",
        "for i in range(1, 11):\n",
        "  precision_xgb[i] = precision_xgb[i]/total\n",
        "  recall_xgb[i] = recall_xgb[i]/total\n",
        "\n",
        "print('\\n')\n",
        "print(precision_xgb)\n",
        "print(recall_xgb)\n",
        "\n",
        "metric_with_elmo_feats = {}\n",
        "\n",
        "metric_with_elmo_feats[it] = [precision_xgb, recall_xgb]\n",
        "\n",
        "with open('/content/drive/My Drive/Colab Notebooks/Diplom/models/elmo/{0}/metric_with_elmo_feats.pkl'.format(it), 'wb') as f:\n",
        "  pkl.dump(metric_with_elmo_feats, f)"
      ],
      "execution_count": null,
      "outputs": [
        {
          "output_type": "stream",
          "text": [
            "100%|██████████| 6605/6605 [04:33<00:00, 24.13it/s]\n"
          ],
          "name": "stderr"
        },
        {
          "output_type": "stream",
          "text": [
            "\n",
            "\n",
            "{1: 0.4544605324614666, 2: 0.41606725829051844, 3: 0.3835590845399413, 4: 0.35862525299704195, 5: 0.3384757901292162, 6: 0.32191966370854314, 7: 0.309764684949186, 8: 0.29963090233758133, 9: 0.2890867640844327, 10: 0.2802155201174271}\n",
            "{1: 0.07915782004545505, 2: 0.13520146887131887, 3: 0.1804229303753051, 4: 0.21932269068602686, 5: 0.25254073032951346, 6: 0.28222238140727546, 7: 0.3104240274367403, 8: 0.338238936818605, 9: 0.36107282738309104, 10: 0.3825879217938798}\n"
          ],
          "name": "stdout"
        },
        {
          "output_type": "display_data",
          "data": {
            "image/png": "[encoded data removed]",
            "text/plain": [
              "<Figure size 432x288 with 1 Axes>"
            ]
          },
          "metadata": {
            "tags": [],
            "needs_background": "light"
          }
        }
      ]
    }
  ]
}