{
  "nbformat": 4,
  "nbformat_minor": 0,
  "metadata": {
    "colab": {
      "name": "Word2Vec_context.ipynb",
      "provenance": [],
      "collapsed_sections": [
        "wAeiJQHQBBgZ"
      ],
      "machine_shape": "hm",
      "authorship_tag": "ABX9TyPxX1FVBogVwMqyZg7KhF1a"
    },
    "kernelspec": {
      "name": "python3",
      "display_name": "Python 3"
    }
  },
  "cells": [
    {
      "cell_type": "code",
      "metadata": {
        "id": "RMOLcv7Oz_F4",
        "colab_type": "code",
        "colab": {
          "base_uri": "https://localhost:8080/",
          "height": 173
        },
        "outputId": "39381628-4f29-42b2-835e-17f7327fc80f"
      },
      "source": [
        "import pandas as pd\n",
        "import numpy as np\n",
        "import re\n",
        "import keras\n",
        "from tqdm import tqdm\n",
        "import pickle as pkl\n",
        "from tensorflow.keras import layers\n",
        "import tensorflow as tf\n",
        "import gc\n",
        "from sklearn.metrics import accuracy_score\n",
        "from gensim.models import Word2Vec\n",
        "from scipy.spatial.distance import euclidean\n",
        "from sklearn.metrics.pairwise import cosine_similarity, euclidean_distances\n",
        "from sklearn.decomposition import PCA\n",
        "import multiprocessing\n",
        "gc.enable()\n",
        "\n",
        "import xgboost as xgb\n",
        "from sklearn.model_selection import RandomizedSearchCV, GridSearchCV\n",
        "from sklearn.model_selection import StratifiedKFold\n",
        "\n",
        "import statsmodels.api as sm\n",
        "import pylab as plt\n",
        "from scipy import stats\n",
        "\n",
        "%pylab inline\n",
        "\n",
        "from google.colab import drive\n",
        "drive.mount('/content/drive')"
      ],
      "execution_count": null,
      "outputs": [
        {
          "output_type": "stream",
          "text": [
            "Using TensorFlow backend.\n"
          ],
          "name": "stderr"
        },
        {
          "output_type": "stream",
          "text": [
            "Populating the interactive namespace from numpy and matplotlib\n",
            "Drive already mounted at /content/drive; to attempt to forcibly remount, call drive.mount(\"/content/drive\", force_remount=True).\n"
          ],
          "name": "stdout"
        },
        {
          "output_type": "stream",
          "text": [
            "/usr/local/lib/python3.6/dist-packages/statsmodels/tools/_testing.py:19: FutureWarning: pandas.util.testing is deprecated. Use the functions in the public API at pandas.testing instead.\n",
            "  import pandas.util.testing as tm\n",
            "/usr/local/lib/python3.6/dist-packages/IPython/core/magics/pylab.py:161: UserWarning: pylab import has clobbered these variables: ['plt']\n",
            "`%matplotlib` prevents importing * from pylab and numpy\n",
            "  \"\\n`%matplotlib` prevents importing * from pylab and numpy\"\n"
          ],
          "name": "stderr"
        }
      ]
    },
    {
      "cell_type": "markdown",
      "metadata": {
        "id": "9nnCaIEPUf6n",
        "colab_type": "text"
      },
      "source": [
        "# Word2Vec для последовательностей товаров"
      ]
    },
    {
      "cell_type": "markdown",
      "metadata": {
        "id": "R5Wxy2S73pF9",
        "colab_type": "text"
      },
      "source": [
        "###Считываем данные и подготавливаем выборку для обучения word2vec"
      ]
    },
    {
      "cell_type": "code",
      "metadata": {
        "id": "DlpboJUD7-Qp",
        "colab_type": "code",
        "colab": {}
      },
      "source": [
        "order_features = pd.read_csv('/content/drive/My Drive/Colab Notebooks/Diplom/instacart-market-basket-analysis/test_train/order_features.csv')\n",
        "order_features['prod_seq'] = order_features['prod_seq'].apply(lambda x: list(np.fromstring(x.strip('[ ]'), dtype=int, sep=', ')))\n",
        "order_features['prev_seq'] = order_features['prev_seq'].apply(lambda x: list(np.fromstring(x.strip('[ ]'), dtype=int, sep=', ')))\n",
        "order_features['prev_orders_seq'] = order_features['prev_orders_seq'].apply(lambda x: list(np.fromstring(x.strip('[ ]'), dtype=int, sep=', ')))\n",
        "\n",
        "train_positive = pd.read_csv('/content/drive/My Drive/Colab Notebooks/Diplom/instacart-market-basket-analysis/test_train/train_positive.csv')\n",
        "train_negative = pd.read_csv('/content/drive/My Drive/Colab Notebooks/Diplom/instacart-market-basket-analysis/test_train/train_negative.csv')\n",
        "\n",
        "with open('/content/drive/My Drive/Colab Notebooks/Diplom/instacart-market-basket-analysis/test_train/id_to_token.pkl', 'rb') as f:\n",
        "  id_to_token = pkl.load(f)\n",
        "\n",
        "with open('/content/drive/My Drive/Colab Notebooks/Diplom/instacart-market-basket-analysis/test_train/token_to_id.pkl', 'rb') as f:\n",
        "  token_to_id = pkl.load(f)\n",
        "\n",
        "with open('/content/drive/My Drive/Colab Notebooks/Diplom/instacart-market-basket-analysis/test_train/val_orders.pkl', 'rb') as f:\n",
        "  val_orders = pkl.load(f)\n",
        "\n",
        "with open('/content/drive/My Drive/Colab Notebooks/Diplom/instacart-market-basket-analysis/test_train/test_orders.pkl', 'rb') as f:\n",
        "  test_orders = pkl.load(f)"
      ],
      "execution_count": null,
      "outputs": []
    },
    {
      "cell_type": "code",
      "metadata": {
        "id": "IHCdXzs9UbMH",
        "colab_type": "code",
        "colab": {}
      },
      "source": [
        "df_train = order_features[(~order_features['order_id'].isin(val_orders)) & (~order_features['order_id'].isin(test_orders))].reset_index(drop=True)\n",
        "df_val = order_features[order_features['order_id'].isin(val_orders)].reset_index(drop=True)\n",
        "df_test = order_features[order_features['order_id'].isin(test_orders)].reset_index(drop=True)"
      ],
      "execution_count": null,
      "outputs": []
    },
    {
      "cell_type": "code",
      "metadata": {
        "id": "ilnESo-dIqMM",
        "colab_type": "code",
        "colab": {}
      },
      "source": [
        "df_train['prod_seq'] = df_train['prod_seq'].apply(lambda x: list(map(lambda y: str(y), x)))"
      ],
      "execution_count": null,
      "outputs": []
    },
    {
      "cell_type": "markdown",
      "metadata": {
        "id": "Levnlf3XAU90",
        "colab_type": "text"
      },
      "source": [
        "###Обучаем word2vec"
      ]
    },
    {
      "cell_type": "code",
      "metadata": {
        "id": "IFPXTHaAx2Ag",
        "colab_type": "code",
        "colab": {
          "base_uri": "https://localhost:8080/",
          "height": 34
        },
        "outputId": "d23abebc-31f5-425e-d0ef-f92c7b44dbcc"
      },
      "source": [
        "print(len(token_to_id)**0.25)"
      ],
      "execution_count": null,
      "outputs": [
        {
          "output_type": "stream",
          "text": [
            "12.551386264918223\n"
          ],
          "name": "stdout"
        }
      ]
    },
    {
      "cell_type": "code",
      "metadata": {
        "id": "h8vzVPM781lM",
        "colab_type": "code",
        "colab": {
          "base_uri": "https://localhost:8080/",
          "height": 68
        },
        "outputId": "a362ead0-cf07-4fc0-83ef-a55e3cf8e67c"
      },
      "source": [
        "mean = np.mean(list(map(len, df_train['prod_seq'])))\n",
        "median = np.median(list(map(len, df_train['prod_seq'])))\n",
        "maxlen = max(list(map(len, df_train['prod_seq'])))\n",
        "\n",
        "print(mean)\n",
        "print(median)\n",
        "print(maxlen)"
      ],
      "execution_count": null,
      "outputs": [
        {
          "output_type": "stream",
          "text": [
            "9.551242266330972\n",
            "8.0\n",
            "78\n"
          ],
          "name": "stdout"
        }
      ]
    },
    {
      "cell_type": "code",
      "metadata": {
        "id": "_VRLAK276dEf",
        "colab_type": "code",
        "colab": {}
      },
      "source": [
        "wv_size = 100\n",
        "\n",
        "w2v = Word2Vec(df_train['prod_seq'], size=wv_size, window=maxlen, min_count=1, workers=multiprocessing.cpu_count())"
      ],
      "execution_count": null,
      "outputs": []
    },
    {
      "cell_type": "code",
      "metadata": {
        "id": "tb1pUw2k-dTa",
        "colab_type": "code",
        "colab": {
          "base_uri": "https://localhost:8080/",
          "height": 34
        },
        "outputId": "219dd608-5a9a-4302-c3ee-3c8e29d9ed33"
      },
      "source": [
        "w2v.train(df_train['prod_seq'], total_examples=df_train.shape[0], epochs=25)"
      ],
      "execution_count": null,
      "outputs": [
        {
          "output_type": "execute_result",
          "data": {
            "text/plain": [
              "(23199243, 24468850)"
            ]
          },
          "metadata": {
            "tags": []
          },
          "execution_count": 10
        }
      ]
    },
    {
      "cell_type": "code",
      "metadata": {
        "id": "oCSJe2aA83Ob",
        "colab_type": "code",
        "colab": {
          "base_uri": "https://localhost:8080/",
          "height": 71
        },
        "outputId": "bac84a65-5224-416e-899e-30ad3e8f6213"
      },
      "source": [
        "#w2v.save('/content/drive/My Drive/Colab Notebooks/Diplom/models/word_to_vec/w2v_size100_eps25.model')"
      ],
      "execution_count": null,
      "outputs": [
        {
          "output_type": "stream",
          "text": [
            "/usr/local/lib/python3.6/dist-packages/smart_open/smart_open_lib.py:253: UserWarning: This function is deprecated, use smart_open.open instead. See the migration notes for details: https://github.com/RaRe-Technologies/smart_open/blob/master/README.rst#migrating-to-the-new-open-function\n",
            "  'See the migration notes for details: %s' % _MIGRATION_NOTES_URL\n"
          ],
          "name": "stderr"
        }
      ]
    },
    {
      "cell_type": "markdown",
      "metadata": {
        "id": "Nw9s7mP2nq8c",
        "colab_type": "text"
      },
      "source": [
        "# Word2Vec + XGB"
      ]
    },
    {
      "cell_type": "markdown",
      "metadata": {
        "id": "MkH_2Ub3sypw",
        "colab_type": "text"
      },
      "source": [
        "###Понижаем размерность векторов word2vec"
      ]
    },
    {
      "cell_type": "code",
      "metadata": {
        "id": "8JyBJc_0LWcQ",
        "colab_type": "code",
        "colab": {}
      },
      "source": [
        "pos_neg = pd.concat((train_positive, train_negative), axis=0)"
      ],
      "execution_count": null,
      "outputs": []
    },
    {
      "cell_type": "code",
      "metadata": {
        "id": "eWNmaVzpqaMx",
        "colab_type": "code",
        "colab": {}
      },
      "source": [
        "data_train = pos_neg[(~pos_neg['order_id'].isin(val_orders)) & (~pos_neg['order_id'].isin(test_orders))].sample(frac=1)\n",
        "data_val = pos_neg[pos_neg['order_id'].isin(val_orders)].sample(frac=1)\n",
        "data_test = pos_neg[pos_neg['order_id'].isin(test_orders)].sample(frac=1)"
      ],
      "execution_count": null,
      "outputs": []
    },
    {
      "cell_type": "code",
      "metadata": {
        "id": "-eS6BjU6MMlG",
        "colab_type": "code",
        "colab": {}
      },
      "source": [
        "w2v_matrix = np.zeros((len(id_to_token), 100))\n",
        "for i_d, token in id_to_token.items():\n",
        "  w2v_matrix[i_d, :] = w2v.wv[str(token)]"
      ],
      "execution_count": null,
      "outputs": []
    },
    {
      "cell_type": "code",
      "metadata": {
        "id": "ob7P8TpZsJST",
        "colab_type": "code",
        "colab": {}
      },
      "source": [
        "pca = PCA(n_components=13, random_state=432)\n",
        "\n",
        "w2v_matrix_red = pca.fit_transform(w2v_matrix)"
      ],
      "execution_count": null,
      "outputs": []
    },
    {
      "cell_type": "code",
      "metadata": {
        "id": "UKM7Q6mIsrY5",
        "colab_type": "code",
        "colab": {}
      },
      "source": [
        "w2v_to_df = np.zeros((w2v_matrix_red.shape[0], w2v_matrix_red.shape[1] + 1))\n",
        "for i_d, token in id_to_token.items():\n",
        "  w2v_to_df[i_d, 0] = token\n",
        "  w2v_to_df[i_d, 1:] = w2v_matrix_red[i_d, :]"
      ],
      "execution_count": null,
      "outputs": []
    },
    {
      "cell_type": "code",
      "metadata": {
        "id": "y18dLi94ynBp",
        "colab_type": "code",
        "colab": {}
      },
      "source": [
        "w2v_df = pd.DataFrame(w2v_to_df, columns=['product_id', '0', '1', '2', '3', '4', '5', '6', '7' ,'8', '9', '10', '11', '12'])"
      ],
      "execution_count": null,
      "outputs": []
    },
    {
      "cell_type": "markdown",
      "metadata": {
        "id": "s3TYB6KXs_ws",
        "colab_type": "text"
      },
      "source": [
        "###Собираем новый датасет для бустинга"
      ]
    },
    {
      "cell_type": "code",
      "metadata": {
        "id": "2M8MO7V0zTA9",
        "colab_type": "code",
        "colab": {}
      },
      "source": [
        "new_data_train = data_train#.merge(w2v_df, how='inner', on='product_id')\n",
        "new_data_val = data_val#.merge(w2v_df, how='inner', on='product_id')\n",
        "new_data_test = data_test#.merge(w2v_df, how='inner', on='product_id')"
      ],
      "execution_count": null,
      "outputs": []
    },
    {
      "cell_type": "code",
      "metadata": {
        "id": "n_BVak4dinUS",
        "colab_type": "code",
        "colab": {
          "base_uri": "https://localhost:8080/",
          "height": 224
        },
        "outputId": "5110d97c-6121-4bbf-b3b6-e40eb68364db"
      },
      "source": [
        "new_data_val.head()"
      ],
      "execution_count": null,
      "outputs": [
        {
          "output_type": "execute_result",
          "data": {
            "text/html": [
              "<div>\n",
              "<style scoped>\n",
              "    .dataframe tbody tr th:only-of-type {\n",
              "        vertical-align: middle;\n",
              "    }\n",
              "\n",
              "    .dataframe tbody tr th {\n",
              "        vertical-align: top;\n",
              "    }\n",
              "\n",
              "    .dataframe thead th {\n",
              "        text-align: right;\n",
              "    }\n",
              "</style>\n",
              "<table border=\"1\" class=\"dataframe\">\n",
              "  <thead>\n",
              "    <tr style=\"text-align: right;\">\n",
              "      <th></th>\n",
              "      <th>user_id</th>\n",
              "      <th>product_id</th>\n",
              "      <th>uxp_total_bought</th>\n",
              "      <th>uxp_reorder_ratio</th>\n",
              "      <th>times_lastN</th>\n",
              "      <th>u_total_orders</th>\n",
              "      <th>u_reordered_ratio</th>\n",
              "      <th>p_total_purchases</th>\n",
              "      <th>p_reorder_ratio</th>\n",
              "      <th>order_id</th>\n",
              "      <th>order_number</th>\n",
              "      <th>order_dow</th>\n",
              "      <th>order_hour_of_day</th>\n",
              "      <th>days_since_prior_order</th>\n",
              "      <th>label</th>\n",
              "    </tr>\n",
              "  </thead>\n",
              "  <tbody>\n",
              "    <tr>\n",
              "      <th>1141483</th>\n",
              "      <td>3956</td>\n",
              "      <td>12341</td>\n",
              "      <td>1</td>\n",
              "      <td>0.593333</td>\n",
              "      <td>1</td>\n",
              "      <td>5.0</td>\n",
              "      <td>0.169811</td>\n",
              "      <td>2098.0</td>\n",
              "      <td>0.765491</td>\n",
              "      <td>2519426</td>\n",
              "      <td>7</td>\n",
              "      <td>3</td>\n",
              "      <td>14</td>\n",
              "      <td>9.0</td>\n",
              "      <td>1</td>\n",
              "    </tr>\n",
              "    <tr>\n",
              "      <th>274160</th>\n",
              "      <td>2846</td>\n",
              "      <td>44661</td>\n",
              "      <td>5</td>\n",
              "      <td>1.000000</td>\n",
              "      <td>5</td>\n",
              "      <td>11.0</td>\n",
              "      <td>0.497268</td>\n",
              "      <td>417.0</td>\n",
              "      <td>0.604317</td>\n",
              "      <td>3005259</td>\n",
              "      <td>12</td>\n",
              "      <td>6</td>\n",
              "      <td>21</td>\n",
              "      <td>1.0</td>\n",
              "      <td>1</td>\n",
              "    </tr>\n",
              "    <tr>\n",
              "      <th>1187274</th>\n",
              "      <td>9571</td>\n",
              "      <td>43295</td>\n",
              "      <td>1</td>\n",
              "      <td>0.833333</td>\n",
              "      <td>1</td>\n",
              "      <td>2.0</td>\n",
              "      <td>0.058824</td>\n",
              "      <td>845.0</td>\n",
              "      <td>0.752663</td>\n",
              "      <td>2144152</td>\n",
              "      <td>4</td>\n",
              "      <td>6</td>\n",
              "      <td>18</td>\n",
              "      <td>22.0</td>\n",
              "      <td>1</td>\n",
              "    </tr>\n",
              "    <tr>\n",
              "      <th>1170401</th>\n",
              "      <td>7496</td>\n",
              "      <td>17948</td>\n",
              "      <td>1</td>\n",
              "      <td>0.900000</td>\n",
              "      <td>1</td>\n",
              "      <td>1.0</td>\n",
              "      <td>0.000000</td>\n",
              "      <td>1066.0</td>\n",
              "      <td>0.623827</td>\n",
              "      <td>2546250</td>\n",
              "      <td>3</td>\n",
              "      <td>3</td>\n",
              "      <td>22</td>\n",
              "      <td>18.0</td>\n",
              "      <td>1</td>\n",
              "    </tr>\n",
              "    <tr>\n",
              "      <th>1048595</th>\n",
              "      <td>10666</td>\n",
              "      <td>37524</td>\n",
              "      <td>5</td>\n",
              "      <td>0.131579</td>\n",
              "      <td>0</td>\n",
              "      <td>40.0</td>\n",
              "      <td>0.697411</td>\n",
              "      <td>391.0</td>\n",
              "      <td>0.585678</td>\n",
              "      <td>481570</td>\n",
              "      <td>42</td>\n",
              "      <td>0</td>\n",
              "      <td>13</td>\n",
              "      <td>7.0</td>\n",
              "      <td>1</td>\n",
              "    </tr>\n",
              "  </tbody>\n",
              "</table>\n",
              "</div>"
            ],
            "text/plain": [
              "         user_id  product_id  ...  days_since_prior_order  label\n",
              "1141483     3956       12341  ...                     9.0      1\n",
              "274160      2846       44661  ...                     1.0      1\n",
              "1187274     9571       43295  ...                    22.0      1\n",
              "1170401     7496       17948  ...                    18.0      1\n",
              "1048595    10666       37524  ...                     7.0      1\n",
              "\n",
              "[5 rows x 15 columns]"
            ]
          },
          "metadata": {
            "tags": []
          },
          "execution_count": 30
        }
      ]
    },
    {
      "cell_type": "code",
      "metadata": {
        "id": "7jlSNONmiUOG",
        "colab_type": "code",
        "colab": {}
      },
      "source": [
        "new_data_val = new_data_val.merge(order_features[['order_id', 'prev_orders_seq']], how='inner', on='order_id')\n",
        "new_data_test = new_data_test.merge(order_features[['order_id', 'prev_orders_seq']], how='inner', on='order_id')"
      ],
      "execution_count": null,
      "outputs": []
    },
    {
      "cell_type": "code",
      "metadata": {
        "id": "F7IqdBlGSDD2",
        "colab_type": "code",
        "colab": {}
      },
      "source": [
        "new_data_train = new_data_train.sample(frac=1).reset_index(drop=True)"
      ],
      "execution_count": null,
      "outputs": []
    },
    {
      "cell_type": "code",
      "metadata": {
        "id": "U6UZA0uGe6a3",
        "colab_type": "code",
        "colab": {}
      },
      "source": [
        "new_train_set = new_data_train[new_data_train['label'] == 1]\n",
        "new_val_set = new_data_val[new_data_val['label'] == 1]\n",
        "new_test_set = new_data_test[new_data_test['label'] == 1]\n",
        "it = 1"
      ],
      "execution_count": null,
      "outputs": []
    },
    {
      "cell_type": "markdown",
      "metadata": {
        "id": "wAeiJQHQBBgZ",
        "colab_type": "text"
      },
      "source": [
        "###Ищем оптимальные параметры для бустинга на валидации"
      ]
    },
    {
      "cell_type": "code",
      "metadata": {
        "id": "0lMcl54NC6Cj",
        "colab_type": "code",
        "colab": {}
      },
      "source": [
        "feat_cols = ['uxp_total_bought', 'uxp_reorder_ratio', 'times_lastN', 'u_total_orders', 'u_reordered_ratio', 'p_total_purchases',\n",
        "             'p_reorder_ratio', 'order_dow', 'order_hour_of_day', 'days_since_prior_order', 'label']"
      ],
      "execution_count": null,
      "outputs": []
    },
    {
      "cell_type": "code",
      "metadata": {
        "id": "SYB_j5D8GUL0",
        "colab_type": "code",
        "colab": {}
      },
      "source": [
        "params = [{'eval_metric':'logloss', 'min_child_weight':i, 'gamma':j, 'subsample':k, 'colsample_bytree':x, 'max_depth':y} for i in [1, 5] \n",
        "       for j in [0, 1] for k in [0.6, 0.75, 0.8] for x in [0.4, 0.6] for y in [3, 5]]"
      ],
      "execution_count": null,
      "outputs": []
    },
    {
      "cell_type": "code",
      "metadata": {
        "id": "xyYKlh91Bukq",
        "colab_type": "code",
        "colab": {}
      },
      "source": [
        "best_params = params[0]\n",
        "best_quality = 0\n",
        "\n",
        "for param in tqdm(params, position=0):\n",
        "  X_train, y_train = new_data_train[feat_cols[:-1]], new_data_train[feat_cols[-1]]\n",
        "\n",
        "  xgbc = xgb.XGBClassifier(objective='binary:logistic', parameters=param, num_boost_round=10, n_jobs=-1, silent=False, )\n",
        "\n",
        "  model_xgb = xgbc.fit(X_train, y_train)\n",
        "\n",
        "  xgb.plot_importance(model_xgb)\n",
        "\n",
        "  precision_xgb = {}\n",
        "  recall_xgb = {}\n",
        "  for i in range(1, 11):\n",
        "    precision_xgb[i] = 0\n",
        "    recall_xgb[i] = 0\n",
        "\n",
        "  total = 0\n",
        "\n",
        "  for user_id, group_u in new_val_set.groupby('user_id'):\n",
        "\n",
        "    for order_id, group_o in group_u.groupby('order_id'):\n",
        "      #Купленные товары\n",
        "      bought = np.array(list(set(group_o['product_id'])))\n",
        "\n",
        "      #Ищем товары, которые порекомендует бустинг\n",
        "      order = group_o[['order_id', 'order_dow', 'order_hour_of_day', 'days_since_prior_order']]\n",
        "      prods = new_data_train[new_data_train['user_id']==user_id].drop_duplicates(subset=['product_id'])\n",
        "\n",
        "      prods['order_dow'] = prods['order_dow'].apply(lambda x: order['order_dow'].values[0])\n",
        "      prods['order_hour_of_day'] = prods['order_hour_of_day'].apply(lambda x: order['order_hour_of_day'].values[0])\n",
        "      prods['days_since_prior_order'] = prods['days_since_prior_order'].apply(lambda x: order['days_since_prior_order'].values[0])\n",
        "\n",
        "      prods['prob'] =  model_xgb.predict_proba(prods[feat_cols[:-1]])[:, 1]\n",
        "\n",
        "      for i in range(1, 11):\n",
        "        recommended_xgb = np.array(list(map(lambda x:int(x[0]),sorted(prods[['product_id', 'prob']].values, key=lambda x: x[1], reverse=True)[:i])))\n",
        "        precision_xgb[i] += np.intersect1d(bought, recommended_xgb).shape[0]/recommended_xgb.shape[0]\n",
        "        recall_xgb[i] += np.intersect1d(bought, recommended_xgb).shape[0]/bought.shape[0]\n",
        "\n",
        "      total += 1\n",
        "\n",
        "  for i in range(1, 11):\n",
        "    precision_xgb[i] = precision_xgb[i]/total\n",
        "    recall_xgb[i] = recall_xgb[i]/total\n",
        "\n",
        "  quality_precision = []\n",
        "  quality_recall = []\n",
        "\n",
        "  for i in range(1, 11):\n",
        "    quality_precision.append(precision_xgb[i])\n",
        "    quality_recall.append(recall_xgb[i])\n",
        "  new_quality = (np.mean(quality_precision) + np.mean(quality_recall))/2.\n",
        "\n",
        "  if new_quality > best_quality:\n",
        "    best_quality = new_quality\n",
        "    best_params = param\n",
        "\n",
        "print(best_params)"
      ],
      "execution_count": null,
      "outputs": []
    },
    {
      "cell_type": "code",
      "metadata": {
        "id": "0Bi2UOjaSLR9",
        "colab_type": "code",
        "colab": {}
      },
      "source": [
        "best_params = {'colsample_bytree': 0.4,\n",
        " 'eval_metric': 'logloss',\n",
        " 'gamma': 0,\n",
        " 'max_depth': 3,\n",
        " 'min_child_weight': 1,\n",
        " 'subsample': 0.6}"
      ],
      "execution_count": null,
      "outputs": []
    },
    {
      "cell_type": "markdown",
      "metadata": {
        "id": "HbT-8VA30Mb7",
        "colab_type": "text"
      },
      "source": [
        "###Обучаем и проверяем качество на валидации"
      ]
    },
    {
      "cell_type": "markdown",
      "metadata": {
        "id": "1oCamAPPZ4mk",
        "colab_type": "text"
      },
      "source": [
        "С признаками w2v"
      ]
    },
    {
      "cell_type": "code",
      "metadata": {
        "id": "OotNksfP0Nwl",
        "colab_type": "code",
        "colab": {
          "base_uri": "https://localhost:8080/",
          "height": 400
        },
        "outputId": "1a65dd6e-1b51-43e4-ccc5-50f09002d2f8"
      },
      "source": [
        "feat_cols = ['uxp_total_bought', 'uxp_reorder_ratio', 'times_lastN', 'u_total_orders', 'u_reordered_ratio', 'p_total_purchases',\n",
        "             'p_reorder_ratio', 'order_dow', 'order_hour_of_day', 'days_since_prior_order', 'label']\n",
        "\n",
        "X_train, y_train = new_data_train[feat_cols[:-1]], new_data_train[feat_cols[-1]]\n",
        "\n",
        "parameters = best_params\n",
        "\n",
        "xgbc = xgb.XGBClassifier(objective='binary:logistic', parameters=parameters, num_boost_round=10, n_jobs=-1, silent=False)\n",
        "\n",
        "model_xgb = xgbc.fit(X_train, y_train)\n",
        "\n",
        "xgb.plot_importance(model_xgb)\n",
        "\n",
        "\n",
        "precision_xgb = {}\n",
        "recall_xgb = {}\n",
        "for i in range(1, 11):\n",
        "  precision_xgb[i] = 0\n",
        "  recall_xgb[i] = 0\n",
        "\n",
        "total = 0\n",
        "\n",
        "for user_id, group_u in tqdm(new_val_set.groupby('user_id'), position=0):\n",
        "\n",
        "  for order_id, group_o in group_u.groupby('order_id'):\n",
        "    #Купленные товары\n",
        "    bought = np.array(list(set(group_o['product_id'])))\n",
        "\n",
        "    #Ищем товары, которые порекомендует бустинг\n",
        "    order = group_o[['order_id', 'order_dow', 'order_hour_of_day', 'days_since_prior_order']]\n",
        "    prods = new_data_train[new_data_train['user_id']==user_id].drop_duplicates(subset=['product_id'])\n",
        "\n",
        "    prev_orders_seq = group_o['prev_orders_seq'].values[0]\n",
        "    prev_vecs = list(map(lambda x: w2v.wv[str(x)], prev_orders_seq))\n",
        "    prev_vector = np.mean(np.reshape(prev_vecs, (len(prev_vecs), 100)), axis=0)\n",
        "\n",
        "    all_prods = prods['product_id'].values\n",
        "    all_prods_vec = np.zeros((len(all_prods), 100))\n",
        "    for i in range(len(all_prods)):\n",
        "      all_prods_vec[i, :] = w2v.wv[str(all_prods[i])]\n",
        "\n",
        "    ind_for_prods = np.argsort(cosine_similarity(all_prods_vec, prev_vector.reshape(1,-1)), axis=0).reshape(-1,)[::-1]\n",
        "\n",
        "    target_prods = all_prods[ind_for_prods]\n",
        "\n",
        "    prods = prods[prods['product_id'].isin(target_prods[:10])]\n",
        "\n",
        "    prods['order_dow'] = prods['order_dow'].apply(lambda x: order['order_dow'].values[0])\n",
        "    prods['order_hour_of_day'] = prods['order_hour_of_day'].apply(lambda x: order['order_hour_of_day'].values[0])\n",
        "    prods['days_since_prior_order'] = prods['days_since_prior_order'].apply(lambda x: order['days_since_prior_order'].values[0])\n",
        "\n",
        "    prods['prob'] =  model_xgb.predict_proba(prods[feat_cols[:-1]])[:, 1]\n",
        "\n",
        "    for i in range(1, 11):\n",
        "      recommended_xgb = np.array(list(map(lambda x:int(x[0]),sorted(prods[['product_id', 'prob']].values, key=lambda x: x[1], reverse=True)[:i])))\n",
        "      precision_xgb[i] += np.intersect1d(bought, recommended_xgb).shape[0]/recommended_xgb.shape[0]\n",
        "      recall_xgb[i] += np.intersect1d(bought, recommended_xgb).shape[0]/bought.shape[0]\n",
        "\n",
        "    total += 1\n",
        "\n",
        "for i in range(1, 11):\n",
        "  precision_xgb[i] = precision_xgb[i]/total\n",
        "  recall_xgb[i] = recall_xgb[i]/total\n",
        "\n",
        "print('\\n')\n",
        "print(precision_xgb)\n",
        "print(recall_xgb)"
      ],
      "execution_count": null,
      "outputs": [
        {
          "output_type": "stream",
          "text": [
            "100%|██████████| 6605/6605 [06:57<00:00, 15.81it/s]\n"
          ],
          "name": "stderr"
        },
        {
          "output_type": "stream",
          "text": [
            "\n",
            "\n",
            "{1: 0.44496593489780467, 2: 0.38523845571536713, 3: 0.3435150138783797, 4: 0.3121940449154684, 5: 0.2897072924551998, 6: 0.2715569013373665, 7: 0.25796510580008947, 8: 0.24761174795429164, 9: 0.24069253691888784, 10: 0.2367342561551393}\n",
            "{1: 0.08169110645449497, 2: 0.13066208578909083, 3: 0.16506721454593531, 4: 0.19177726272677742, 5: 0.21380720671364387, 6: 0.2317511149395426, 7: 0.24833056718052468, 8: 0.2650256397348837, 9: 0.2832790282215032, 10: 0.302956106235157}\n"
          ],
          "name": "stdout"
        },
        {
          "output_type": "display_data",
          "data": {
            "image/png": "[encoded data removed]",
            "text/plain": [
              "<Figure size 432x288 with 1 Axes>"
            ]
          },
          "metadata": {
            "tags": [],
            "needs_background": "light"
          }
        }
      ]
    },
    {
      "cell_type": "markdown",
      "metadata": {
        "id": "zIDm1jUkZzug",
        "colab_type": "text"
      },
      "source": [
        "Без признаков w2v"
      ]
    },
    {
      "cell_type": "code",
      "metadata": {
        "id": "M-UDxKkL0XY7",
        "colab_type": "code",
        "colab": {
          "base_uri": "https://localhost:8080/",
          "height": 400
        },
        "outputId": "1cd3abcb-a9ec-4090-963e-4d63fa800019"
      },
      "source": [
        "feat_cols = ['uxp_total_bought', 'uxp_reorder_ratio', 'times_lastN', 'u_total_orders', 'u_reordered_ratio', 'p_total_purchases',\n",
        "             'p_reorder_ratio', 'order_dow', 'order_hour_of_day', 'days_since_prior_order', 'label']\n",
        "\n",
        "X_train, y_train = new_data_train[feat_cols[:-1]], new_data_train[feat_cols[-1]]\n",
        "\n",
        "parameters = best_params\n",
        "\n",
        "xgbc = xgb.XGBClassifier(objective='binary:logistic', parameters=parameters, num_boost_round=10, n_jobs=-1, silent=False)\n",
        "\n",
        "model_xgb = xgbc.fit(X_train, y_train)\n",
        "\n",
        "xgb.plot_importance(model_xgb)\n",
        "\n",
        "precision_xgb = {}\n",
        "recall_xgb = {}\n",
        "for i in range(1, 11):\n",
        "  precision_xgb[i] = 0\n",
        "  recall_xgb[i] = 0\n",
        "\n",
        "total = 0\n",
        "\n",
        "for user_id, group_u in tqdm(new_val_set.groupby('user_id'), position=0):\n",
        "\n",
        "  for order_id, group_o in group_u.groupby('order_id'):\n",
        "    #Купленные товары\n",
        "    bought = np.array(list(set(group_o['product_id'])))\n",
        "\n",
        "    #Ищем товары, которые порекомендует бустинг\n",
        "    order = group_o[['order_id', 'order_dow', 'order_hour_of_day', 'days_since_prior_order']]\n",
        "    prods = new_data_train[new_data_train['user_id']==user_id].drop_duplicates(subset=['product_id'])\n",
        "\n",
        "    prods['order_dow'] = prods['order_dow'].apply(lambda x: order['order_dow'].values[0])\n",
        "    prods['order_hour_of_day'] = prods['order_hour_of_day'].apply(lambda x: order['order_hour_of_day'].values[0])\n",
        "    prods['days_since_prior_order'] = prods['days_since_prior_order'].apply(lambda x: order['days_since_prior_order'].values[0])\n",
        "\n",
        "    prods['prob'] =  model_xgb.predict_proba(prods[feat_cols[:-1]])[:, 1]\n",
        "\n",
        "    for i in range(1, 11):\n",
        "      recommended_xgb = np.array(list(map(lambda x:int(x[0]),sorted(prods[['product_id', 'prob']].values, key=lambda x: x[1], reverse=True)[:i])))\n",
        "      precision_xgb[i] += np.intersect1d(bought, recommended_xgb).shape[0]/recommended_xgb.shape[0]\n",
        "      recall_xgb[i] += np.intersect1d(bought, recommended_xgb).shape[0]/bought.shape[0]\n",
        "\n",
        "    total += 1\n",
        "\n",
        "for i in range(1, 11):\n",
        "  precision_xgb[i] = precision_xgb[i]/total\n",
        "  recall_xgb[i] = recall_xgb[i]/total\n",
        "\n",
        "print('\\n')\n",
        "print(precision_xgb)\n",
        "print(recall_xgb)"
      ],
      "execution_count": null,
      "outputs": [
        {
          "output_type": "stream",
          "text": [
            "100%|██████████| 6605/6605 [05:20<00:00, 20.62it/s]\n"
          ],
          "name": "stderr"
        },
        {
          "output_type": "stream",
          "text": [
            "\n",
            "\n",
            "{1: 0.4598788796366389, 2: 0.4102573807721423, 3: 0.3716250315417603, 4: 0.34287156194801954, 5: 0.3187761796618628, 6: 0.2998814029775389, 7: 0.28491438664793306, 8: 0.2712964565084173, 9: 0.25986992778439466, 10: 0.24976983526187624}\n",
            "{1: 0.08424949498174393, 2: 0.13743364087793095, 3: 0.17584637905026093, 4: 0.20589773719155013, 5: 0.22909123746525586, 6: 0.24866006476710908, 7: 0.26579403654600997, 8: 0.2799296166842825, 9: 0.29352567140670616, 10: 0.30537161267310087}\n"
          ],
          "name": "stdout"
        },
        {
          "output_type": "display_data",
          "data": {
            "image/png": "[encoded data removed]",
            "text/plain": [
              "<Figure size 432x288 with 1 Axes>"
            ]
          },
          "metadata": {
            "tags": [],
            "needs_background": "light"
          }
        }
      ]
    },
    {
      "cell_type": "markdown",
      "metadata": {
        "id": "j0-M742Iff6g",
        "colab_type": "text"
      },
      "source": [
        "###Проверяем качество на тесте"
      ]
    },
    {
      "cell_type": "markdown",
      "metadata": {
        "id": "26TyTUH7Z9Fc",
        "colab_type": "text"
      },
      "source": [
        "С признаками w2v"
      ]
    },
    {
      "cell_type": "code",
      "metadata": {
        "id": "ChTqcE5_gGdh",
        "colab_type": "code",
        "colab": {
          "base_uri": "https://localhost:8080/",
          "height": 34
        },
        "outputId": "c4f6cc2b-6293-44f1-e927-512101d597d1"
      },
      "source": [
        "feat_cols = ['uxp_total_bought', 'uxp_reorder_ratio', 'times_lastN', 'u_total_orders', 'u_reordered_ratio', 'p_total_purchases',\n",
        "             'p_reorder_ratio', 'order_dow', 'order_hour_of_day', 'days_since_prior_order',\n",
        "             '0', '1', '2', '3', '4', '5', '6', '7', '8', '9', '10', '11', '12', 'label']\n",
        "\n",
        "X_train, y_train = new_data_train[feat_cols[:-1]], new_data_train[feat_cols[-1]]\n",
        "\n",
        "parameters = best_params\n",
        "\n",
        "xgbc = xgb.XGBClassifier(objective='binary:logistic', parameters=parameters, num_boost_round=10, n_jobs=-1, silent=False)\n",
        "\n",
        "model_xgb = xgbc.fit(X_train, y_train)\n",
        "\n",
        "xgb.plot_importance(model_xgb)\n",
        "\n",
        "\n",
        "precision_xgb = {}\n",
        "recall_xgb = {}\n",
        "for i in range(1, 11):\n",
        "  precision_xgb[i] = 0\n",
        "  recall_xgb[i] = 0\n",
        "\n",
        "total = 0\n",
        "\n",
        "for user_id, group_u in tqdm(new_test_set.groupby('user_id'), position=0):\n",
        "\n",
        "  for order_id, group_o in group_u.groupby('order_id'):\n",
        "    #Купленные товары\n",
        "    bought = np.array(list(set(group_o['product_id'])))\n",
        "\n",
        "    #Ищем товары, которые порекомендует бустинг\n",
        "    order = group_o[['order_id', 'order_dow', 'order_hour_of_day', 'days_since_prior_order']]\n",
        "    prods = new_data_train[new_data_train['user_id']==user_id].drop_duplicates(subset=['product_id'])\n",
        "\n",
        "    prods['order_dow'] = prods['order_dow'].apply(lambda x: order['order_dow'].values[0])\n",
        "    prods['order_hour_of_day'] = prods['order_hour_of_day'].apply(lambda x: order['order_hour_of_day'].values[0])\n",
        "    prods['days_since_prior_order'] = prods['days_since_prior_order'].apply(lambda x: order['days_since_prior_order'].values[0])\n",
        "\n",
        "    prods['prob'] =  model_xgb.predict_proba(prods[feat_cols[:-1]])[:, 1]\n",
        "\n",
        "    for i in range(1, 11):\n",
        "      recommended_xgb = np.array(list(map(lambda x:int(x[0]),sorted(prods[['product_id', 'prob']].values, key=lambda x: x[1], reverse=True)[:i])))\n",
        "      precision_xgb[i] += np.intersect1d(bought, recommended_xgb).shape[0]/recommended_xgb.shape[0]\n",
        "      recall_xgb[i] += np.intersect1d(bought, recommended_xgb).shape[0]/bought.shape[0]\n",
        "\n",
        "    total += 1\n",
        "\n",
        "for i in range(1, 11):\n",
        "  precision_xgb[i] = precision_xgb[i]/total\n",
        "  recall_xgb[i] = recall_xgb[i]/total\n",
        "\n",
        "print('\\n')\n",
        "print(precision_xgb)\n",
        "print(recall_xgb)\n",
        "\n",
        "metric_with_w2v_feats = {}\n",
        "\n",
        "metric_with_w2v_feats[it] = [precision_xgb, recall_xgb]\n",
        "\n",
        "with open('/content/drive/My Drive/Colab Notebooks/Diplom/models/word_to_vec/metric_with_w2v_feats.pkl', 'wb') as f:\n",
        "  pkl.dump(metric_with_w2v_feats, f)"
      ],
      "execution_count": null,
      "outputs": [
        {
          "output_type": "stream",
          "text": [
            " 90%|█████████ | 5966/6605 [03:57<00:25, 25.49it/s]"
          ],
          "name": "stderr"
        }
      ]
    },
    {
      "cell_type": "markdown",
      "metadata": {
        "id": "5rc2DnNlaO3A",
        "colab_type": "text"
      },
      "source": [
        "Без признаков w2v"
      ]
    },
    {
      "cell_type": "code",
      "metadata": {
        "id": "jpdn5KakgLOg",
        "colab_type": "code",
        "colab": {
          "base_uri": "https://localhost:8080/",
          "height": 122
        },
        "outputId": "ac8abca3-6872-4146-bbb5-1f558d146f39"
      },
      "source": [
        "feat_cols = ['uxp_total_bought', 'uxp_reorder_ratio', 'times_lastN', 'u_total_orders', 'u_reordered_ratio', 'p_total_purchases',\n",
        "             'p_reorder_ratio', 'order_dow', 'order_hour_of_day', 'days_since_prior_order', 'label']\n",
        "\n",
        "X_train, y_train = new_data_train[feat_cols[:-1]], new_data_train[feat_cols[-1]]\n",
        "\n",
        "parameters = best_params\n",
        "\n",
        "xgbc = xgb.XGBClassifier(objective='binary:logistic', parameters=parameters, num_boost_round=10, n_jobs=-1, silent=False)\n",
        "\n",
        "model_xgb = xgbc.fit(X_train, y_train)\n",
        "\n",
        "xgb.plot_importance(model_xgb)\n",
        "\n",
        "precision_xgb = {}\n",
        "recall_xgb = {}\n",
        "for i in range(1, 11):\n",
        "  precision_xgb[i] = 0\n",
        "  recall_xgb[i] = 0\n",
        "\n",
        "total = 0\n",
        "\n",
        "for user_id, group_u in tqdm(new_test_set.groupby('user_id'), position=0):\n",
        "\n",
        "  for order_id, group_o in group_u.groupby('order_id'):\n",
        "    #Купленные товары\n",
        "    bought = np.array(list(set(group_o['product_id'])))\n",
        "\n",
        "    #Ищем товары, которые порекомендует бустинг\n",
        "    order = group_o[['order_id', 'order_dow', 'order_hour_of_day', 'days_since_prior_order']]\n",
        "    prods = new_data_train[new_data_train['user_id']==user_id].drop_duplicates(subset=['product_id'])\n",
        "\n",
        "    prods['order_dow'] = prods['order_dow'].apply(lambda x: order['order_dow'].values[0])\n",
        "    prods['order_hour_of_day'] = prods['order_hour_of_day'].apply(lambda x: order['order_hour_of_day'].values[0])\n",
        "    prods['days_since_prior_order'] = prods['days_since_prior_order'].apply(lambda x: order['days_since_prior_order'].values[0])\n",
        "\n",
        "    prods['prob'] =  model_xgb.predict_proba(prods[feat_cols[:-1]])[:, 1]\n",
        "\n",
        "    for i in range(1, 11):\n",
        "      recommended_xgb = np.array(list(map(lambda x:int(x[0]),sorted(prods[['product_id', 'prob']].values, key=lambda x: x[1], reverse=True)[:i])))\n",
        "      precision_xgb[i] += np.intersect1d(bought, recommended_xgb).shape[0]/recommended_xgb.shape[0]\n",
        "      recall_xgb[i] += np.intersect1d(bought, recommended_xgb).shape[0]/bought.shape[0]\n",
        "\n",
        "    total += 1\n",
        "\n",
        "for i in range(1, 11):\n",
        "  precision_xgb[i] = precision_xgb[i]/total\n",
        "  recall_xgb[i] = recall_xgb[i]/total\n",
        "\n",
        "print('\\n')\n",
        "print(precision_xgb)\n",
        "print(recall_xgb)\n",
        "\n",
        "metric_without_w2v_feats = {}\n",
        "\n",
        "metric_without_w2v_feats[it] = [precision_xgb, recall_xgb]\n",
        "\n",
        "with open('/content/drive/My Drive/Colab Notebooks/Diplom/models/word_to_vec/metric_without_w2v_feats.pkl', 'wb') as f:\n",
        "  pkl.dump(metric_without_w2v_feats, f)"
      ],
      "execution_count": null,
      "outputs": [
        {
          "output_type": "stream",
          "text": [
            "100%|██████████| 1278/1278 [00:27<00:00, 46.38it/s]"
          ],
          "name": "stderr"
        },
        {
          "output_type": "stream",
          "text": [
            "\n",
            "\n",
            "{1: 0.6137841352405722, 2: 0.5211313394018205, 3: 0.48862158647594545, 4: 0.4763220632856531, 5: 0.46907238838318405, 6: 0.46493281317728646, 7: 0.46327636386154003, 8: 0.46196436311845973, 9: 0.4612328936776259, 10: 0.4608138790843612}\n",
            "{1: 0.5697876029475513, 2: 0.7573905504984828, 3: 0.8425877763328998, 4: 0.9000758560901606, 5: 0.9324447334200261, 6: 0.9487754659731253, 7: 0.9638383181621154, 8: 0.9713697442566104, 9: 0.9749458170784568, 10: 0.9790637191157345}\n"
          ],
          "name": "stdout"
        },
        {
          "output_type": "stream",
          "text": [
            "\n"
          ],
          "name": "stderr"
        }
      ]
    }
  ]
}