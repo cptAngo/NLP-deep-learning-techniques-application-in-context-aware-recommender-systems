{
  "nbformat": 4,
  "nbformat_minor": 0,
  "metadata": {
    "colab": {
      "name": "Laser.ipynb",
      "provenance": [],
      "collapsed_sections": [
        "x5uAeEMJLYD4",
        "nm1exoXFL4Wn"
      ],
      "machine_shape": "hm",
      "authorship_tag": "ABX9TyOU3GWKSmY13DQqSyRUstTX"
    },
    "kernelspec": {
      "name": "python3",
      "display_name": "Python 3"
    }
  },
  "cells": [
    {
      "cell_type": "code",
      "metadata": {
        "id": "9DRr0ISC3ZsR",
        "colab_type": "code",
        "colab": {}
      },
      "source": [
        "import pandas as pd\n",
        "import numpy as np\n",
        "import re\n",
        "import keras\n",
        "from tqdm import tqdm\n",
        "import pickle as pkl\n",
        "import gc\n",
        "from sklearn.metrics import accuracy_score\n",
        "from gensim.models import Word2Vec\n",
        "from scipy.spatial.distance import euclidean\n",
        "from sklearn.metrics.pairwise import cosine_similarity, euclidean_distances\n",
        "from sklearn.decomposition import PCA\n",
        "import multiprocessing\n",
        "import os\n",
        "gc.enable()\n",
        "\n",
        "import xgboost as xgb\n",
        "from sklearn.model_selection import RandomizedSearchCV, GridSearchCV\n",
        "from sklearn.model_selection import StratifiedKFold\n",
        "\n",
        "import statsmodels.api as sm\n",
        "import pylab as plt\n",
        "from scipy import stats\n",
        "\n",
        "%pylab inline\n",
        "\n",
        "from google.colab import drive\n",
        "drive.mount('/content/drive')"
      ],
      "execution_count": null,
      "outputs": []
    },
    {
      "cell_type": "code",
      "metadata": {
        "id": "6owlL-M9PIwc",
        "colab_type": "code",
        "colab": {}
      },
      "source": [
        "it = 10\n",
        "os.makedirs('/content/drive/My Drive/Colab Notebooks/Diplom/models/laser/{0}'.format(it))"
      ],
      "execution_count": null,
      "outputs": []
    },
    {
      "cell_type": "markdown",
      "metadata": {
        "id": "9nnCaIEPUf6n",
        "colab_type": "text"
      },
      "source": [
        "# Laser для последовательностей товаров"
      ]
    },
    {
      "cell_type": "markdown",
      "metadata": {
        "id": "B_j_J5lwlzjn",
        "colab_type": "text"
      },
      "source": [
        "###Собираем эмбеддинги продуктов"
      ]
    },
    {
      "cell_type": "code",
      "metadata": {
        "id": "6wv4aTHx-JQs",
        "colab_type": "code",
        "colab": {
          "base_uri": "https://localhost:8080/",
          "height": 445
        },
        "outputId": "88474b69-cd44-49a4-abf3-e210c2e98d47"
      },
      "source": [
        "!pip install laserembeddings"
      ],
      "execution_count": null,
      "outputs": [
        {
          "output_type": "stream",
          "text": [
            "Collecting laserembeddings\n",
            "  Downloading https://files.pythonhosted.org/packages/c5/6b/93843d90080666571a79f8eb195fa58aa5e45cf24d36158b9c01dba306e2/laserembeddings-1.0.1-py3-none-any.whl\n",
            "Requirement already satisfied: numpy<2.0.0,>=1.15.4 in /usr/local/lib/python3.6/dist-packages (from laserembeddings) (1.18.4)\n",
            "Collecting transliterate==1.10.2\n",
            "\u001b[?25l  Downloading https://files.pythonhosted.org/packages/a1/6e/9a9d597dbdd6d0172427c8cc07c35736471e631060df9e59eeb87687f817/transliterate-1.10.2-py2.py3-none-any.whl (45kB)\n",
            "\u001b[K     |████████████████████████████████| 51kB 2.6MB/s \n",
            "\u001b[?25hCollecting subword-nmt<0.4.0,>=0.3.6\n",
            "  Downloading https://files.pythonhosted.org/packages/74/60/6600a7bc09e7ab38bc53a48a20d8cae49b837f93f5842a41fe513a694912/subword_nmt-0.3.7-py2.py3-none-any.whl\n",
            "Collecting sacremoses==0.0.35\n",
            "\u001b[?25l  Downloading https://files.pythonhosted.org/packages/1f/8e/ed5364a06a9ba720fddd9820155cc57300d28f5f43a6fd7b7e817177e642/sacremoses-0.0.35.tar.gz (859kB)\n",
            "\u001b[K     |████████████████████████████████| 860kB 7.5MB/s \n",
            "\u001b[?25hRequirement already satisfied: torch<2.0.0,>=1.0.1.post2 in /usr/local/lib/python3.6/dist-packages (from laserembeddings) (1.5.0+cu101)\n",
            "Requirement already satisfied: six>=1.1.0 in /usr/local/lib/python3.6/dist-packages (from transliterate==1.10.2->laserembeddings) (1.12.0)\n",
            "Requirement already satisfied: click in /usr/local/lib/python3.6/dist-packages (from sacremoses==0.0.35->laserembeddings) (7.1.2)\n",
            "Requirement already satisfied: joblib in /usr/local/lib/python3.6/dist-packages (from sacremoses==0.0.35->laserembeddings) (0.15.1)\n",
            "Requirement already satisfied: tqdm in /usr/local/lib/python3.6/dist-packages (from sacremoses==0.0.35->laserembeddings) (4.41.1)\n",
            "Requirement already satisfied: future in /usr/local/lib/python3.6/dist-packages (from torch<2.0.0,>=1.0.1.post2->laserembeddings) (0.16.0)\n",
            "Building wheels for collected packages: sacremoses\n",
            "  Building wheel for sacremoses (setup.py) ... \u001b[?25l\u001b[?25hdone\n",
            "  Created wheel for sacremoses: filename=sacremoses-0.0.35-cp36-none-any.whl size=883999 sha256=bfafd3d4866336c5c9e6eeee03a5af160782398d313381e2bf49b6061c9e9112\n",
            "  Stored in directory: /root/.cache/pip/wheels/63/2a/db/63e2909042c634ef551d0d9ac825b2b0b32dede4a6d87ddc94\n",
            "Successfully built sacremoses\n",
            "Installing collected packages: transliterate, subword-nmt, sacremoses, laserembeddings\n",
            "Successfully installed laserembeddings-1.0.1 sacremoses-0.0.35 subword-nmt-0.3.7 transliterate-1.10.2\n"
          ],
          "name": "stdout"
        }
      ]
    },
    {
      "cell_type": "code",
      "metadata": {
        "id": "iFuKX1-y-LxB",
        "colab_type": "code",
        "colab": {
          "base_uri": "https://localhost:8080/",
          "height": 136
        },
        "outputId": "31b0fc1a-d68e-4865-d8d0-d796f23816df"
      },
      "source": [
        "!python -m laserembeddings download-models"
      ],
      "execution_count": null,
      "outputs": [
        {
          "output_type": "stream",
          "text": [
            "Downloading models into /usr/local/lib/python3.6/dist-packages/laserembeddings/data\n",
            "\n",
            "✅   Downloaded https://dl.fbaipublicfiles.com/laser/models/93langs.fcodes    \n",
            "✅   Downloaded https://dl.fbaipublicfiles.com/laser/models/93langs.fvocab    \n",
            "✅   Downloaded https://dl.fbaipublicfiles.com/laser/models/bilstm.93langs.2018-12-26.pt    \n",
            "\n",
            "✨ You're all set!\n"
          ],
          "name": "stdout"
        }
      ]
    },
    {
      "cell_type": "code",
      "metadata": {
        "id": "fhwdGaGD-Hj9",
        "colab_type": "code",
        "colab": {}
      },
      "source": [
        "from laserembeddings import Laser"
      ],
      "execution_count": null,
      "outputs": []
    },
    {
      "cell_type": "code",
      "metadata": {
        "id": "w_aQPriFl4LC",
        "colab_type": "code",
        "colab": {}
      },
      "source": [
        "products = pd.read_csv('/content/drive/My Drive/Colab Notebooks/Diplom/instacart-market-basket-analysis/products.csv')"
      ],
      "execution_count": null,
      "outputs": []
    },
    {
      "cell_type": "code",
      "metadata": {
        "id": "EfhkXNCzmbFy",
        "colab_type": "code",
        "colab": {
          "base_uri": "https://localhost:8080/",
          "height": 34
        },
        "outputId": "b35a6be1-8aa0-4bb3-e55c-1b8299be7c5f"
      },
      "source": [
        "laser = Laser()\n",
        "\n",
        "laser_embeddings = {}\n",
        "\n",
        "for ind in tqdm(products.index, position=0):\n",
        "  laser_embeddings[products.loc[ind, 'product_id']] = laser.embed_sentences(products.loc[ind, 'product_name'], lang='en')\n",
        "\n",
        "with open('/content/drive/My Drive/Colab Notebooks/Diplom/models/laser/laser_embeddings.pkl', 'wb') as f:\n",
        "  pkl.dump(laser_embeddings, f)"
      ],
      "execution_count": null,
      "outputs": [
        {
          "output_type": "stream",
          "text": [
            "100%|██████████| 49688/49688 [31:35<00:00, 26.21it/s]\n"
          ],
          "name": "stderr"
        }
      ]
    },
    {
      "cell_type": "markdown",
      "metadata": {
        "id": "y3JmNjYc7SlC",
        "colab_type": "text"
      },
      "source": [
        "###Считываем данные и подготавливаем выборку"
      ]
    },
    {
      "cell_type": "code",
      "metadata": {
        "id": "gOM6xQY_emW4",
        "colab_type": "code",
        "colab": {}
      },
      "source": [
        "order_features = pd.read_csv('/content/drive/My Drive/Colab Notebooks/Diplom/instacart-market-basket-analysis/test_train/order_features.csv')\n",
        "order_features['prod_seq'] = order_features['prod_seq'].apply(lambda x: list(np.fromstring(x.strip('[ ]'), dtype=int, sep=', ')))\n",
        "order_features['prev_seq'] = order_features['prev_seq'].apply(lambda x: list(np.fromstring(x.strip('[ ]'), dtype=int, sep=', ')))\n",
        "\n",
        "train_positive = pd.read_csv('/content/drive/My Drive/Colab Notebooks/Diplom/instacart-market-basket-analysis/test_train/train_positive.csv')\n",
        "train_negative = pd.read_csv('/content/drive/My Drive/Colab Notebooks/Diplom/instacart-market-basket-analysis/test_train/train_negative.csv')\n",
        "\n",
        "with open('/content/drive/My Drive/Colab Notebooks/Diplom/instacart-market-basket-analysis/test_train/id_to_token.pkl', 'rb') as f:\n",
        "  id_to_token = pkl.load(f)\n",
        "\n",
        "with open('/content/drive/My Drive/Colab Notebooks/Diplom/instacart-market-basket-analysis/test_train/token_to_id.pkl', 'rb') as f:\n",
        "  token_to_id = pkl.load(f)\n",
        "\n",
        "with open('/content/drive/My Drive/Colab Notebooks/Diplom/instacart-market-basket-analysis/test_train/val_orders.pkl', 'rb') as f:\n",
        "  val_orders = pkl.load(f)\n",
        "\n",
        "with open('/content/drive/My Drive/Colab Notebooks/Diplom/instacart-market-basket-analysis/test_train/test_orders.pkl', 'rb') as f:\n",
        "  test_orders = pkl.load(f)\n",
        "\n",
        "with open('/content/drive/My Drive/Colab Notebooks/Diplom/models/laser/laser_embeddings.pkl', 'rb') as f:\n",
        "  laser_embeddings = pkl.load(f)"
      ],
      "execution_count": null,
      "outputs": []
    },
    {
      "cell_type": "markdown",
      "metadata": {
        "id": "1yLqfTpqJZhg",
        "colab_type": "text"
      },
      "source": [
        "###Понижаем размерность векторов laser"
      ]
    },
    {
      "cell_type": "code",
      "metadata": {
        "id": "ErsGqG8jJeV0",
        "colab_type": "code",
        "colab": {}
      },
      "source": [
        "pos_neg = pd.concat((train_positive, train_negative), axis=0)"
      ],
      "execution_count": null,
      "outputs": []
    },
    {
      "cell_type": "code",
      "metadata": {
        "id": "PPiYEmJ8Jh4N",
        "colab_type": "code",
        "colab": {}
      },
      "source": [
        "data_train = pos_neg[(~pos_neg['order_id'].isin(val_orders)) & (~pos_neg['order_id'].isin(test_orders))].sample(frac=1).drop_duplicates(subset=['uxp_total_bought', 'uxp_reorder_ratio',\n",
        "       'times_lastN', 'u_total_orders', 'u_reordered_ratio', 'p_total_purchases', 'p_reorder_ratio', 'order_dow',\n",
        "        'order_hour_of_day', 'days_since_prior_order'])\n",
        "data_val = pos_neg[pos_neg['order_id'].isin(val_orders)].sample(frac=1)\n",
        "data_test = pos_neg[pos_neg['order_id'].isin(test_orders)].sample(frac=1)"
      ],
      "execution_count": null,
      "outputs": []
    },
    {
      "cell_type": "code",
      "metadata": {
        "id": "sfZ32P2tJj8R",
        "colab_type": "code",
        "colab": {}
      },
      "source": [
        "laser_matrix = np.zeros((len(id_to_token), 1024))\n",
        "for i_d, token in id_to_token.items():\n",
        "  laser_matrix[i_d, :] = laser_embeddings[token]"
      ],
      "execution_count": null,
      "outputs": []
    },
    {
      "cell_type": "code",
      "metadata": {
        "id": "DpgqUr4xJleG",
        "colab_type": "code",
        "colab": {}
      },
      "source": [
        "pca = PCA(n_components=13, random_state=432)\n",
        "\n",
        "laser_matrix_red = pca.fit_transform(laser_matrix)"
      ],
      "execution_count": null,
      "outputs": []
    },
    {
      "cell_type": "code",
      "metadata": {
        "id": "Rq7Y1uFoJqG7",
        "colab_type": "code",
        "colab": {}
      },
      "source": [
        "laser_to_df = np.zeros((laser_matrix_red.shape[0], laser_matrix_red.shape[1] + 1))\n",
        "for i_d, token in id_to_token.items():\n",
        "  laser_to_df[i_d, 0] = token\n",
        "  laser_to_df[i_d, 1:] = laser_matrix_red[i_d, :]"
      ],
      "execution_count": null,
      "outputs": []
    },
    {
      "cell_type": "code",
      "metadata": {
        "id": "vFLWEE5pJspG",
        "colab_type": "code",
        "colab": {}
      },
      "source": [
        "laser_df = pd.DataFrame(laser_to_df, columns=['product_id', '0', '1', '2', '3', '4', '5', '6', '7' ,'8', '9', '10', '11', '12'])"
      ],
      "execution_count": null,
      "outputs": []
    },
    {
      "cell_type": "markdown",
      "metadata": {
        "id": "54zquctSLF7q",
        "colab_type": "text"
      },
      "source": [
        "###Собираем новый датасет для бустинга"
      ]
    },
    {
      "cell_type": "code",
      "metadata": {
        "id": "TVkLVQdMLIKr",
        "colab_type": "code",
        "colab": {}
      },
      "source": [
        "new_data_train = data_train.merge(laser_df, how='inner', on='product_id')\n",
        "new_data_val = data_val.merge(laser_df, how='inner', on='product_id')\n",
        "new_data_test = data_test.merge(laser_df, how='inner', on='product_id')\n",
        "\n",
        "prods_df = train_positive.merge(laser_df, how='inner', on='product_id')"
      ],
      "execution_count": null,
      "outputs": []
    },
    {
      "cell_type": "code",
      "metadata": {
        "id": "ZUhWEQd6LJ_X",
        "colab_type": "code",
        "colab": {}
      },
      "source": [
        "new_data_train = new_data_train.sample(frac=1).reset_index(drop=True)"
      ],
      "execution_count": null,
      "outputs": []
    },
    {
      "cell_type": "code",
      "metadata": {
        "id": "jpf_9s8VLL2Y",
        "colab_type": "code",
        "colab": {}
      },
      "source": [
        "new_val_set = new_data_val[new_data_val['label'] == 1]\n",
        "new_test_set = new_data_test[new_data_test['label'] == 1]"
      ],
      "execution_count": null,
      "outputs": []
    },
    {
      "cell_type": "code",
      "metadata": {
        "id": "7I89mJOoLVqH",
        "colab_type": "code",
        "colab": {}
      },
      "source": [
        "best_params = {'colsample_bytree': 0.4,\n",
        " 'eval_metric': 'logloss',\n",
        " 'gamma': 0,\n",
        " 'max_depth': 3,\n",
        " 'min_child_weight': 1,\n",
        " 'subsample': 0.6}"
      ],
      "execution_count": null,
      "outputs": []
    },
    {
      "cell_type": "markdown",
      "metadata": {
        "id": "x5uAeEMJLYD4",
        "colab_type": "text"
      },
      "source": [
        "###Обучаем и проверяем качество на валидации"
      ]
    },
    {
      "cell_type": "code",
      "metadata": {
        "id": "CjhhaBnALZHE",
        "colab_type": "code",
        "colab": {
          "base_uri": "https://localhost:8080/",
          "height": 400
        },
        "outputId": "ef588fb3-6b38-40e3-dd6b-0acf251a10ec"
      },
      "source": [
        "feat_cols = ['uxp_total_bought', 'uxp_reorder_ratio', 'times_lastN', 'u_total_orders', 'u_reordered_ratio', 'p_total_purchases',\n",
        "             'p_reorder_ratio', 'order_dow', 'order_hour_of_day', 'days_since_prior_order',\n",
        "             '0', '1', '2', '3', '4', '5', '6', '7', '8', '9', '10', '11', '12', 'label']\n",
        "\n",
        "X_train, y_train = new_data_train[feat_cols[:-1]], new_data_train[feat_cols[-1]]\n",
        "\n",
        "parameters = best_params\n",
        "\n",
        "xgbc = xgb.XGBClassifier(objective='binary:logistic', parameters=parameters, num_boost_round=10, n_jobs=-1, silent=False)\n",
        "\n",
        "model_xgb = xgbc.fit(X_train, y_train)\n",
        "\n",
        "xgb.plot_importance(model_xgb)\n",
        "\n",
        "\n",
        "precision_xgb = {}\n",
        "recall_xgb = {}\n",
        "for i in range(1, 11):\n",
        "  precision_xgb[i] = 0\n",
        "  recall_xgb[i] = 0\n",
        "\n",
        "total = 0\n",
        "\n",
        "for user_id, group_u in tqdm(new_val_set.groupby('user_id'), position=0):\n",
        "\n",
        "  for order_id, group_o in group_u.groupby('order_id'):\n",
        "    #Купленные товары\n",
        "    bought = np.array(list(set(group_o['product_id'])))\n",
        "\n",
        "    #Ищем товары, которые порекомендует бустинг\n",
        "    order = group_o[['order_id', 'order_dow', 'order_hour_of_day', 'days_since_prior_order']]\n",
        "    prods = prods_df[prods_df['user_id']==user_id].drop_duplicates(subset=['product_id'])\n",
        "\n",
        "    prods['order_dow'] = prods['order_dow'].apply(lambda x: order['order_dow'].values[0])\n",
        "    prods['order_hour_of_day'] = prods['order_hour_of_day'].apply(lambda x: order['order_hour_of_day'].values[0])\n",
        "    prods['days_since_prior_order'] = prods['days_since_prior_order'].apply(lambda x: order['days_since_prior_order'].values[0])\n",
        "\n",
        "    prods['prob'] =  model_xgb.predict_proba(prods[feat_cols[:-1]])[:, 1]\n",
        "\n",
        "    for i in range(1, 11):\n",
        "      recommended_xgb = np.array(list(map(lambda x:int(x[0]),sorted(prods[['product_id', 'prob']].values, key=lambda x: x[1], reverse=True)[:i])))\n",
        "      precision_xgb[i] += np.intersect1d(bought, recommended_xgb).shape[0]/recommended_xgb.shape[0]\n",
        "      recall_xgb[i] += np.intersect1d(bought, recommended_xgb).shape[0]/bought.shape[0]\n",
        "\n",
        "    total += 1\n",
        "\n",
        "for i in range(1, 11):\n",
        "  precision_xgb[i] = precision_xgb[i]/total\n",
        "  recall_xgb[i] = recall_xgb[i]/total\n",
        "\n",
        "print('\\n')\n",
        "print(precision_xgb)\n",
        "print(recall_xgb)"
      ],
      "execution_count": null,
      "outputs": [
        {
          "output_type": "stream",
          "text": [
            "100%|██████████| 6605/6605 [05:11<00:00, 21.19it/s]\n"
          ],
          "name": "stderr"
        },
        {
          "output_type": "stream",
          "text": [
            "\n",
            "\n",
            "{1: 0.4810749432248297, 2: 0.4373580620741862, 3: 0.4030532424930594, 4: 0.3753343426696947, 5: 0.3536651526621092, 6: 0.3349242997728972, 7: 0.3191660358314539, 8: 0.3062726650084712, 9: 0.295223586027913, 10: 0.28561722720881394}\n",
            "{1: 0.08714598516148936, 2: 0.14649272586453443, 3: 0.19375908508274953, 4: 0.23242111977051222, 5: 0.266969747370138, 6: 0.2974912765224261, 7: 0.3252506616825338, 8: 0.3507247578271425, 9: 0.3745237250369582, 10: 0.3957371868583889}\n"
          ],
          "name": "stdout"
        },
        {
          "output_type": "display_data",
          "data": {
            "image/png": "[encoded data removed]",
            "text/plain": [
              "<Figure size 432x288 with 1 Axes>"
            ]
          },
          "metadata": {
            "tags": [],
            "needs_background": "light"
          }
        }
      ]
    },
    {
      "cell_type": "markdown",
      "metadata": {
        "id": "FwUE8PH6Lm0y",
        "colab_type": "text"
      },
      "source": [
        "###Проверяем качество на тесте"
      ]
    },
    {
      "cell_type": "code",
      "metadata": {
        "id": "jYHqDcuULpi4",
        "colab_type": "code",
        "colab": {
          "base_uri": "https://localhost:8080/",
          "height": 400
        },
        "outputId": "a2634078-de66-444c-8d5b-6825dbf3b310"
      },
      "source": [
        "feat_cols = ['uxp_total_bought', 'uxp_reorder_ratio', 'times_lastN', 'u_total_orders', 'u_reordered_ratio', 'p_total_purchases',\n",
        "             'p_reorder_ratio', 'order_dow', 'order_hour_of_day', 'days_since_prior_order',\n",
        "             '0', '1', '2', '3', '4', '5', '6', '7', '8', '9', '10', '11', '12', 'label']\n",
        "\n",
        "X_train, y_train = new_data_train[feat_cols[:-1]], new_data_train[feat_cols[-1]]\n",
        "\n",
        "parameters = best_params\n",
        "\n",
        "xgbc = xgb.XGBClassifier(objective='binary:logistic', parameters=parameters, num_boost_round=10, n_jobs=-1, silent=False)\n",
        "\n",
        "model_xgb = xgbc.fit(X_train, y_train)\n",
        "\n",
        "xgb.plot_importance(model_xgb)\n",
        "\n",
        "\n",
        "precision_xgb = {}\n",
        "recall_xgb = {}\n",
        "for i in range(1, 11):\n",
        "  precision_xgb[i] = 0\n",
        "  recall_xgb[i] = 0\n",
        "\n",
        "total = 0\n",
        "\n",
        "for user_id, group_u in tqdm(new_test_set.groupby('user_id'), position=0):\n",
        "\n",
        "  for order_id, group_o in group_u.groupby('order_id'):\n",
        "    #Купленные товары\n",
        "    bought = np.array(list(set(group_o['product_id'])))\n",
        "\n",
        "    #Ищем товары, которые порекомендует бустинг\n",
        "    order = group_o[['order_id', 'order_dow', 'order_hour_of_day', 'days_since_prior_order']]\n",
        "    prods = prods_df[prods_df['user_id']==user_id].drop_duplicates(subset=['product_id'])\n",
        "\n",
        "    prods['order_dow'] = prods['order_dow'].apply(lambda x: order['order_dow'].values[0])\n",
        "    prods['order_hour_of_day'] = prods['order_hour_of_day'].apply(lambda x: order['order_hour_of_day'].values[0])\n",
        "    prods['days_since_prior_order'] = prods['days_since_prior_order'].apply(lambda x: order['days_since_prior_order'].values[0])\n",
        "\n",
        "    prods['prob'] =  model_xgb.predict_proba(prods[feat_cols[:-1]])[:, 1]\n",
        "\n",
        "    for i in range(1, 11):\n",
        "      recommended_xgb = np.array(list(map(lambda x:int(x[0]),sorted(prods[['product_id', 'prob']].values, key=lambda x: x[1], reverse=True)[:i])))\n",
        "      precision_xgb[i] += np.intersect1d(bought, recommended_xgb).shape[0]/recommended_xgb.shape[0]\n",
        "      recall_xgb[i] += np.intersect1d(bought, recommended_xgb).shape[0]/bought.shape[0]\n",
        "\n",
        "    total += 1\n",
        "\n",
        "for i in range(1, 11):\n",
        "  precision_xgb[i] = precision_xgb[i]/total\n",
        "  recall_xgb[i] = recall_xgb[i]/total\n",
        "\n",
        "print('\\n')\n",
        "print(precision_xgb)\n",
        "print(recall_xgb)\n",
        "\n",
        "metric_with_laser_feats = {}\n",
        "\n",
        "metric_with_laser_feats[it] = [precision_xgb, recall_xgb]\n",
        "\n",
        "with open('/content/drive/My Drive/Colab Notebooks/Diplom/models/laser/{0}/metric_with_laser_feats.pkl'.format(it), 'wb') as f:\n",
        "  pkl.dump(metric_with_laser_feats, f)"
      ],
      "execution_count": null,
      "outputs": [
        {
          "output_type": "stream",
          "text": [
            "100%|██████████| 6605/6605 [04:23<00:00, 25.11it/s]\n"
          ],
          "name": "stderr"
        },
        {
          "output_type": "stream",
          "text": [
            "\n",
            "\n",
            "{1: 0.456795889771135, 2: 0.4175618869687062, 3: 0.3872022419430241, 4: 0.36189475323057774, 5: 0.34239919040945743, 6: 0.32448855674917837, 7: 0.3110324503458632, 8: 0.3000162362936766, 9: 0.28981331969188556, 10: 0.28036498298524615}\n",
            "{1: 0.0802565763155602, 2: 0.13615831987933777, 3: 0.18180599308105833, 4: 0.22056284370877724, 5: 0.25478647720326436, 6: 0.2836673285344936, 7: 0.3117818555865903, 8: 0.3387403959377382, 9: 0.36170959122177426, 10: 0.382299796298133}\n"
          ],
          "name": "stdout"
        },
        {
          "output_type": "display_data",
          "data": {
            "image/png": "[encoded data removed]",
            "text/plain": [
              "<Figure size 432x288 with 1 Axes>"
            ]
          },
          "metadata": {
            "tags": [],
            "needs_background": "light"
          }
        }
      ]
    }
  ]
}