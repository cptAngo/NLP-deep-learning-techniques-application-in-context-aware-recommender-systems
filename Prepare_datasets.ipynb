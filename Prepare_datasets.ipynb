{
  "nbformat": 4,
  "nbformat_minor": 0,
  "metadata": {
    "kernelspec": {
      "name": "python3",
      "display_name": "Python 3"
    },
    "colab": {
      "name": "Prepare_datasets.ipynb",
      "provenance": [],
      "collapsed_sections": [],
      "machine_shape": "hm"
    }
  },
  "cells": [
    {
      "cell_type": "code",
      "metadata": {
        "id": "g5qnJSK7i0ED",
        "colab_type": "code",
        "colab": {}
      },
      "source": [
        "import pandas as pd\n",
        "import xgboost as xgb\n",
        "import warnings\n",
        "from sklearn.model_selection import GridSearchCV\n",
        "from sklearn.model_selection import train_test_split\n",
        "from sklearn.metrics import f1_score, precision_score, recall_score, accuracy_score, roc_auc_score\n",
        "import matplotlib.pyplot as plt\n",
        "from tqdm import tqdm\n",
        "import pickle as pkl\n",
        "from tensorflow.keras.models import load_model\n",
        "from sklearn.neighbors import NearestNeighbors\n",
        "\n",
        "import gc                       \n",
        "gc.enable()\n",
        "\n",
        "%pylab inline\n",
        "\n",
        "from google.colab import drive\n",
        "drive.mount('/content/drive')"
      ],
      "execution_count": null,
      "outputs": []
    },
    {
      "cell_type": "code",
      "metadata": {
        "id": "icjfepO7Hq3v",
        "colab_type": "code",
        "colab": {}
      },
      "source": [
        "with open('/content/drive/My Drive/Colab Notebooks/Diplom/instacart-market-basket-analysis/test_train/id_to_token.pkl', 'rb') as f:\n",
        "  id_to_token = pkl.load(f)"
      ],
      "execution_count": null,
      "outputs": []
    },
    {
      "cell_type": "code",
      "metadata": {
        "id": "DFR88RDDH0V0",
        "colab_type": "code",
        "colab": {
          "base_uri": "https://localhost:8080/",
          "height": 34
        },
        "outputId": "481ce082-0ef8-43e7-fe21-78617c836675"
      },
      "source": [
        "len(id_to_token)"
      ],
      "execution_count": null,
      "outputs": [
        {
          "output_type": "execute_result",
          "data": {
            "text/plain": [
              "24818"
            ]
          },
          "metadata": {
            "tags": []
          },
          "execution_count": 14
        }
      ]
    },
    {
      "cell_type": "markdown",
      "metadata": {
        "id": "3w86sPFpkgo_",
        "colab_type": "text"
      },
      "source": [
        "##Выделяем заказы для валидации и теста"
      ]
    },
    {
      "cell_type": "code",
      "metadata": {
        "id": "xIem8cZc_wF4",
        "colab_type": "code",
        "colab": {}
      },
      "source": [
        "order_products_prior = pd.read_csv('/content/drive/My Drive/Colab Notebooks/Diplom/instacart-market-basket-analysis/order_products__prior.csv')\n",
        "order_products_train = pd.read_csv('/content/drive/My Drive/Colab Notebooks/Diplom/instacart-market-basket-analysis/order_products__train.csv')\n",
        "orders = pd.read_csv('/content/drive/My Drive/Colab Notebooks/Diplom/instacart-market-basket-analysis/orders.csv')\n",
        "orders['days_since_prior_order'].fillna(0, inplace=True)"
      ],
      "execution_count": null,
      "outputs": []
    },
    {
      "cell_type": "code",
      "metadata": {
        "id": "Qq5LVl70wGQt",
        "colab_type": "code",
        "colab": {
          "base_uri": "https://localhost:8080/",
          "height": 34
        },
        "outputId": "9631707c-7c36-4f77-906f-fb308de016f2"
      },
      "source": [
        "test_orders = []\n",
        "val_orders = []\n",
        "\n",
        "for user_id, group_u in tqdm(orders.groupby('user_id'), position=0):\n",
        "  max_ord = group_u['order_number'].values.max()\n",
        "  test_orders.append(group_u[group_u['order_number'] == max_ord]['order_id'].values[0])\n",
        "  test_orders.append(group_u[group_u['order_number'] == max_ord-1]['order_id'].values[0])\n",
        "  val_orders.append(group_u[group_u['order_number'] == max_ord-2]['order_id'].values[0])\n",
        "  val_orders.append(group_u[group_u['order_number'] == max_ord-3]['order_id'].values[0])"
      ],
      "execution_count": null,
      "outputs": [
        {
          "output_type": "stream",
          "text": [
            "100%|██████████| 206209/206209 [10:51<00:00, 316.69it/s]\n"
          ],
          "name": "stderr"
        }
      ]
    },
    {
      "cell_type": "code",
      "metadata": {
        "id": "dM3muEA4hhyE",
        "colab_type": "code",
        "colab": {
          "base_uri": "https://localhost:8080/",
          "height": 34
        },
        "outputId": "302ebb1d-daea-4a66-f3aa-dce51bcd82d5"
      },
      "source": [
        "np.intersect1d(test_orders, val_orders)"
      ],
      "execution_count": null,
      "outputs": [
        {
          "output_type": "execute_result",
          "data": {
            "text/plain": [
              "array([], dtype=int64)"
            ]
          },
          "metadata": {
            "tags": []
          },
          "execution_count": 7
        }
      ]
    },
    {
      "cell_type": "code",
      "metadata": {
        "id": "oPQ5EN9XEdkd",
        "colab_type": "code",
        "colab": {}
      },
      "source": [
        "with open('/content/drive/My Drive/Colab Notebooks/Diplom/instacart-market-basket-analysis/test_train/val_orders.pkl', 'wb') as f:\n",
        "  pkl.dump(val_orders, f)\n",
        "\n",
        "with open('/content/drive/My Drive/Colab Notebooks/Diplom/instacart-market-basket-analysis/test_train/test_orders.pkl', 'wb') as f:\n",
        "  pkl.dump(test_orders, f)"
      ],
      "execution_count": null,
      "outputs": []
    },
    {
      "cell_type": "markdown",
      "metadata": {
        "id": "wvMh0IlTd3dD",
        "colab_type": "text"
      },
      "source": [
        "##Создаем последовательности продуктов в заказе"
      ]
    },
    {
      "cell_type": "code",
      "metadata": {
        "id": "z4hl2h34baEA",
        "colab_type": "code",
        "colab": {}
      },
      "source": [
        "with open('/content/drive/My Drive/Colab Notebooks/Diplom/instacart-market-basket-analysis/test_train/val_orders.pkl', 'rb') as f:\n",
        "  val_orders = pkl.load(f)\n",
        "\n",
        "with open('/content/drive/My Drive/Colab Notebooks/Diplom/instacart-market-basket-analysis/test_train/test_orders.pkl', 'rb') as f:\n",
        "  test_orders = pkl.load(f)"
      ],
      "execution_count": null,
      "outputs": []
    },
    {
      "cell_type": "code",
      "metadata": {
        "id": "PDyw6mC4d7we",
        "colab_type": "code",
        "colab": {}
      },
      "source": [
        "order_products = pd.concat((order_products_prior, order_products_train))"
      ],
      "execution_count": null,
      "outputs": []
    },
    {
      "cell_type": "code",
      "metadata": {
        "id": "7bjl_61Ilp7j",
        "colab_type": "code",
        "colab": {}
      },
      "source": [
        "op = orders.merge(order_products, on='order_id', how='inner')"
      ],
      "execution_count": null,
      "outputs": []
    },
    {
      "cell_type": "code",
      "metadata": {
        "id": "31SXjIPFeDCD",
        "colab_type": "code",
        "colab": {}
      },
      "source": [
        "users_set = list(set(op[(~op['order_id'].isin(val_orders)) & (~op['order_id'].isin(test_orders))].user_id))[:10000]"
      ],
      "execution_count": null,
      "outputs": []
    },
    {
      "cell_type": "code",
      "metadata": {
        "id": "vHyNDMnslvII",
        "colab_type": "code",
        "colab": {}
      },
      "source": [
        "op = op[op['user_id'].isin(users_set)].reset_index(drop=True)"
      ],
      "execution_count": null,
      "outputs": []
    },
    {
      "cell_type": "code",
      "metadata": {
        "id": "FAsCuZrYeILt",
        "colab_type": "code",
        "colab": {
          "base_uri": "https://localhost:8080/",
          "height": 34
        },
        "outputId": "4e246bc8-429b-430f-ac11-3fec7a912d75"
      },
      "source": [
        "orders_seq = {}\n",
        "for order_id, group_o in tqdm(op.groupby('order_id'), position=0):\n",
        "  orders_seq[order_id] = group_o['product_id'].values"
      ],
      "execution_count": null,
      "outputs": [
        {
          "output_type": "stream",
          "text": [
            "100%|██████████| 126389/126389 [00:33<00:00, 3755.59it/s]\n"
          ],
          "name": "stderr"
        }
      ]
    },
    {
      "cell_type": "code",
      "metadata": {
        "id": "g_c7bLm9eKMo",
        "colab_type": "code",
        "colab": {}
      },
      "source": [
        "order_features = orders.merge(pd.DataFrame(orders_seq.items(), columns=['order_id', 'prod_seq']), how='inner', on='order_id')\n",
        "order_features['prod_seq'] = order_features['prod_seq'].apply(lambda x: list(x))"
      ],
      "execution_count": null,
      "outputs": []
    },
    {
      "cell_type": "code",
      "metadata": {
        "id": "t_5aRKLFeTsz",
        "colab_type": "code",
        "colab": {
          "base_uri": "https://localhost:8080/",
          "height": 34
        },
        "outputId": "77d721fc-09f7-4314-d3b7-b0f29450ce4a"
      },
      "source": [
        "orders_prev_seq = {}\n",
        "for user_id, group_u in tqdm(order_features.groupby('user_id'), position=0):\n",
        "  for i in group_u.index:\n",
        "    order_id = group_u.loc[i, 'order_id']\n",
        "    order_number = group_u.loc[i, 'order_number']\n",
        "    try:\n",
        "      orders_prev_seq[order_id] = group_u[group_u['order_number'] == order_number-1]['prod_seq'].values[0]\n",
        "    except:\n",
        "      orders_prev_seq[order_id] = group_u[group_u['order_number'] == order_number-1]['prod_seq'].values"
      ],
      "execution_count": null,
      "outputs": [
        {
          "output_type": "stream",
          "text": [
            "100%|██████████| 6605/6605 [01:40<00:00, 65.91it/s]\n"
          ],
          "name": "stderr"
        }
      ]
    },
    {
      "cell_type": "code",
      "metadata": {
        "id": "RwWUOspJfJiJ",
        "colab_type": "code",
        "colab": {}
      },
      "source": [
        "order_features = order_features.merge(pd.DataFrame(orders_prev_seq.items(), columns=['order_id', 'prev_seq']), how='inner', on='order_id')"
      ],
      "execution_count": null,
      "outputs": []
    },
    {
      "cell_type": "markdown",
      "metadata": {
        "id": "xAfv4rZd7x9g",
        "colab_type": "text"
      },
      "source": [
        "## Собираем словарь и выделяем заказы соответственно продуктам в словаре"
      ]
    },
    {
      "cell_type": "code",
      "metadata": {
        "id": "pHZcRbpE748d",
        "colab_type": "code",
        "colab": {
          "base_uri": "https://localhost:8080/",
          "height": 34
        },
        "outputId": "0c6c646b-1617-44c2-deda-3e23d1da2347"
      },
      "source": [
        "prods = []\n",
        "for seq in tqdm(order_features[(~order_features['order_id'].isin(val_orders)) & (~order_features['order_id'].isin(test_orders))]['prod_seq'], position=0):\n",
        "  for prod in seq:\n",
        "    prods.append(prod)\n",
        "\n",
        "id_to_token = {}\n",
        "for el in set(prods):\n",
        "  id_to_token[len(id_to_token)] = el\n",
        "\n",
        "token_to_id = {}\n",
        "for i_d, token in id_to_token.items():\n",
        "  token_to_id[token] = i_d"
      ],
      "execution_count": null,
      "outputs": [
        {
          "output_type": "stream",
          "text": [
            "100%|██████████| 102474/102474 [00:00<00:00, 600323.63it/s]\n"
          ],
          "name": "stderr"
        }
      ]
    },
    {
      "cell_type": "code",
      "metadata": {
        "id": "qLgbEzEb89ZS",
        "colab_type": "code",
        "colab": {
          "base_uri": "https://localhost:8080/",
          "height": 34
        },
        "outputId": "fab4d782-ced6-44de-80ff-0f2e33786e9a"
      },
      "source": [
        "bad_users = []\n",
        "for user_id, seq in tqdm(order_features[['user_id','prod_seq']].values, position=0):\n",
        "  bad = False\n",
        "  for el in seq:\n",
        "    if el not in token_to_id:\n",
        "      bad = True\n",
        "      break\n",
        "  if bad:\n",
        "    bad_users.append(user_id)\n",
        "bad_users = set(bad_users)"
      ],
      "execution_count": null,
      "outputs": [
        {
          "output_type": "stream",
          "text": [
            "100%|██████████| 126389/126389 [00:00<00:00, 294165.50it/s]\n"
          ],
          "name": "stderr"
        }
      ]
    },
    {
      "cell_type": "code",
      "metadata": {
        "id": "9ukJCIDAlzyG",
        "colab_type": "code",
        "colab": {
          "base_uri": "https://localhost:8080/",
          "height": 34
        },
        "outputId": "534d3e8b-a19d-455f-d8a7-00d2b6eb566f"
      },
      "source": [
        "len(bad_users)"
      ],
      "execution_count": null,
      "outputs": [
        {
          "output_type": "execute_result",
          "data": {
            "text/plain": [
              "0"
            ]
          },
          "metadata": {
            "tags": []
          },
          "execution_count": 70
        }
      ]
    },
    {
      "cell_type": "code",
      "metadata": {
        "id": "vDVw0nZc-tW-",
        "colab_type": "code",
        "colab": {}
      },
      "source": [
        "order_features = order_features[~order_features['user_id'].isin(bad_users)]"
      ],
      "execution_count": null,
      "outputs": []
    },
    {
      "cell_type": "code",
      "metadata": {
        "id": "nUTrHfERmlES",
        "colab_type": "code",
        "colab": {}
      },
      "source": [
        "users_set = list(set(order_features.user_id))"
      ],
      "execution_count": null,
      "outputs": []
    },
    {
      "cell_type": "code",
      "metadata": {
        "id": "CR9NsGYTDHle",
        "colab_type": "code",
        "colab": {}
      },
      "source": [
        "order_features.to_csv('/content/drive/My Drive/Colab Notebooks/Diplom/instacart-market-basket-analysis/test_train/order_features.csv', index=False)"
      ],
      "execution_count": null,
      "outputs": []
    },
    {
      "cell_type": "code",
      "metadata": {
        "id": "2G87dMfjtGH7",
        "colab_type": "code",
        "colab": {}
      },
      "source": [
        "with open('/content/drive/My Drive/Colab Notebooks/Diplom/instacart-market-basket-analysis/test_train/users_set.pkl', 'wb') as f:\n",
        "  pkl.dump(users_set, f)"
      ],
      "execution_count": null,
      "outputs": []
    },
    {
      "cell_type": "code",
      "metadata": {
        "id": "v799cSplRjwx",
        "colab_type": "code",
        "colab": {}
      },
      "source": [
        "with open('/content/drive/My Drive/Colab Notebooks/Diplom/instacart-market-basket-analysis/test_train/id_to_token.pkl', 'wb') as f:\n",
        "  pkl.dump(id_to_token, f)\n",
        "\n",
        "with open('/content/drive/My Drive/Colab Notebooks/Diplom/instacart-market-basket-analysis/test_train/token_to_id.pkl', 'wb') as f:\n",
        "  pkl.dump(token_to_id, f)"
      ],
      "execution_count": null,
      "outputs": []
    },
    {
      "cell_type": "markdown",
      "metadata": {
        "id": "YRz7Ncooi0Er",
        "colab_type": "text"
      },
      "source": [
        "## Создаем фичи для покупателя"
      ]
    },
    {
      "cell_type": "code",
      "metadata": {
        "id": "sIk7I87xAx6p",
        "colab_type": "code",
        "colab": {}
      },
      "source": [
        "train_orders = order_features[(~order_features['order_id'].isin(val_orders)) & (~order_features['order_id'].isin(test_orders))]['order_id']"
      ],
      "execution_count": null,
      "outputs": []
    },
    {
      "cell_type": "code",
      "metadata": {
        "id": "QLDKFJNNALPj",
        "colab_type": "code",
        "colab": {}
      },
      "source": [
        "op = orders.merge(order_products, on='order_id', how='inner')\n",
        "op = op[op['order_id'].isin(train_orders)]"
      ],
      "execution_count": null,
      "outputs": []
    },
    {
      "cell_type": "code",
      "metadata": {
        "id": "-MXoKGQvBQYm",
        "colab_type": "code",
        "colab": {
          "base_uri": "https://localhost:8080/",
          "height": 34
        },
        "outputId": "8230ebb0-9c81-461e-e3fb-ef85bc9eea92"
      },
      "source": [
        "op.shape"
      ],
      "execution_count": null,
      "outputs": [
        {
          "output_type": "execute_result",
          "data": {
            "text/plain": [
              "(978754, 10)"
            ]
          },
          "metadata": {
            "tags": []
          },
          "execution_count": 81
        }
      ]
    },
    {
      "cell_type": "markdown",
      "metadata": {
        "id": "Qfto9GiPi0Es",
        "colab_type": "text"
      },
      "source": [
        "Полное число заказов"
      ]
    },
    {
      "cell_type": "code",
      "metadata": {
        "id": "i7LOcr3xi0Et",
        "colab_type": "code",
        "colab": {
          "base_uri": "https://localhost:8080/",
          "height": 204
        },
        "outputId": "b4fd61f5-acb1-4221-affe-01b38bb217aa"
      },
      "source": [
        "user = op.groupby('user_id')['order_number'].max().to_frame('u_total_orders')\n",
        "user = user.reset_index()\n",
        "user.head()"
      ],
      "execution_count": null,
      "outputs": [
        {
          "output_type": "execute_result",
          "data": {
            "text/html": [
              "<div>\n",
              "<style scoped>\n",
              "    .dataframe tbody tr th:only-of-type {\n",
              "        vertical-align: middle;\n",
              "    }\n",
              "\n",
              "    .dataframe tbody tr th {\n",
              "        vertical-align: top;\n",
              "    }\n",
              "\n",
              "    .dataframe thead th {\n",
              "        text-align: right;\n",
              "    }\n",
              "</style>\n",
              "<table border=\"1\" class=\"dataframe\">\n",
              "  <thead>\n",
              "    <tr style=\"text-align: right;\">\n",
              "      <th></th>\n",
              "      <th>user_id</th>\n",
              "      <th>u_total_orders</th>\n",
              "    </tr>\n",
              "  </thead>\n",
              "  <tbody>\n",
              "    <tr>\n",
              "      <th>0</th>\n",
              "      <td>1</td>\n",
              "      <td>7</td>\n",
              "    </tr>\n",
              "    <tr>\n",
              "      <th>1</th>\n",
              "      <td>2</td>\n",
              "      <td>11</td>\n",
              "    </tr>\n",
              "    <tr>\n",
              "      <th>2</th>\n",
              "      <td>3</td>\n",
              "      <td>9</td>\n",
              "    </tr>\n",
              "    <tr>\n",
              "      <th>3</th>\n",
              "      <td>4</td>\n",
              "      <td>2</td>\n",
              "    </tr>\n",
              "    <tr>\n",
              "      <th>4</th>\n",
              "      <td>5</td>\n",
              "      <td>1</td>\n",
              "    </tr>\n",
              "  </tbody>\n",
              "</table>\n",
              "</div>"
            ],
            "text/plain": [
              "   user_id  u_total_orders\n",
              "0        1               7\n",
              "1        2              11\n",
              "2        3               9\n",
              "3        4               2\n",
              "4        5               1"
            ]
          },
          "metadata": {
            "tags": []
          },
          "execution_count": 82
        }
      ]
    },
    {
      "cell_type": "markdown",
      "metadata": {
        "id": "R3PgRuTei0Ev",
        "colab_type": "text"
      },
      "source": [
        "Доля перезаказанных продуктов"
      ]
    },
    {
      "cell_type": "code",
      "metadata": {
        "id": "VbNZurbmi0Ew",
        "colab_type": "code",
        "colab": {
          "base_uri": "https://localhost:8080/",
          "height": 204
        },
        "outputId": "725fbf45-ab60-4ef6-b49f-bf7a6197212d"
      },
      "source": [
        "u_reorder = op.groupby('user_id')['reordered'].mean().to_frame('u_reordered_ratio')\n",
        "u_reorder = u_reorder.reset_index()\n",
        "u_reorder.head()"
      ],
      "execution_count": null,
      "outputs": [
        {
          "output_type": "execute_result",
          "data": {
            "text/html": [
              "<div>\n",
              "<style scoped>\n",
              "    .dataframe tbody tr th:only-of-type {\n",
              "        vertical-align: middle;\n",
              "    }\n",
              "\n",
              "    .dataframe tbody tr th {\n",
              "        vertical-align: top;\n",
              "    }\n",
              "\n",
              "    .dataframe thead th {\n",
              "        text-align: right;\n",
              "    }\n",
              "</style>\n",
              "<table border=\"1\" class=\"dataframe\">\n",
              "  <thead>\n",
              "    <tr style=\"text-align: right;\">\n",
              "      <th></th>\n",
              "      <th>user_id</th>\n",
              "      <th>u_reordered_ratio</th>\n",
              "    </tr>\n",
              "  </thead>\n",
              "  <tbody>\n",
              "    <tr>\n",
              "      <th>0</th>\n",
              "      <td>1</td>\n",
              "      <td>0.657895</td>\n",
              "    </tr>\n",
              "    <tr>\n",
              "      <th>1</th>\n",
              "      <td>2</td>\n",
              "      <td>0.476821</td>\n",
              "    </tr>\n",
              "    <tr>\n",
              "      <th>2</th>\n",
              "      <td>3</td>\n",
              "      <td>0.549296</td>\n",
              "    </tr>\n",
              "    <tr>\n",
              "      <th>3</th>\n",
              "      <td>4</td>\n",
              "      <td>0.000000</td>\n",
              "    </tr>\n",
              "    <tr>\n",
              "      <th>4</th>\n",
              "      <td>5</td>\n",
              "      <td>0.000000</td>\n",
              "    </tr>\n",
              "  </tbody>\n",
              "</table>\n",
              "</div>"
            ],
            "text/plain": [
              "   user_id  u_reordered_ratio\n",
              "0        1           0.657895\n",
              "1        2           0.476821\n",
              "2        3           0.549296\n",
              "3        4           0.000000\n",
              "4        5           0.000000"
            ]
          },
          "metadata": {
            "tags": []
          },
          "execution_count": 83
        }
      ]
    },
    {
      "cell_type": "markdown",
      "metadata": {
        "id": "aIRYn5Tai0Ez",
        "colab_type": "text"
      },
      "source": [
        "Мержим фичи и чистим кэш"
      ]
    },
    {
      "cell_type": "code",
      "metadata": {
        "id": "dJVCyScJi0E0",
        "colab_type": "code",
        "colab": {
          "base_uri": "https://localhost:8080/",
          "height": 204
        },
        "outputId": "26185743-32d8-4a1f-ddad-2ddc4107acb7"
      },
      "source": [
        "user = user.merge(u_reorder, on='user_id', how='left')\n",
        "\n",
        "del u_reorder\n",
        "gc.collect()\n",
        "\n",
        "user.head()"
      ],
      "execution_count": null,
      "outputs": [
        {
          "output_type": "execute_result",
          "data": {
            "text/html": [
              "<div>\n",
              "<style scoped>\n",
              "    .dataframe tbody tr th:only-of-type {\n",
              "        vertical-align: middle;\n",
              "    }\n",
              "\n",
              "    .dataframe tbody tr th {\n",
              "        vertical-align: top;\n",
              "    }\n",
              "\n",
              "    .dataframe thead th {\n",
              "        text-align: right;\n",
              "    }\n",
              "</style>\n",
              "<table border=\"1\" class=\"dataframe\">\n",
              "  <thead>\n",
              "    <tr style=\"text-align: right;\">\n",
              "      <th></th>\n",
              "      <th>user_id</th>\n",
              "      <th>u_total_orders</th>\n",
              "      <th>u_reordered_ratio</th>\n",
              "    </tr>\n",
              "  </thead>\n",
              "  <tbody>\n",
              "    <tr>\n",
              "      <th>0</th>\n",
              "      <td>1</td>\n",
              "      <td>7</td>\n",
              "      <td>0.657895</td>\n",
              "    </tr>\n",
              "    <tr>\n",
              "      <th>1</th>\n",
              "      <td>2</td>\n",
              "      <td>11</td>\n",
              "      <td>0.476821</td>\n",
              "    </tr>\n",
              "    <tr>\n",
              "      <th>2</th>\n",
              "      <td>3</td>\n",
              "      <td>9</td>\n",
              "      <td>0.549296</td>\n",
              "    </tr>\n",
              "    <tr>\n",
              "      <th>3</th>\n",
              "      <td>4</td>\n",
              "      <td>2</td>\n",
              "      <td>0.000000</td>\n",
              "    </tr>\n",
              "    <tr>\n",
              "      <th>4</th>\n",
              "      <td>5</td>\n",
              "      <td>1</td>\n",
              "      <td>0.000000</td>\n",
              "    </tr>\n",
              "  </tbody>\n",
              "</table>\n",
              "</div>"
            ],
            "text/plain": [
              "   user_id  u_total_orders  u_reordered_ratio\n",
              "0        1               7           0.657895\n",
              "1        2              11           0.476821\n",
              "2        3               9           0.549296\n",
              "3        4               2           0.000000\n",
              "4        5               1           0.000000"
            ]
          },
          "metadata": {
            "tags": []
          },
          "execution_count": 84
        }
      ]
    },
    {
      "cell_type": "markdown",
      "metadata": {
        "id": "rYcTYq8Fi0E7",
        "colab_type": "text"
      },
      "source": [
        "## Создаем фичи для продуктов"
      ]
    },
    {
      "cell_type": "markdown",
      "metadata": {
        "id": "wjCdQ5Rhi0E8",
        "colab_type": "text"
      },
      "source": [
        "Количество заказов каждого продукта"
      ]
    },
    {
      "cell_type": "code",
      "metadata": {
        "id": "pe04R4NAi0E8",
        "colab_type": "code",
        "colab": {
          "base_uri": "https://localhost:8080/",
          "height": 204
        },
        "outputId": "7496ce64-0340-4846-857c-057fb607b867"
      },
      "source": [
        "prd = op.groupby('product_id')['order_id'].count().to_frame('p_total_purchases')\n",
        "prd = prd.reset_index()\n",
        "prd.head()"
      ],
      "execution_count": null,
      "outputs": [
        {
          "output_type": "execute_result",
          "data": {
            "text/html": [
              "<div>\n",
              "<style scoped>\n",
              "    .dataframe tbody tr th:only-of-type {\n",
              "        vertical-align: middle;\n",
              "    }\n",
              "\n",
              "    .dataframe tbody tr th {\n",
              "        vertical-align: top;\n",
              "    }\n",
              "\n",
              "    .dataframe thead th {\n",
              "        text-align: right;\n",
              "    }\n",
              "</style>\n",
              "<table border=\"1\" class=\"dataframe\">\n",
              "  <thead>\n",
              "    <tr style=\"text-align: right;\">\n",
              "      <th></th>\n",
              "      <th>product_id</th>\n",
              "      <th>p_total_purchases</th>\n",
              "    </tr>\n",
              "  </thead>\n",
              "  <tbody>\n",
              "    <tr>\n",
              "      <th>0</th>\n",
              "      <td>1</td>\n",
              "      <td>58</td>\n",
              "    </tr>\n",
              "    <tr>\n",
              "      <th>1</th>\n",
              "      <td>2</td>\n",
              "      <td>1</td>\n",
              "    </tr>\n",
              "    <tr>\n",
              "      <th>2</th>\n",
              "      <td>3</td>\n",
              "      <td>13</td>\n",
              "    </tr>\n",
              "    <tr>\n",
              "      <th>3</th>\n",
              "      <td>4</td>\n",
              "      <td>3</td>\n",
              "    </tr>\n",
              "    <tr>\n",
              "      <th>4</th>\n",
              "      <td>7</td>\n",
              "      <td>1</td>\n",
              "    </tr>\n",
              "  </tbody>\n",
              "</table>\n",
              "</div>"
            ],
            "text/plain": [
              "   product_id  p_total_purchases\n",
              "0           1                 58\n",
              "1           2                  1\n",
              "2           3                 13\n",
              "3           4                  3\n",
              "4           7                  1"
            ]
          },
          "metadata": {
            "tags": []
          },
          "execution_count": 85
        }
      ]
    },
    {
      "cell_type": "markdown",
      "metadata": {
        "id": "0IanCH2Gi0E-",
        "colab_type": "text"
      },
      "source": [
        "Количество перезаказов для каждого продукта"
      ]
    },
    {
      "cell_type": "code",
      "metadata": {
        "id": "5WrJrxbqi0E_",
        "colab_type": "code",
        "colab": {
          "base_uri": "https://localhost:8080/",
          "height": 204
        },
        "outputId": "933895fb-5f36-4849-b8b2-699641a2cc6b"
      },
      "source": [
        "#p_reorder = op.groupby('product_id').filter(lambda x: x.shape[0] > 0)\n",
        "#p_reorder.head()\n",
        "#\n",
        "p_reorder = op.groupby('product_id')['reordered'].mean().to_frame('p_reorder_ratio')\n",
        "p_reorder = p_reorder.reset_index()\n",
        "p_reorder.head()"
      ],
      "execution_count": null,
      "outputs": [
        {
          "output_type": "execute_result",
          "data": {
            "text/html": [
              "<div>\n",
              "<style scoped>\n",
              "    .dataframe tbody tr th:only-of-type {\n",
              "        vertical-align: middle;\n",
              "    }\n",
              "\n",
              "    .dataframe tbody tr th {\n",
              "        vertical-align: top;\n",
              "    }\n",
              "\n",
              "    .dataframe thead th {\n",
              "        text-align: right;\n",
              "    }\n",
              "</style>\n",
              "<table border=\"1\" class=\"dataframe\">\n",
              "  <thead>\n",
              "    <tr style=\"text-align: right;\">\n",
              "      <th></th>\n",
              "      <th>product_id</th>\n",
              "      <th>p_reorder_ratio</th>\n",
              "    </tr>\n",
              "  </thead>\n",
              "  <tbody>\n",
              "    <tr>\n",
              "      <th>0</th>\n",
              "      <td>1</td>\n",
              "      <td>0.482759</td>\n",
              "    </tr>\n",
              "    <tr>\n",
              "      <th>1</th>\n",
              "      <td>2</td>\n",
              "      <td>0.000000</td>\n",
              "    </tr>\n",
              "    <tr>\n",
              "      <th>2</th>\n",
              "      <td>3</td>\n",
              "      <td>0.769231</td>\n",
              "    </tr>\n",
              "    <tr>\n",
              "      <th>3</th>\n",
              "      <td>4</td>\n",
              "      <td>0.000000</td>\n",
              "    </tr>\n",
              "    <tr>\n",
              "      <th>4</th>\n",
              "      <td>7</td>\n",
              "      <td>0.000000</td>\n",
              "    </tr>\n",
              "  </tbody>\n",
              "</table>\n",
              "</div>"
            ],
            "text/plain": [
              "   product_id  p_reorder_ratio\n",
              "0           1         0.482759\n",
              "1           2         0.000000\n",
              "2           3         0.769231\n",
              "3           4         0.000000\n",
              "4           7         0.000000"
            ]
          },
          "metadata": {
            "tags": []
          },
          "execution_count": 86
        }
      ]
    },
    {
      "cell_type": "markdown",
      "metadata": {
        "id": "QBcPQi3Gi0FB",
        "colab_type": "text"
      },
      "source": [
        "Мержим фичи и чистим кэш"
      ]
    },
    {
      "cell_type": "code",
      "metadata": {
        "id": "5EO_Eku4i0FC",
        "colab_type": "code",
        "colab": {
          "base_uri": "https://localhost:8080/",
          "height": 204
        },
        "outputId": "0e417336-f31e-4338-eaed-560ee6356b14"
      },
      "source": [
        "prd = prd.merge(p_reorder, on='product_id', how='left')\n",
        "\n",
        "prd['p_reorder_ratio'] = prd['p_reorder_ratio'].fillna(value=0)\n",
        "\n",
        "del p_reorder\n",
        "gc.collect()\n",
        "\n",
        "prd.head()"
      ],
      "execution_count": null,
      "outputs": [
        {
          "output_type": "execute_result",
          "data": {
            "text/html": [
              "<div>\n",
              "<style scoped>\n",
              "    .dataframe tbody tr th:only-of-type {\n",
              "        vertical-align: middle;\n",
              "    }\n",
              "\n",
              "    .dataframe tbody tr th {\n",
              "        vertical-align: top;\n",
              "    }\n",
              "\n",
              "    .dataframe thead th {\n",
              "        text-align: right;\n",
              "    }\n",
              "</style>\n",
              "<table border=\"1\" class=\"dataframe\">\n",
              "  <thead>\n",
              "    <tr style=\"text-align: right;\">\n",
              "      <th></th>\n",
              "      <th>product_id</th>\n",
              "      <th>p_total_purchases</th>\n",
              "      <th>p_reorder_ratio</th>\n",
              "    </tr>\n",
              "  </thead>\n",
              "  <tbody>\n",
              "    <tr>\n",
              "      <th>0</th>\n",
              "      <td>1</td>\n",
              "      <td>58</td>\n",
              "      <td>0.482759</td>\n",
              "    </tr>\n",
              "    <tr>\n",
              "      <th>1</th>\n",
              "      <td>2</td>\n",
              "      <td>1</td>\n",
              "      <td>0.000000</td>\n",
              "    </tr>\n",
              "    <tr>\n",
              "      <th>2</th>\n",
              "      <td>3</td>\n",
              "      <td>13</td>\n",
              "      <td>0.769231</td>\n",
              "    </tr>\n",
              "    <tr>\n",
              "      <th>3</th>\n",
              "      <td>4</td>\n",
              "      <td>3</td>\n",
              "      <td>0.000000</td>\n",
              "    </tr>\n",
              "    <tr>\n",
              "      <th>4</th>\n",
              "      <td>7</td>\n",
              "      <td>1</td>\n",
              "      <td>0.000000</td>\n",
              "    </tr>\n",
              "  </tbody>\n",
              "</table>\n",
              "</div>"
            ],
            "text/plain": [
              "   product_id  p_total_purchases  p_reorder_ratio\n",
              "0           1                 58         0.482759\n",
              "1           2                  1         0.000000\n",
              "2           3                 13         0.769231\n",
              "3           4                  3         0.000000\n",
              "4           7                  1         0.000000"
            ]
          },
          "metadata": {
            "tags": []
          },
          "execution_count": 87
        }
      ]
    },
    {
      "cell_type": "markdown",
      "metadata": {
        "id": "C4kpDHW7i0FE",
        "colab_type": "text"
      },
      "source": [
        "Сколько раз конкретный покупатель купил данный продукт"
      ]
    },
    {
      "cell_type": "code",
      "metadata": {
        "id": "lhIgrqPSi0FE",
        "colab_type": "code",
        "colab": {
          "base_uri": "https://localhost:8080/",
          "height": 204
        },
        "outputId": "be7bc819-5cbd-403c-b99e-04f3ee16f792"
      },
      "source": [
        "uxp = op.groupby(['user_id', 'product_id'])['order_id'].count().to_frame('uxp_total_bought')\n",
        "uxp = uxp.reset_index()\n",
        "uxp.head()"
      ],
      "execution_count": null,
      "outputs": [
        {
          "output_type": "execute_result",
          "data": {
            "text/html": [
              "<div>\n",
              "<style scoped>\n",
              "    .dataframe tbody tr th:only-of-type {\n",
              "        vertical-align: middle;\n",
              "    }\n",
              "\n",
              "    .dataframe tbody tr th {\n",
              "        vertical-align: top;\n",
              "    }\n",
              "\n",
              "    .dataframe thead th {\n",
              "        text-align: right;\n",
              "    }\n",
              "</style>\n",
              "<table border=\"1\" class=\"dataframe\">\n",
              "  <thead>\n",
              "    <tr style=\"text-align: right;\">\n",
              "      <th></th>\n",
              "      <th>user_id</th>\n",
              "      <th>product_id</th>\n",
              "      <th>uxp_total_bought</th>\n",
              "    </tr>\n",
              "  </thead>\n",
              "  <tbody>\n",
              "    <tr>\n",
              "      <th>0</th>\n",
              "      <td>1</td>\n",
              "      <td>196</td>\n",
              "      <td>7</td>\n",
              "    </tr>\n",
              "    <tr>\n",
              "      <th>1</th>\n",
              "      <td>1</td>\n",
              "      <td>10258</td>\n",
              "      <td>6</td>\n",
              "    </tr>\n",
              "    <tr>\n",
              "      <th>2</th>\n",
              "      <td>1</td>\n",
              "      <td>10326</td>\n",
              "      <td>1</td>\n",
              "    </tr>\n",
              "    <tr>\n",
              "      <th>3</th>\n",
              "      <td>1</td>\n",
              "      <td>12427</td>\n",
              "      <td>7</td>\n",
              "    </tr>\n",
              "    <tr>\n",
              "      <th>4</th>\n",
              "      <td>1</td>\n",
              "      <td>13032</td>\n",
              "      <td>2</td>\n",
              "    </tr>\n",
              "  </tbody>\n",
              "</table>\n",
              "</div>"
            ],
            "text/plain": [
              "   user_id  product_id  uxp_total_bought\n",
              "0        1         196                 7\n",
              "1        1       10258                 6\n",
              "2        1       10326                 1\n",
              "3        1       12427                 7\n",
              "4        1       13032                 2"
            ]
          },
          "metadata": {
            "tags": []
          },
          "execution_count": 88
        }
      ]
    },
    {
      "cell_type": "markdown",
      "metadata": {
        "id": "dkGzPBBii0FH",
        "colab_type": "text"
      },
      "source": [
        "Как часто покупатель покупал данный продукт после первой покупки этого продукта"
      ]
    },
    {
      "cell_type": "code",
      "metadata": {
        "id": "F06jZVNii0FH",
        "colab_type": "code",
        "colab": {
          "base_uri": "https://localhost:8080/",
          "height": 204
        },
        "outputId": "31c39df2-0df8-452f-cbbc-baf203726175"
      },
      "source": [
        "#сколько раз (в скольких заказах) покупатель купил продукт после первой покупки этого продукта\n",
        "times = op.groupby(['user_id', 'product_id'])[['order_id']].count()\n",
        "times.columns = ['Times_Bought_N']\n",
        "\n",
        "#сколько всего заказов сделал покупатель\n",
        "total_orders = op.groupby('user_id')['order_number'].max().to_frame('total_orders')\n",
        "\n",
        "#на каком по счету заказе покупатель купил данный продукт\n",
        "first_order_no = op.groupby(['user_id', 'product_id'])['order_number'].min().to_frame('first_order_number')\n",
        "first_order_no  = first_order_no.reset_index()\n",
        "\n",
        "#мержим количество всех заказов и номер первого заказа данного продукта\n",
        "span = pd.merge(total_orders, first_order_no, on='user_id', how='right')\n",
        "\n",
        "#считаем количество заказов которые покупатель совершил после покупки данного продукта + сам заказ первой\n",
        "#покупки этого продукта\n",
        "span['Order_Range_D'] = span.total_orders - span.first_order_number + 1\n",
        "\n",
        "#мержим количество покупок данного продукта и количество заказов после покупки этого продукта\n",
        "uxp_ratio = pd.merge(times, span, on=['user_id', 'product_id'], how='left')\n",
        "\n",
        "#считаем нашу метрику\n",
        "uxp_ratio['uxp_reorder_ratio'] = uxp_ratio.Times_Bought_N / uxp_ratio.Order_Range_D\n",
        "\n",
        "#дропаем ненужные колонки\n",
        "uxp_ratio = uxp_ratio.drop(['Times_Bought_N', 'total_orders', 'first_order_number', 'Order_Range_D'], axis=1)\n",
        "\n",
        "#чистим кэш\n",
        "del [times, first_order_no, span]\n",
        "#мержим с нашим фичами новую фичу\n",
        "uxp = uxp.merge(uxp_ratio, on=['user_id', 'product_id'], how='left')\n",
        "\n",
        "del uxp_ratio\n",
        "uxp.head()"
      ],
      "execution_count": null,
      "outputs": [
        {
          "output_type": "execute_result",
          "data": {
            "text/html": [
              "<div>\n",
              "<style scoped>\n",
              "    .dataframe tbody tr th:only-of-type {\n",
              "        vertical-align: middle;\n",
              "    }\n",
              "\n",
              "    .dataframe tbody tr th {\n",
              "        vertical-align: top;\n",
              "    }\n",
              "\n",
              "    .dataframe thead th {\n",
              "        text-align: right;\n",
              "    }\n",
              "</style>\n",
              "<table border=\"1\" class=\"dataframe\">\n",
              "  <thead>\n",
              "    <tr style=\"text-align: right;\">\n",
              "      <th></th>\n",
              "      <th>user_id</th>\n",
              "      <th>product_id</th>\n",
              "      <th>uxp_total_bought</th>\n",
              "      <th>uxp_reorder_ratio</th>\n",
              "    </tr>\n",
              "  </thead>\n",
              "  <tbody>\n",
              "    <tr>\n",
              "      <th>0</th>\n",
              "      <td>1</td>\n",
              "      <td>196</td>\n",
              "      <td>7</td>\n",
              "      <td>1.000000</td>\n",
              "    </tr>\n",
              "    <tr>\n",
              "      <th>1</th>\n",
              "      <td>1</td>\n",
              "      <td>10258</td>\n",
              "      <td>6</td>\n",
              "      <td>1.000000</td>\n",
              "    </tr>\n",
              "    <tr>\n",
              "      <th>2</th>\n",
              "      <td>1</td>\n",
              "      <td>10326</td>\n",
              "      <td>1</td>\n",
              "      <td>0.333333</td>\n",
              "    </tr>\n",
              "    <tr>\n",
              "      <th>3</th>\n",
              "      <td>1</td>\n",
              "      <td>12427</td>\n",
              "      <td>7</td>\n",
              "      <td>1.000000</td>\n",
              "    </tr>\n",
              "    <tr>\n",
              "      <th>4</th>\n",
              "      <td>1</td>\n",
              "      <td>13032</td>\n",
              "      <td>2</td>\n",
              "      <td>0.333333</td>\n",
              "    </tr>\n",
              "  </tbody>\n",
              "</table>\n",
              "</div>"
            ],
            "text/plain": [
              "   user_id  product_id  uxp_total_bought  uxp_reorder_ratio\n",
              "0        1         196                 7           1.000000\n",
              "1        1       10258                 6           1.000000\n",
              "2        1       10326                 1           0.333333\n",
              "3        1       12427                 7           1.000000\n",
              "4        1       13032                 2           0.333333"
            ]
          },
          "metadata": {
            "tags": []
          },
          "execution_count": 89
        }
      ]
    },
    {
      "cell_type": "markdown",
      "metadata": {
        "id": "c98hWXmgi0FK",
        "colab_type": "text"
      },
      "source": [
        "Как часто покупатель покупал данный продук за свои последние N заказов"
      ]
    },
    {
      "cell_type": "code",
      "metadata": {
        "id": "l1O2l2M_i0FK",
        "colab_type": "code",
        "colab": {}
      },
      "source": [
        "N = 5"
      ],
      "execution_count": null,
      "outputs": []
    },
    {
      "cell_type": "code",
      "metadata": {
        "id": "XpC-hQu5i0FN",
        "colab_type": "code",
        "colab": {
          "base_uri": "https://localhost:8080/",
          "height": 204
        },
        "outputId": "519e6285-e8c7-4fd1-8201-2bf0f65388bc"
      },
      "source": [
        "#считаем сколько заказов осталось от данного до последнего\n",
        "op['order_number_back'] = op.groupby('user_id')['order_number'].transform(max) - op.order_number +1 \n",
        "\n",
        "#отбираем последние N заказов\n",
        "opN = op[op.order_number_back <= N]\n",
        "\n",
        "#сколько раз покупатель покупал данный продукт за свои последние N заказов\n",
        "last_N = opN.groupby(['user_id','product_id'])[['order_id']].count()\n",
        "last_N.columns = ['times_lastN']\n",
        "\n",
        "#мержим фичи и чистим кэш\n",
        "uxp = uxp.merge(last_N, on=['user_id', 'product_id'], how='left')\n",
        "\n",
        "del [opN , last_N]\n",
        "\n",
        "#заполняем NAN если есть нулями\n",
        "uxp = uxp.fillna(0)\n",
        "uxp.head()"
      ],
      "execution_count": null,
      "outputs": [
        {
          "output_type": "execute_result",
          "data": {
            "text/html": [
              "<div>\n",
              "<style scoped>\n",
              "    .dataframe tbody tr th:only-of-type {\n",
              "        vertical-align: middle;\n",
              "    }\n",
              "\n",
              "    .dataframe tbody tr th {\n",
              "        vertical-align: top;\n",
              "    }\n",
              "\n",
              "    .dataframe thead th {\n",
              "        text-align: right;\n",
              "    }\n",
              "</style>\n",
              "<table border=\"1\" class=\"dataframe\">\n",
              "  <thead>\n",
              "    <tr style=\"text-align: right;\">\n",
              "      <th></th>\n",
              "      <th>user_id</th>\n",
              "      <th>product_id</th>\n",
              "      <th>uxp_total_bought</th>\n",
              "      <th>uxp_reorder_ratio</th>\n",
              "      <th>times_lastN</th>\n",
              "    </tr>\n",
              "  </thead>\n",
              "  <tbody>\n",
              "    <tr>\n",
              "      <th>0</th>\n",
              "      <td>1</td>\n",
              "      <td>196</td>\n",
              "      <td>7</td>\n",
              "      <td>1.000000</td>\n",
              "      <td>5.0</td>\n",
              "    </tr>\n",
              "    <tr>\n",
              "      <th>1</th>\n",
              "      <td>1</td>\n",
              "      <td>10258</td>\n",
              "      <td>6</td>\n",
              "      <td>1.000000</td>\n",
              "      <td>5.0</td>\n",
              "    </tr>\n",
              "    <tr>\n",
              "      <th>2</th>\n",
              "      <td>1</td>\n",
              "      <td>10326</td>\n",
              "      <td>1</td>\n",
              "      <td>0.333333</td>\n",
              "      <td>1.0</td>\n",
              "    </tr>\n",
              "    <tr>\n",
              "      <th>3</th>\n",
              "      <td>1</td>\n",
              "      <td>12427</td>\n",
              "      <td>7</td>\n",
              "      <td>1.000000</td>\n",
              "      <td>5.0</td>\n",
              "    </tr>\n",
              "    <tr>\n",
              "      <th>4</th>\n",
              "      <td>1</td>\n",
              "      <td>13032</td>\n",
              "      <td>2</td>\n",
              "      <td>0.333333</td>\n",
              "      <td>1.0</td>\n",
              "    </tr>\n",
              "  </tbody>\n",
              "</table>\n",
              "</div>"
            ],
            "text/plain": [
              "   user_id  product_id  uxp_total_bought  uxp_reorder_ratio  times_lastN\n",
              "0        1         196                 7           1.000000          5.0\n",
              "1        1       10258                 6           1.000000          5.0\n",
              "2        1       10326                 1           0.333333          1.0\n",
              "3        1       12427                 7           1.000000          5.0\n",
              "4        1       13032                 2           0.333333          1.0"
            ]
          },
          "metadata": {
            "tags": []
          },
          "execution_count": 91
        }
      ]
    },
    {
      "cell_type": "markdown",
      "metadata": {
        "id": "2HATqnWiVq4g",
        "colab_type": "text"
      },
      "source": [
        "## Создаем фичи для заказов"
      ]
    },
    {
      "cell_type": "code",
      "metadata": {
        "id": "DAuhE8WdV4KD",
        "colab_type": "code",
        "colab": {}
      },
      "source": [
        "op1 = orders.merge(order_products, on='order_id', how='inner')\n",
        "op1 = op1[op1['order_id'].isin(order_features.order_id)].reset_index(drop=True)"
      ],
      "execution_count": null,
      "outputs": []
    },
    {
      "cell_type": "code",
      "metadata": {
        "id": "UK6DoZj26OWy",
        "colab_type": "code",
        "colab": {}
      },
      "source": [
        "ordr = op1[['order_id', 'user_id', 'product_id', 'order_number', 'order_dow', 'order_hour_of_day', 'days_since_prior_order']]"
      ],
      "execution_count": null,
      "outputs": []
    },
    {
      "cell_type": "markdown",
      "metadata": {
        "id": "vROn4U59i0FR",
        "colab_type": "text"
      },
      "source": [
        "## Мержим все фичи"
      ]
    },
    {
      "cell_type": "code",
      "metadata": {
        "id": "JZyfwfoDi0FR",
        "colab_type": "code",
        "colab": {
          "base_uri": "https://localhost:8080/",
          "height": 204
        },
        "outputId": "ca39b979-1a80-4a39-f3af-3ce2be57a28c"
      },
      "source": [
        "#мержим фичи покупателя\n",
        "data = uxp.merge(user, on='user_id', how='left')\n",
        "data.head()\n",
        "#мержим фичи продуктов\n",
        "data = data.merge(prd, on='product_id', how='left')\n",
        "data.head()\n",
        "#чистим кэш\n",
        "del [user, prd, uxp]\n",
        "gc.collect()\n",
        "\n",
        "data.head()"
      ],
      "execution_count": null,
      "outputs": [
        {
          "output_type": "execute_result",
          "data": {
            "text/html": [
              "<div>\n",
              "<style scoped>\n",
              "    .dataframe tbody tr th:only-of-type {\n",
              "        vertical-align: middle;\n",
              "    }\n",
              "\n",
              "    .dataframe tbody tr th {\n",
              "        vertical-align: top;\n",
              "    }\n",
              "\n",
              "    .dataframe thead th {\n",
              "        text-align: right;\n",
              "    }\n",
              "</style>\n",
              "<table border=\"1\" class=\"dataframe\">\n",
              "  <thead>\n",
              "    <tr style=\"text-align: right;\">\n",
              "      <th></th>\n",
              "      <th>user_id</th>\n",
              "      <th>product_id</th>\n",
              "      <th>uxp_total_bought</th>\n",
              "      <th>uxp_reorder_ratio</th>\n",
              "      <th>times_lastN</th>\n",
              "      <th>u_total_orders</th>\n",
              "      <th>u_reordered_ratio</th>\n",
              "      <th>p_total_purchases</th>\n",
              "      <th>p_reorder_ratio</th>\n",
              "    </tr>\n",
              "  </thead>\n",
              "  <tbody>\n",
              "    <tr>\n",
              "      <th>0</th>\n",
              "      <td>1</td>\n",
              "      <td>196</td>\n",
              "      <td>7</td>\n",
              "      <td>1.000000</td>\n",
              "      <td>5.0</td>\n",
              "      <td>7</td>\n",
              "      <td>0.657895</td>\n",
              "      <td>1271</td>\n",
              "      <td>0.819040</td>\n",
              "    </tr>\n",
              "    <tr>\n",
              "      <th>1</th>\n",
              "      <td>1</td>\n",
              "      <td>10258</td>\n",
              "      <td>6</td>\n",
              "      <td>1.000000</td>\n",
              "      <td>5.0</td>\n",
              "      <td>7</td>\n",
              "      <td>0.657895</td>\n",
              "      <td>108</td>\n",
              "      <td>0.777778</td>\n",
              "    </tr>\n",
              "    <tr>\n",
              "      <th>2</th>\n",
              "      <td>1</td>\n",
              "      <td>10326</td>\n",
              "      <td>1</td>\n",
              "      <td>0.333333</td>\n",
              "      <td>1.0</td>\n",
              "      <td>7</td>\n",
              "      <td>0.657895</td>\n",
              "      <td>167</td>\n",
              "      <td>0.586826</td>\n",
              "    </tr>\n",
              "    <tr>\n",
              "      <th>3</th>\n",
              "      <td>1</td>\n",
              "      <td>12427</td>\n",
              "      <td>7</td>\n",
              "      <td>1.000000</td>\n",
              "      <td>5.0</td>\n",
              "      <td>7</td>\n",
              "      <td>0.657895</td>\n",
              "      <td>153</td>\n",
              "      <td>0.692810</td>\n",
              "    </tr>\n",
              "    <tr>\n",
              "      <th>4</th>\n",
              "      <td>1</td>\n",
              "      <td>13032</td>\n",
              "      <td>2</td>\n",
              "      <td>0.333333</td>\n",
              "      <td>1.0</td>\n",
              "      <td>7</td>\n",
              "      <td>0.657895</td>\n",
              "      <td>84</td>\n",
              "      <td>0.404762</td>\n",
              "    </tr>\n",
              "  </tbody>\n",
              "</table>\n",
              "</div>"
            ],
            "text/plain": [
              "   user_id  product_id  ...  p_total_purchases  p_reorder_ratio\n",
              "0        1         196  ...               1271         0.819040\n",
              "1        1       10258  ...                108         0.777778\n",
              "2        1       10326  ...                167         0.586826\n",
              "3        1       12427  ...                153         0.692810\n",
              "4        1       13032  ...                 84         0.404762\n",
              "\n",
              "[5 rows x 9 columns]"
            ]
          },
          "metadata": {
            "tags": []
          },
          "execution_count": 94
        }
      ]
    },
    {
      "cell_type": "code",
      "metadata": {
        "id": "l8xDlfvFSwUT",
        "colab_type": "code",
        "colab": {
          "base_uri": "https://localhost:8080/",
          "height": 34
        },
        "outputId": "84f944ed-3b8f-4771-9a0f-66a417c97da7"
      },
      "source": [
        "data.shape"
      ],
      "execution_count": null,
      "outputs": [
        {
          "output_type": "execute_result",
          "data": {
            "text/plain": [
              "(363719, 9)"
            ]
          },
          "metadata": {
            "tags": []
          },
          "execution_count": 95
        }
      ]
    },
    {
      "cell_type": "code",
      "metadata": {
        "id": "bgizFXMI6Flo",
        "colab_type": "code",
        "colab": {}
      },
      "source": [
        "train_positive = data.merge(ordr, how='right', on=['user_id', 'product_id'])"
      ],
      "execution_count": null,
      "outputs": []
    },
    {
      "cell_type": "code",
      "metadata": {
        "id": "mQxvAAj_rLKs",
        "colab_type": "code",
        "colab": {
          "base_uri": "https://localhost:8080/",
          "height": 34
        },
        "outputId": "5cfdce6b-976d-43ad-c5bf-264c57580c3f"
      },
      "source": [
        "train_positive.shape"
      ],
      "execution_count": null,
      "outputs": [
        {
          "output_type": "execute_result",
          "data": {
            "text/plain": [
              "(1202304, 14)"
            ]
          },
          "metadata": {
            "tags": []
          },
          "execution_count": 97
        }
      ]
    },
    {
      "cell_type": "code",
      "metadata": {
        "id": "ZZVppt9grC70",
        "colab_type": "code",
        "colab": {}
      },
      "source": [
        "nan_index = train_positive[pd.isna(train_positive['uxp_total_bought'])].index"
      ],
      "execution_count": null,
      "outputs": []
    },
    {
      "cell_type": "code",
      "metadata": {
        "id": "8bxhSZmAx9q-",
        "colab_type": "code",
        "colab": {}
      },
      "source": [
        "nan_df = train_positive.loc[nan_index, :]"
      ],
      "execution_count": null,
      "outputs": []
    },
    {
      "cell_type": "markdown",
      "metadata": {
        "id": "ivm2xwOfsEk8",
        "colab_type": "text"
      },
      "source": [
        "Заполняем NaN'ы"
      ]
    },
    {
      "cell_type": "code",
      "metadata": {
        "id": "mue5FELcsLxh",
        "colab_type": "code",
        "colab": {
          "base_uri": "https://localhost:8080/",
          "height": 51
        },
        "outputId": "677e449c-df66-4ea2-d048-48061012ab59"
      },
      "source": [
        "u_index = []\n",
        "for user_id, group_u in tqdm(nan_df.groupby('user_id'), position=0):\n",
        "  u_total_orders, u_reordered_ratio = data[data['user_id'] == user_id][['u_total_orders', 'u_reordered_ratio']].values[0]\n",
        "  for ind in group_u.index:\n",
        "    u_index.append([ind, u_total_orders, u_reordered_ratio])\n",
        "\n",
        "u_index = np.reshape(u_index, (-1, 3))\n",
        "train_positive.loc[u_index[:, 0], ['u_total_orders', 'u_reordered_ratio']] = u_index[:, 1:]\n",
        "\n",
        "p_index = []\n",
        "for product_id, group_p in tqdm(nan_df.groupby('product_id'), position=0):\n",
        "  p_total_purchases, p_reorder_ratio = data[data['product_id'] == product_id][['p_total_purchases', 'p_reorder_ratio']].values[0]\n",
        "  for ind in group_p.index:\n",
        "    p_index.append([ind, p_total_purchases, p_reorder_ratio])\n",
        "\n",
        "p_index = np.reshape(p_index, (-1, 3))\n",
        "train_positive.loc[p_index[:, 0], ['p_total_purchases', 'p_reorder_ratio']] = p_index[:, 1:]"
      ],
      "execution_count": null,
      "outputs": [
        {
          "output_type": "stream",
          "text": [
            "100%|██████████| 6250/6250 [00:18<00:00, 336.99it/s]\n",
            "100%|██████████| 11838/11838 [00:38<00:00, 310.53it/s]\n"
          ],
          "name": "stderr"
        }
      ]
    },
    {
      "cell_type": "markdown",
      "metadata": {
        "id": "34pgWFwXNOh9",
        "colab_type": "text"
      },
      "source": [
        "Cold start product problem"
      ]
    },
    {
      "cell_type": "code",
      "metadata": {
        "id": "msDcahW8cP92",
        "colab_type": "code",
        "colab": {}
      },
      "source": [
        "nan_df = train_positive.loc[nan_index, :]"
      ],
      "execution_count": null,
      "outputs": []
    },
    {
      "cell_type": "code",
      "metadata": {
        "id": "HAQSEiumNJld",
        "colab_type": "code",
        "colab": {
          "base_uri": "https://localhost:8080/",
          "height": 34
        },
        "outputId": "af796c84-7349-443b-8005-c3291a9691d7"
      },
      "source": [
        "indexes = []\n",
        "for user_id, group_u in tqdm(nan_df.groupby('user_id'), position=0):\n",
        "  for product_id, group_p in group_u.groupby('product_id'):\n",
        "\n",
        "    X = data[(data['user_id'] != user_id) & (data['product_id'] == product_id)][['user_id', 'uxp_total_bought', 'uxp_reorder_ratio',\n",
        "       'times_lastN', 'u_total_orders', 'u_reordered_ratio']]\n",
        "\n",
        "    n_neighbors = min((10, X.shape[0]))\n",
        "\n",
        "    nbrs = NearestNeighbors(n_neighbors=n_neighbors, algorithm='ball_tree').fit(X[['u_total_orders', 'u_reordered_ratio']].values)\n",
        "    distances, indices = nbrs.kneighbors(group_p[['u_total_orders',\t'u_reordered_ratio']].values[0].reshape(1, -1))\n",
        "    uxp_total_bought, uxp_reorder_ratio, times_lastN = X.iloc[indices[0], [1, 2, 3]].mean()\n",
        "\n",
        "    for ind in group_p.index:\n",
        "      indexes.append([ind, uxp_total_bought, uxp_reorder_ratio, times_lastN])"
      ],
      "execution_count": null,
      "outputs": [
        {
          "output_type": "stream",
          "text": [
            "100%|██████████| 6250/6250 [11:32<00:00,  9.02it/s]\n"
          ],
          "name": "stderr"
        }
      ]
    },
    {
      "cell_type": "code",
      "metadata": {
        "id": "pLIxrmViv-vL",
        "colab_type": "code",
        "colab": {}
      },
      "source": [
        "with open('/content/drive/My Drive/Colab Notebooks/Diplom/instacart-market-basket-analysis/test_train/indexes.pkl', 'wb') as f:\n",
        "  pkl.dump(indexes, f)"
      ],
      "execution_count": null,
      "outputs": []
    },
    {
      "cell_type": "code",
      "metadata": {
        "id": "cXXVNaDFwNFv",
        "colab_type": "code",
        "colab": {}
      },
      "source": [
        "nan_ind = np.reshape(indexes, (-1, 4))"
      ],
      "execution_count": null,
      "outputs": []
    },
    {
      "cell_type": "code",
      "metadata": {
        "id": "ALOSJxcQwkua",
        "colab_type": "code",
        "colab": {}
      },
      "source": [
        "train_positive.loc[nan_ind[:,0], ['uxp_total_bought', 'uxp_reorder_ratio', 'times_lastN']] = nan_ind[:,1:]"
      ],
      "execution_count": null,
      "outputs": []
    },
    {
      "cell_type": "code",
      "metadata": {
        "id": "2Mf06k5haSFZ",
        "colab_type": "code",
        "colab": {
          "base_uri": "https://localhost:8080/",
          "height": 34
        },
        "outputId": "07d00497-8b77-491c-d117-be125ce7f5e8"
      },
      "source": [
        "del [orders, order_products_train, order_products_prior]\n",
        "del [op]\n",
        "\n",
        "gc.collect()"
      ],
      "execution_count": null,
      "outputs": [
        {
          "output_type": "execute_result",
          "data": {
            "text/plain": [
              "1870"
            ]
          },
          "metadata": {
            "tags": []
          },
          "execution_count": 106
        }
      ]
    },
    {
      "cell_type": "code",
      "metadata": {
        "id": "jdhlHZcCMsB6",
        "colab_type": "code",
        "colab": {}
      },
      "source": [
        "train_positive['days_since_prior_order'].fillna(0, inplace=True)"
      ],
      "execution_count": null,
      "outputs": []
    },
    {
      "cell_type": "code",
      "metadata": {
        "id": "0EG1IcI3tjTo",
        "colab_type": "code",
        "colab": {}
      },
      "source": [
        "train_positive.to_csv('/content/drive/My Drive/Colab Notebooks/Diplom/instacart-market-basket-analysis/test_train/train_positive.csv', index=False)"
      ],
      "execution_count": null,
      "outputs": []
    },
    {
      "cell_type": "code",
      "metadata": {
        "id": "XoUN_-cJaKe5",
        "colab_type": "code",
        "colab": {}
      },
      "source": [
        "train_positive = pd.read_csv('/content/drive/My Drive/Colab Notebooks/Diplom/instacart-market-basket-analysis/test_train/train_positive.csv')"
      ],
      "execution_count": null,
      "outputs": []
    },
    {
      "cell_type": "markdown",
      "metadata": {
        "id": "dNvKQNuUi0FT",
        "colab_type": "text"
      },
      "source": [
        "## Создаем датасет с отрицательными классами"
      ]
    },
    {
      "cell_type": "code",
      "metadata": {
        "id": "jPkst2TLNQrf",
        "colab_type": "code",
        "colab": {
          "base_uri": "https://localhost:8080/",
          "height": 34
        },
        "outputId": "47a3cf4d-e6b6-470b-a3b3-5350a4d477af"
      },
      "source": [
        "prod_to_ind = {}\n",
        "\n",
        "for user_id, group_u in tqdm(train_positive.groupby('user_id'), position=0):\n",
        "  prod_to_ind[user_id] = {}\n",
        "  for product_id, group_p in group_u.groupby('product_id'):\n",
        "    orders = group_p['order_id'].values\n",
        "    size = orders.size\n",
        "\n",
        "    target_orders = list(set(group_u[~group_u['order_id'].isin(orders)]['order_id']))\n",
        "\n",
        "    if size > len(target_orders):\n",
        "      size = len(target_orders)\n",
        "    #elif size < len(target_orders):\n",
        "     # size += 1\n",
        "\n",
        "    prod_to_ind[user_id][product_id] = np.random.choice(target_orders, size, replace=False)\n",
        "\n",
        "with open('/content/drive/My Drive/Colab Notebooks/Diplom/instacart-market-basket-analysis/test_train/prod_to_ind.pkl', 'wb') as f:\n",
        "  pkl.dump(prod_to_ind, f)"
      ],
      "execution_count": null,
      "outputs": [
        {
          "output_type": "stream",
          "text": [
            "100%|██████████| 6605/6605 [11:05<00:00,  9.93it/s]\n"
          ],
          "name": "stderr"
        }
      ]
    },
    {
      "cell_type": "code",
      "metadata": {
        "id": "7OJwtJM-G8FF",
        "colab_type": "code",
        "colab": {}
      },
      "source": [
        "with open('/content/drive/My Drive/Colab Notebooks/Diplom/instacart-market-basket-analysis/test_train/prod_to_ind.pkl', 'rb') as f:\n",
        "  prod_to_ind = pkl.load(f)"
      ],
      "execution_count": null,
      "outputs": []
    },
    {
      "cell_type": "code",
      "metadata": {
        "id": "-JcxG3hACeRf",
        "colab_type": "code",
        "colab": {
          "base_uri": "https://localhost:8080/",
          "height": 34
        },
        "outputId": "4f2b36ec-000d-4743-a8e5-3376f3e216d9"
      },
      "source": [
        "ind_ord = []\n",
        "for user_id in tqdm(prod_to_ind.keys(), position=0):\n",
        "  for product_id in prod_to_ind[user_id].keys():\n",
        "    for el in prod_to_ind[user_id][product_id]:\n",
        "      ind_ord.append([user_id, product_id, el])"
      ],
      "execution_count": null,
      "outputs": [
        {
          "output_type": "stream",
          "text": [
            "100%|██████████| 6605/6605 [00:02<00:00, 2917.94it/s]\n"
          ],
          "name": "stderr"
        }
      ]
    },
    {
      "cell_type": "code",
      "metadata": {
        "id": "odsTHL3OmhbM",
        "colab_type": "code",
        "colab": {}
      },
      "source": [
        "tr_neg = pd.DataFrame(ind_ord, columns=['user_id', 'product_id', 'order_id']).merge(data, how='inner', on=['user_id', 'product_id'])"
      ],
      "execution_count": null,
      "outputs": []
    },
    {
      "cell_type": "code",
      "metadata": {
        "id": "WCxMlSjvguMz",
        "colab_type": "code",
        "colab": {}
      },
      "source": [
        "train_negative = tr_neg.merge(order_features[['order_id', 'order_number', 'order_dow', 'order_hour_of_day', 'days_since_prior_order']], how='inner', on='order_id')"
      ],
      "execution_count": null,
      "outputs": []
    },
    {
      "cell_type": "code",
      "metadata": {
        "id": "WfWvx5bsD_hK",
        "colab_type": "code",
        "colab": {}
      },
      "source": [
        "train_positive['days_since_prior_order'].fillna(0, inplace=True)\n",
        "train_negative['days_since_prior_order'].fillna(0, inplace=True)"
      ],
      "execution_count": null,
      "outputs": []
    },
    {
      "cell_type": "code",
      "metadata": {
        "id": "w8JCZmAA4iVn",
        "colab_type": "code",
        "colab": {}
      },
      "source": [
        "train_positive['label'] = 1\n",
        "train_negative['label'] = 0"
      ],
      "execution_count": null,
      "outputs": []
    },
    {
      "cell_type": "code",
      "metadata": {
        "id": "FCZ8qZa-Ehf2",
        "colab_type": "code",
        "colab": {}
      },
      "source": [
        "train_positive['uxp_total_bought'] = train_positive['uxp_total_bought'].apply(lambda x: int(x))\n",
        "train_positive['times_lastN'] = train_positive['times_lastN'].apply(lambda x: int(x))\n",
        "\n",
        "train_negative['uxp_total_bought'] = train_negative['uxp_total_bought'].apply(lambda x: int(x))\n",
        "train_negative['times_lastN'] = train_negative['times_lastN'].apply(lambda x: int(x))"
      ],
      "execution_count": null,
      "outputs": []
    },
    {
      "cell_type": "code",
      "metadata": {
        "id": "OjQ6FLlVbedb",
        "colab_type": "code",
        "colab": {}
      },
      "source": [
        "train_positive.to_csv('/content/drive/My Drive/Colab Notebooks/Diplom/instacart-market-basket-analysis/test_train/train_positive.csv', index=False)\n",
        "train_negative.to_csv('/content/drive/My Drive/Colab Notebooks/Diplom/instacart-market-basket-analysis/test_train/train_negative.csv', index=False)"
      ],
      "execution_count": null,
      "outputs": []
    },
    {
      "cell_type": "code",
      "metadata": {
        "id": "SsyH4RXNIh2H",
        "colab_type": "code",
        "colab": {
          "base_uri": "https://localhost:8080/",
          "height": 34
        },
        "outputId": "d9c995bb-f2de-4674-e1e0-863e48477a0d"
      },
      "source": [
        "len(set(train_positive.user_id))"
      ],
      "execution_count": null,
      "outputs": [
        {
          "output_type": "execute_result",
          "data": {
            "text/plain": [
              "6605"
            ]
          },
          "metadata": {
            "tags": []
          },
          "execution_count": 8
        }
      ]
    },
    {
      "cell_type": "code",
      "metadata": {
        "id": "6RPyA5wB1Xw3",
        "colab_type": "code",
        "colab": {}
      },
      "source": [
        "len(set(order_features.user_id))"
      ],
      "execution_count": null,
      "outputs": []
    },
    {
      "cell_type": "code",
      "metadata": {
        "id": "GloyR_co1YDg",
        "colab_type": "code",
        "colab": {}
      },
      "source": [
        "len(set(train_positive.order_id))"
      ],
      "execution_count": null,
      "outputs": []
    },
    {
      "cell_type": "code",
      "metadata": {
        "id": "KAhJ1tVE1-ly",
        "colab_type": "code",
        "colab": {}
      },
      "source": [
        "len(set(order_features.order_id))"
      ],
      "execution_count": null,
      "outputs": []
    },
    {
      "cell_type": "code",
      "metadata": {
        "id": "9GfSRsl6U2Im",
        "colab_type": "code",
        "colab": {}
      },
      "source": [
        ""
      ],
      "execution_count": null,
      "outputs": []
    },
    {
      "cell_type": "markdown",
      "metadata": {
        "id": "wEQSLTLaY_qm",
        "colab_type": "text"
      },
      "source": [
        "## Дополняем order_features последовательностями продуктов за все предыдущие заказы"
      ]
    },
    {
      "cell_type": "code",
      "metadata": {
        "id": "8RHNYgJetlzg",
        "colab_type": "code",
        "colab": {}
      },
      "source": [
        "order_features = pd.read_csv('/content/drive/My Drive/Colab Notebooks/Diplom/instacart-market-basket-analysis/test_train/order_features.csv')\n",
        "order_features['prod_seq'] = order_features['prod_seq'].apply(lambda x: list(np.fromstring(x.strip('[ ]'), dtype=int, sep=', ')))\n",
        "order_features['prev_seq'] = order_features['prev_seq'].apply(lambda x: list(np.fromstring(x.strip('[ ]'), dtype=int, sep=', ')))"
      ],
      "execution_count": null,
      "outputs": []
    },
    {
      "cell_type": "code",
      "metadata": {
        "id": "malWfrIuU-AZ",
        "colab_type": "code",
        "colab": {
          "base_uri": "https://localhost:8080/",
          "height": 34
        },
        "outputId": "b34d2130-aa4d-4699-a4ef-53861cfcfcda"
      },
      "source": [
        "prev_orders_seq = {}\n",
        "for user_id, group_u in tqdm(order_features.groupby('user_id'), position=0):\n",
        "  for ind in group_u.index:\n",
        "    prev_orders_seq[group_u.loc[ind, 'order_id']] = group_u[group_u['order_number'] < group_u.loc[ind, 'order_number']]['prod_seq'].sum()"
      ],
      "execution_count": null,
      "outputs": [
        {
          "output_type": "stream",
          "text": [
            "100%|██████████| 6605/6605 [02:01<00:00, 54.21it/s]\n"
          ],
          "name": "stderr"
        }
      ]
    },
    {
      "cell_type": "code",
      "metadata": {
        "id": "lola5wbVVgcC",
        "colab_type": "code",
        "colab": {}
      },
      "source": [
        "order_features = order_features.merge(pd.DataFrame(prev_orders_seq.items(), columns=['order_id', 'prev_orders_seq']), how='inner', on='order_id')"
      ],
      "execution_count": null,
      "outputs": []
    },
    {
      "cell_type": "code",
      "metadata": {
        "id": "R5rg112rYdX0",
        "colab_type": "code",
        "colab": {}
      },
      "source": [
        "order_features.to_csv('/content/drive/My Drive/Colab Notebooks/Diplom/instacart-market-basket-analysis/test_train/order_features.csv', index=False)"
      ],
      "execution_count": null,
      "outputs": []
    },
    {
      "cell_type": "code",
      "metadata": {
        "id": "EKCEE4wZf4z4",
        "colab_type": "code",
        "colab": {}
      },
      "source": [
        ""
      ],
      "execution_count": null,
      "outputs": []
    },
    {
      "cell_type": "code",
      "metadata": {
        "id": "ywAEL5V6BuRA",
        "colab_type": "code",
        "colab": {}
      },
      "source": [
        "train_positive = pd.read_csv('/content/drive/My Drive/Colab Notebooks/Diplom/instacart-market-basket-analysis/test_train/train_positive.csv')\n",
        "train_negative = pd.read_csv('/content/drive/My Drive/Colab Notebooks/Diplom/instacart-market-basket-analysis/test_train/train_negative.csv')"
      ],
      "execution_count": null,
      "outputs": []
    },
    {
      "cell_type": "code",
      "metadata": {
        "id": "p32SWo-gB1tW",
        "colab_type": "code",
        "colab": {}
      },
      "source": [
        "train = pd.concat((train_negative, train_positive), axis=0)"
      ],
      "execution_count": null,
      "outputs": []
    },
    {
      "cell_type": "code",
      "metadata": {
        "id": "gB8I9J7dDH_t",
        "colab_type": "code",
        "colab": {}
      },
      "source": [
        ""
      ],
      "execution_count": null,
      "outputs": []
    }
  ]
}