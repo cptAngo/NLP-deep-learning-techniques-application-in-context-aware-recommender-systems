{
  "nbformat": 4,
  "nbformat_minor": 0,
  "metadata": {
    "colab": {
      "name": "LSTM_next_sentence_pred.ipynb",
      "provenance": [],
      "collapsed_sections": [
        "kJKBMlAbax50"
      ],
      "machine_shape": "hm",
      "authorship_tag": "ABX9TyP3h5spVtpbswvZVQCfDPfS"
    },
    "kernelspec": {
      "name": "python3",
      "display_name": "Python 3"
    }
  },
  "cells": [
    {
      "cell_type": "code",
      "metadata": {
        "id": "j5421Jg9US5K",
        "colab_type": "code",
        "colab": {
          "base_uri": "https://localhost:8080/",
          "height": 34
        },
        "outputId": "ba6407ca-607b-459e-91d3-b70691796fff"
      },
      "source": [
        "%tensorflow_version 1.x"
      ],
      "execution_count": null,
      "outputs": [
        {
          "output_type": "stream",
          "text": [
            "TensorFlow 1.x selected.\n"
          ],
          "name": "stdout"
        }
      ]
    },
    {
      "cell_type": "code",
      "metadata": {
        "id": "IoPILehOTOJL",
        "colab_type": "code",
        "colab": {}
      },
      "source": [
        "import pandas as pd\n",
        "import numpy as np\n",
        "import re\n",
        "import keras\n",
        "from tqdm import tqdm\n",
        "import pickle as pkl\n",
        "import gc\n",
        "from sklearn.metrics import accuracy_score\n",
        "from tensorflow.keras import layers\n",
        "import tensorflow as tf\n",
        "from scipy.spatial.distance import euclidean\n",
        "from sklearn.metrics.pairwise import cosine_similarity, euclidean_distances\n",
        "from sklearn.decomposition import PCA\n",
        "import multiprocessing\n",
        "import os\n",
        "gc.enable()\n",
        "\n",
        "from tensorflow.keras.utils import to_categorical\n",
        "from tensorflow.keras.preprocessing.sequence import pad_sequences\n",
        "from tensorflow.keras.models import Sequential, Model\n",
        "from tensorflow.keras.layers import Dense, Dropout, TimeDistributed, Activation, Masking, Input\n",
        "from tensorflow.keras.layers import LSTM, Bidirectional, dot, concatenate\n",
        "from tensorflow.keras.layers import Embedding\n",
        "from tensorflow.keras.callbacks import * \n",
        "from tensorflow.keras.models import load_model\n",
        "from tensorflow.keras.regularizers import L1L2\n",
        "from tensorflow.keras.backend import squeeze\n",
        "from tensorflow.keras. optimizers import RMSprop, Adam\n",
        "\n",
        "import xgboost as xgb\n",
        "import statsmodels.api as sm\n",
        "import pylab as plt\n",
        "from scipy import stats\n",
        "\n",
        "%pylab inline\n",
        "\n",
        "from google.colab import drive\n",
        "drive.mount('/content/drive')"
      ],
      "execution_count": null,
      "outputs": []
    },
    {
      "cell_type": "code",
      "metadata": {
        "id": "tMkE11k7TZWI",
        "colab_type": "code",
        "colab": {
          "base_uri": "https://localhost:8080/",
          "height": 306
        },
        "outputId": "1e8de8d4-27aa-41d9-ef16-5b45f9266711"
      },
      "source": [
        "from tensorflow.python.client import device_lib\n",
        "print(device_lib.list_local_devices())\n",
        "\n",
        "from keras import backend as K\n",
        "K.tensorflow_backend._get_available_gpus()\n",
        "\n",
        "sess = tf.Session(config=tf.ConfigProto(log_device_placement=True))\n",
        "keras.backend.set_session(sess)"
      ],
      "execution_count": null,
      "outputs": [
        {
          "output_type": "stream",
          "text": [
            "[name: \"/device:CPU:0\"\n",
            "device_type: \"CPU\"\n",
            "memory_limit: 268435456\n",
            "locality {\n",
            "}\n",
            "incarnation: 7111740521393919300\n",
            ", name: \"/device:XLA_CPU:0\"\n",
            "device_type: \"XLA_CPU\"\n",
            "memory_limit: 17179869184\n",
            "locality {\n",
            "}\n",
            "incarnation: 15120729688407102860\n",
            "physical_device_desc: \"device: XLA_CPU device\"\n",
            "]\n",
            "Device mapping:\n",
            "/job:localhost/replica:0/task:0/device:XLA_CPU:0 -> device: XLA_CPU device\n",
            "\n"
          ],
          "name": "stdout"
        }
      ]
    },
    {
      "cell_type": "markdown",
      "metadata": {
        "id": "pomcLAGMsAxU",
        "colab_type": "text"
      },
      "source": [
        "## Обучаем LSTM в такой парадигме: Предсказываем следующий элемент в последовательности"
      ]
    },
    {
      "cell_type": "code",
      "metadata": {
        "id": "AQ6Ux3NBWicd",
        "colab_type": "code",
        "colab": {}
      },
      "source": [
        "order_features = pd.read_csv('/content/drive/My Drive/Colab Notebooks/Diplom/instacart-market-basket-analysis/test_train/order_features.csv')\n",
        "order_features['prod_seq'] = order_features['prod_seq'].apply(lambda x: list(np.fromstring(x.strip('[ ]'), dtype=int, sep=', ')))\n",
        "order_features['prev_seq'] = order_features['prev_seq'].apply(lambda x: list(np.fromstring(x.strip('[ ]'), dtype=int, sep=', ')))\n",
        "order_features['prev_orders_seq'] = order_features['prev_orders_seq'].apply(lambda x: list(np.fromstring(x.strip('[ ]'), dtype=int, sep=', ')))\n",
        "\n",
        "train_positive = pd.read_csv('/content/drive/My Drive/Colab Notebooks/Diplom/instacart-market-basket-analysis/test_train/train_positive.csv')\n",
        "train_negative = pd.read_csv('/content/drive/My Drive/Colab Notebooks/Diplom/instacart-market-basket-analysis/test_train/train_negative.csv')\n",
        "\n",
        "with open('/content/drive/My Drive/Colab Notebooks/Diplom/instacart-market-basket-analysis/test_train/id_to_token.pkl', 'rb') as f:\n",
        "  id_to_token = pkl.load(f)\n",
        "\n",
        "with open('/content/drive/My Drive/Colab Notebooks/Diplom/instacart-market-basket-analysis/test_train/token_to_id.pkl', 'rb') as f:\n",
        "  token_to_id = pkl.load(f)\n",
        "\n",
        "with open('/content/drive/My Drive/Colab Notebooks/Diplom/instacart-market-basket-analysis/test_train/val_orders.pkl', 'rb') as f:\n",
        "  val_orders = pkl.load(f)\n",
        "\n",
        "with open('/content/drive/My Drive/Colab Notebooks/Diplom/instacart-market-basket-analysis/test_train/test_orders.pkl', 'rb') as f:\n",
        "  test_orders = pkl.load(f)"
      ],
      "execution_count": null,
      "outputs": []
    },
    {
      "cell_type": "code",
      "metadata": {
        "id": "iG2REI-qeURz",
        "colab_type": "code",
        "colab": {}
      },
      "source": [
        "it = 2\n",
        "os.makedirs('/content/drive/My Drive/Colab Notebooks/Diplom/models/lstm_next_sentence_pred/{0}'.format(it))"
      ],
      "execution_count": null,
      "outputs": []
    },
    {
      "cell_type": "code",
      "metadata": {
        "id": "FFMunu8gYPR_",
        "colab_type": "code",
        "colab": {}
      },
      "source": [
        "df_train = order_features[(~order_features['order_id'].isin(val_orders)) & (~order_features['order_id'].isin(test_orders))].reset_index(drop=True)\n",
        "df_val = order_features[order_features['order_id'].isin(val_orders)].reset_index(drop=True)\n",
        "df_test = order_features[order_features['order_id'].isin(test_orders)].reset_index(drop=True)"
      ],
      "execution_count": null,
      "outputs": []
    },
    {
      "cell_type": "code",
      "metadata": {
        "id": "vyYxNYVYG57j",
        "colab_type": "code",
        "colab": {
          "base_uri": "https://localhost:8080/",
          "height": 34
        },
        "outputId": "6ae14ff1-5f06-4d53-fa49-86d79cbefcd3"
      },
      "source": [
        "print(len(token_to_id)**0.25)"
      ],
      "execution_count": null,
      "outputs": [
        {
          "output_type": "stream",
          "text": [
            "12.551386264918223\n"
          ],
          "name": "stdout"
        }
      ]
    },
    {
      "cell_type": "code",
      "metadata": {
        "id": "ZIqaox8xpX0U",
        "colab_type": "code",
        "colab": {
          "base_uri": "https://localhost:8080/",
          "height": 34
        },
        "outputId": "3017b892-0aae-404e-acb7-e1b8c3a69eb1"
      },
      "source": [
        "print(len(df_train)/(10*(13 + 2)))"
      ],
      "execution_count": null,
      "outputs": [
        {
          "output_type": "stream",
          "text": [
            "683.16\n"
          ],
          "name": "stdout"
        }
      ]
    },
    {
      "cell_type": "code",
      "metadata": {
        "id": "-wpoWcNipdFS",
        "colab_type": "code",
        "colab": {
          "base_uri": "https://localhost:8080/",
          "height": 34
        },
        "outputId": "b5587fb5-b614-4556-aa14-8a097fed8346"
      },
      "source": [
        "print((2/3)*(13+2))"
      ],
      "execution_count": null,
      "outputs": [
        {
          "output_type": "stream",
          "text": [
            "10.0\n"
          ],
          "name": "stdout"
        }
      ]
    },
    {
      "cell_type": "code",
      "metadata": {
        "id": "Xv_i4w9mrF-V",
        "colab_type": "code",
        "colab": {
          "base_uri": "https://localhost:8080/",
          "height": 462
        },
        "outputId": "e8fa088e-1837-4a49-9b0e-221ed90fb44e"
      },
      "source": [
        "hidden_size = 10\n",
        "\n",
        "inp = Input(shape=(None,))\n",
        "\n",
        "emb = Embedding(len(id_to_token)+1, output_dim=13, mask_zero=True, name='embedding')(inp)\n",
        "\n",
        "lstm = LSTM(hidden_size, return_sequences=True, kernel_initializer='he_uniform', name='lstm_1')(emb)\n",
        "\n",
        "#target_vec = lstm[:,-1,:]\n",
        "#query = Dense(hidden_size, kernel_initializer='he_uniform', name='query')(target_vec)\n",
        "\n",
        "#attention = dot([query, lstm[:,:-1,:]], axes=[1, 2], name='score_attention')\n",
        "#attention = Activation('softmax', name='attention_activation')(attention)\n",
        "\n",
        "#context = dot([attention, lstm[:,:-1,:]], axes=[1,1], name='context')\n",
        "#decoder_combined_context = concatenate([target_vec, context], name='attention_vectors')\n",
        "\n",
        "out = TimeDistributed(Dense(len(id_to_token)+1, kernel_initializer='he_uniform', activation='softmax'), name='timedist_dense')(lstm)\n",
        "\n",
        "model = Model(inp, out)\n",
        "\n",
        "optimizer = Adam(learning_rate=0.00001)\n",
        "\n",
        "model.compile(optimizer=optimizer, loss='sparse_categorical_crossentropy',\n",
        "              metrics=['sparse_categorical_accuracy'])\n",
        "\n",
        "model.summary()"
      ],
      "execution_count": null,
      "outputs": [
        {
          "output_type": "stream",
          "text": [
            "WARNING:tensorflow:From /tensorflow-1.15.2/python3.6/tensorflow_core/python/keras/initializers.py:119: calling RandomUniform.__init__ (from tensorflow.python.ops.init_ops) with dtype is deprecated and will be removed in a future version.\n",
            "Instructions for updating:\n",
            "Call initializer instance with the dtype argument instead of passing it to the constructor\n",
            "WARNING:tensorflow:From /tensorflow-1.15.2/python3.6/tensorflow_core/python/ops/resource_variable_ops.py:1630: calling BaseResourceVariable.__init__ (from tensorflow.python.ops.resource_variable_ops) with constraint is deprecated and will be removed in a future version.\n",
            "Instructions for updating:\n",
            "If using Keras pass *_constraint arguments to layers.\n",
            "WARNING:tensorflow:From /tensorflow-1.15.2/python3.6/tensorflow_core/python/keras/backend.py:3994: where (from tensorflow.python.ops.array_ops) is deprecated and will be removed in a future version.\n",
            "Instructions for updating:\n",
            "Use tf.where in 2.0, which has the same broadcast rule as np.where\n",
            "Model: \"model\"\n",
            "_________________________________________________________________\n",
            "Layer (type)                 Output Shape              Param #   \n",
            "=================================================================\n",
            "input_1 (InputLayer)         [(None, None)]            0         \n",
            "_________________________________________________________________\n",
            "embedding (Embedding)        (None, None, 13)          322647    \n",
            "_________________________________________________________________\n",
            "lstm_1 (LSTM)                (None, None, 10)          960       \n",
            "_________________________________________________________________\n",
            "timedist_dense (TimeDistribu (None, None, 24819)       273009    \n",
            "=================================================================\n",
            "Total params: 596,616\n",
            "Trainable params: 596,616\n",
            "Non-trainable params: 0\n",
            "_________________________________________________________________\n"
          ],
          "name": "stdout"
        }
      ]
    },
    {
      "cell_type": "code",
      "metadata": {
        "id": "bXahqf0jybJt",
        "colab_type": "code",
        "colab": {}
      },
      "source": [
        "def data_generator(data, dic, batch_size=64):\n",
        "  \n",
        "  step = 0\n",
        "  while True:\n",
        "    if step * batch_size > data.shape[0]:\n",
        "      step = 0\n",
        "\n",
        "    data_slice = data[step * batch_size:(step+1) * batch_size]\n",
        "    maxlen = np.max(list(map(len, data_slice)))\n",
        "\n",
        "    x = np.zeros((data_slice.shape[0], maxlen-1), dtype=int)\n",
        "    y = np.zeros((data_slice.shape[0], maxlen-1, 1), dtype=int)\n",
        "\n",
        "    for i in range(data_slice.shape[0]):\n",
        "      size = len(data_slice[i])\n",
        "      for j in range(size-1):\n",
        "        x[i, j] = dic[data_slice[i][j]] + 1\n",
        "        y[i, j, 0] = dic[data_slice[i][j+1]] + 1\n",
        "\n",
        "    step+=1\n",
        "\n",
        "    yield x, y"
      ],
      "execution_count": null,
      "outputs": []
    },
    {
      "cell_type": "code",
      "metadata": {
        "id": "8F7p92mjM0s_",
        "colab_type": "code",
        "colab": {}
      },
      "source": [
        "path = '/content/drive/My Drive/Colab Notebooks/Diplom/models/lstm_next_sentence_pred/{0}/'.format(it)"
      ],
      "execution_count": null,
      "outputs": []
    },
    {
      "cell_type": "code",
      "metadata": {
        "id": "xY_l2FcftFkv",
        "colab_type": "code",
        "colab": {}
      },
      "source": [
        "def my_learning_rate(epoch, lrate):\n",
        "  return lrate\n",
        "\n",
        "checkpoint = ModelCheckpoint(path + 'lstm_next_sentence_pred_epochs:{epoch:03d}_loss:{loss:.3f}_accuracy:{sparse_categorical_accuracy:.3f}_\\\n",
        "valloss:{val_loss:.3f}_valaccuracy:{val_sparse_categorical_accuracy:.3f}.hdf5', \n",
        "                             monitor='val_loss', verbose=1, save_best_only=True, mode='auto', save_freq='epoch')\n",
        "stop = EarlyStopping(monitor='loss', min_delta=0.0001)\n",
        "lrs = LearningRateScheduler(my_learning_rate)\n",
        "\n",
        "callbacks_list = [checkpoint]\n",
        "\n",
        "batch_size = 64\n",
        "epochs = 30"
      ],
      "execution_count": null,
      "outputs": []
    },
    {
      "cell_type": "code",
      "metadata": {
        "id": "Dr3Wb76jh7Ca",
        "colab_type": "code",
        "colab": {}
      },
      "source": [
        "model.load_weights(path+'lstm_next_sentence_pred_epochs:030_loss:2.998_accuracy:0.012_valloss:2.508_valaccuracy:0.012.hdf5')"
      ],
      "execution_count": null,
      "outputs": []
    },
    {
      "cell_type": "code",
      "metadata": {
        "id": "noJ9_CvN4Mea",
        "colab_type": "code",
        "colab": {}
      },
      "source": [
        "model.fit_generator(data_generator(df_train['prod_seq'].values, token_to_id, batch_size), steps_per_epoch=df_train.shape[0]//batch_size, epochs=epochs,\n",
        "                    validation_data=data_generator(df_val['prod_seq'].values, token_to_id, batch_size), validation_steps=df_val.shape[0]//batch_size,\n",
        "                    callbacks=callbacks_list)"
      ],
      "execution_count": null,
      "outputs": []
    },
    {
      "cell_type": "markdown",
      "metadata": {
        "id": "RBuYTasfa9kf",
        "colab_type": "text"
      },
      "source": [
        "## LSTM + XGB"
      ]
    },
    {
      "cell_type": "code",
      "metadata": {
        "id": "gWRZc5xTWr7T",
        "colab_type": "code",
        "colab": {}
      },
      "source": [
        "pos_neg = pd.concat((train_positive, train_negative), axis=0)"
      ],
      "execution_count": null,
      "outputs": []
    },
    {
      "cell_type": "code",
      "metadata": {
        "id": "uX-K3dYkWt88",
        "colab_type": "code",
        "colab": {}
      },
      "source": [
        "data_train = pos_neg[(~pos_neg['order_id'].isin(val_orders)) & (~pos_neg['order_id'].isin(test_orders))].sample(frac=1).drop_duplicates(subset=['uxp_total_bought', 'uxp_reorder_ratio',\n",
        "       'times_lastN', 'u_total_orders', 'u_reordered_ratio', 'p_total_purchases', 'p_reorder_ratio', 'order_dow',\n",
        "        'order_hour_of_day', 'days_since_prior_order'])\n",
        "data_val = pos_neg[pos_neg['order_id'].isin(val_orders)].sample(frac=1)\n",
        "data_test = pos_neg[pos_neg['order_id'].isin(test_orders)].sample(frac=1)"
      ],
      "execution_count": null,
      "outputs": []
    },
    {
      "cell_type": "code",
      "metadata": {
        "id": "odlOM8j-U3gi",
        "colab_type": "code",
        "colab": {}
      },
      "source": [
        "emb_model = Model(model.input, model.get_layer('embedding').output)"
      ],
      "execution_count": null,
      "outputs": []
    },
    {
      "cell_type": "code",
      "metadata": {
        "id": "rqk1C8lnWwtP",
        "colab_type": "code",
        "colab": {}
      },
      "source": [
        "lstm_to_df = np.zeros((len(id_to_token), 14))\n",
        "for i_d, token in id_to_token.items():\n",
        "  lstm_to_df[i_d, 0] = token\n",
        "  lstm_to_df[i_d, 1:] = emb_model.predict(np.reshape([i_d+1],(-1,1))).reshape(13,)"
      ],
      "execution_count": null,
      "outputs": []
    },
    {
      "cell_type": "code",
      "metadata": {
        "id": "ThTiZ9b1YumK",
        "colab_type": "code",
        "colab": {}
      },
      "source": [
        "lstm_df = pd.DataFrame(lstm_to_df, columns=['product_id', '0', '1', '2', '3', '4', '5', '6', '7' ,'8', '9', '10', '11', '12'])"
      ],
      "execution_count": null,
      "outputs": []
    },
    {
      "cell_type": "markdown",
      "metadata": {
        "id": "XzgRyolZbEMn",
        "colab_type": "text"
      },
      "source": [
        "###Собираем новый датасет для бустинга"
      ]
    },
    {
      "cell_type": "code",
      "metadata": {
        "id": "KOCOfgp4anSw",
        "colab_type": "code",
        "colab": {}
      },
      "source": [
        "new_data_train = data_train.merge(lstm_df, how='inner', on='product_id')\n",
        "new_data_val = data_val.merge(lstm_df, how='inner', on='product_id')\n",
        "new_data_test = data_test.merge(lstm_df, how='inner', on='product_id')\n",
        "\n",
        "prods_df = train_positive.merge(lstm_df, how='inner', on='product_id')"
      ],
      "execution_count": null,
      "outputs": []
    },
    {
      "cell_type": "code",
      "metadata": {
        "id": "AK7kQH8KarbT",
        "colab_type": "code",
        "colab": {}
      },
      "source": [
        "new_data_train = new_data_train.sample(frac=1).reset_index(drop=True)"
      ],
      "execution_count": null,
      "outputs": []
    },
    {
      "cell_type": "code",
      "metadata": {
        "id": "gSOxdxFiatT_",
        "colab_type": "code",
        "colab": {}
      },
      "source": [
        "new_val_set = new_data_val[new_data_val['label'] == 1]\n",
        "new_test_set = new_data_test[new_data_test['label'] == 1]"
      ],
      "execution_count": null,
      "outputs": []
    },
    {
      "cell_type": "code",
      "metadata": {
        "id": "7Br1dBSjau2V",
        "colab_type": "code",
        "colab": {}
      },
      "source": [
        "best_params = {'colsample_bytree': 0.4,\n",
        " 'eval_metric': 'logloss',\n",
        " 'gamma': 0,\n",
        " 'max_depth': 3,\n",
        " 'min_child_weight': 1,\n",
        " 'subsample': 0.6}"
      ],
      "execution_count": null,
      "outputs": []
    },
    {
      "cell_type": "markdown",
      "metadata": {
        "id": "kJKBMlAbax50",
        "colab_type": "text"
      },
      "source": [
        "###Обучаем и проверяем качество на валидации"
      ]
    },
    {
      "cell_type": "code",
      "metadata": {
        "id": "WEikcRk4bISM",
        "colab_type": "code",
        "colab": {
          "base_uri": "https://localhost:8080/",
          "height": 400
        },
        "outputId": "54d802fe-5910-43f5-ad46-2b7e01fc0f73"
      },
      "source": [
        "feat_cols = ['uxp_total_bought', 'uxp_reorder_ratio', 'times_lastN', 'u_total_orders', 'u_reordered_ratio', 'p_total_purchases',\n",
        "             'p_reorder_ratio', 'order_dow', 'order_hour_of_day', 'days_since_prior_order',\n",
        "             '0', '1', '2', '3', '4', '5', '6', '7', '8', '9', '10', '11', '12', 'label']\n",
        "\n",
        "X_train, y_train = new_data_train[feat_cols[:-1]], new_data_train[feat_cols[-1]]\n",
        "\n",
        "parameters = best_params\n",
        "\n",
        "xgbc = xgb.XGBClassifier(objective='binary:logistic', parameters=parameters, num_boost_round=10, n_jobs=-1, silent=False)\n",
        "\n",
        "model_xgb = xgbc.fit(X_train, y_train)\n",
        "\n",
        "xgb.plot_importance(model_xgb)\n",
        "\n",
        "\n",
        "precision_xgb = {}\n",
        "recall_xgb = {}\n",
        "for i in range(1, 11):\n",
        "  precision_xgb[i] = 0\n",
        "  recall_xgb[i] = 0\n",
        "\n",
        "total = 0\n",
        "\n",
        "for user_id, group_u in tqdm(new_val_set.groupby('user_id'), position=0):\n",
        "\n",
        "  for order_id, group_o in group_u.groupby('order_id'):\n",
        "    #Купленные товары\n",
        "    bought = np.array(list(set(group_o['product_id'])))\n",
        "\n",
        "    #Ищем товары, которые порекомендует бустинг\n",
        "    order = group_o[['order_id', 'order_dow', 'order_hour_of_day', 'days_since_prior_order']]\n",
        "    prods = prods_df[prods_df['user_id']==user_id].drop_duplicates(subset=['product_id'])\n",
        "\n",
        "    prods['order_dow'] = prods['order_dow'].apply(lambda x: order['order_dow'].values[0])\n",
        "    prods['order_hour_of_day'] = prods['order_hour_of_day'].apply(lambda x: order['order_hour_of_day'].values[0])\n",
        "    prods['days_since_prior_order'] = prods['days_since_prior_order'].apply(lambda x: order['days_since_prior_order'].values[0])\n",
        "\n",
        "    prods['prob'] =  model_xgb.predict_proba(prods[feat_cols[:-1]])[:, 1]\n",
        "\n",
        "    for i in range(1, 11):\n",
        "      recommended_xgb = np.array(list(map(lambda x:int(x[0]),sorted(prods[['product_id', 'prob']].values, key=lambda x: x[1], reverse=True)[:i])))\n",
        "      precision_xgb[i] += np.intersect1d(bought, recommended_xgb).shape[0]/recommended_xgb.shape[0]\n",
        "      recall_xgb[i] += np.intersect1d(bought, recommended_xgb).shape[0]/bought.shape[0]\n",
        "\n",
        "    total += 1\n",
        "\n",
        "for i in range(1, 11):\n",
        "  precision_xgb[i] = precision_xgb[i]/total\n",
        "  recall_xgb[i] = recall_xgb[i]/total\n",
        "\n",
        "print('\\n')\n",
        "print(precision_xgb)\n",
        "print(recall_xgb)"
      ],
      "execution_count": null,
      "outputs": [
        {
          "output_type": "stream",
          "text": [
            "100%|██████████| 6605/6605 [05:09<00:00, 21.37it/s]\n"
          ],
          "name": "stderr"
        },
        {
          "output_type": "stream",
          "text": [
            "\n",
            "\n",
            "{1: 0.47721423164269494, 2: 0.4322104466313399, 3: 0.3993691647741598, 4: 0.37096265455463034, 5: 0.3499104213979167, 6: 0.33231264193792376, 7: 0.317424930608137, 8: 0.30473027288129484, 9: 0.29459275080207403, 10: 0.2848375148696776}\n",
            "{1: 0.08659935878329146, 2: 0.14548841358762513, 3: 0.1937510073657111, 4: 0.2315872172945182, 5: 0.26667612552192727, 6: 0.2973733042601629, 7: 0.3247816990852402, 8: 0.3495717901230446, 9: 0.3743942081071174, 10: 0.3960210746952578}\n"
          ],
          "name": "stdout"
        },
        {
          "output_type": "display_data",
          "data": {
            "image/png": "[encoded data removed]",
            "text/plain": [
              "<Figure size 432x288 with 1 Axes>"
            ]
          },
          "metadata": {
            "tags": [],
            "needs_background": "light"
          }
        }
      ]
    },
    {
      "cell_type": "markdown",
      "metadata": {
        "id": "i4zG4w1TdkzD",
        "colab_type": "text"
      },
      "source": [
        "###Проверяем качество на тесте"
      ]
    },
    {
      "cell_type": "code",
      "metadata": {
        "id": "nD6HSXrGdmAs",
        "colab_type": "code",
        "colab": {
          "base_uri": "https://localhost:8080/",
          "height": 400
        },
        "outputId": "f4e3237c-a557-4f34-c9db-43bb7e4d0411"
      },
      "source": [
        "feat_cols = ['uxp_total_bought', 'uxp_reorder_ratio', 'times_lastN', 'u_total_orders', 'u_reordered_ratio', 'p_total_purchases',\n",
        "             'p_reorder_ratio', 'order_dow', 'order_hour_of_day', 'days_since_prior_order',\n",
        "             '0', '1', '2', '3', '4', '5', '6', '7', '8', '9', '10', '11', '12', 'label']\n",
        "\n",
        "X_train, y_train = new_data_train[feat_cols[:-1]], new_data_train[feat_cols[-1]]\n",
        "\n",
        "parameters = best_params\n",
        "\n",
        "xgbc = xgb.XGBClassifier(objective='binary:logistic', parameters=parameters, num_boost_round=10, n_jobs=-1, silent=False)\n",
        "\n",
        "model_xgb = xgbc.fit(X_train, y_train)\n",
        "\n",
        "xgb.plot_importance(model_xgb)\n",
        "\n",
        "\n",
        "precision_xgb = {}\n",
        "recall_xgb = {}\n",
        "for i in range(1, 11):\n",
        "  precision_xgb[i] = 0\n",
        "  recall_xgb[i] = 0\n",
        "\n",
        "total = 0\n",
        "\n",
        "for user_id, group_u in tqdm(new_test_set.groupby('user_id'), position=0):\n",
        "\n",
        "  for order_id, group_o in group_u.groupby('order_id'):\n",
        "    #Купленные товары\n",
        "    bought = np.array(list(set(group_o['product_id'])))\n",
        "\n",
        "    #Ищем товары, которые порекомендует бустинг\n",
        "    order = group_o[['order_id', 'order_dow', 'order_hour_of_day', 'days_since_prior_order']]\n",
        "    prods = prods_df[prods_df['user_id']==user_id].drop_duplicates(subset=['product_id'])\n",
        "\n",
        "    prods['order_dow'] = prods['order_dow'].apply(lambda x: order['order_dow'].values[0])\n",
        "    prods['order_hour_of_day'] = prods['order_hour_of_day'].apply(lambda x: order['order_hour_of_day'].values[0])\n",
        "    prods['days_since_prior_order'] = prods['days_since_prior_order'].apply(lambda x: order['days_since_prior_order'].values[0])\n",
        "\n",
        "    prods['prob'] =  model_xgb.predict_proba(prods[feat_cols[:-1]])[:, 1]\n",
        "\n",
        "    for i in range(1, 11):\n",
        "      recommended_xgb = np.array(list(map(lambda x:int(x[0]),sorted(prods[['product_id', 'prob']].values, key=lambda x: x[1], reverse=True)[:i])))\n",
        "      precision_xgb[i] += np.intersect1d(bought, recommended_xgb).shape[0]/recommended_xgb.shape[0]\n",
        "      recall_xgb[i] += np.intersect1d(bought, recommended_xgb).shape[0]/bought.shape[0]\n",
        "\n",
        "    total += 1\n",
        "\n",
        "for i in range(1, 11):\n",
        "  precision_xgb[i] = precision_xgb[i]/total\n",
        "  recall_xgb[i] = recall_xgb[i]/total\n",
        "\n",
        "print('\\n')\n",
        "print(precision_xgb)\n",
        "print(recall_xgb)\n",
        "\n",
        "metric_with_lstm_feats = {}\n",
        "\n",
        "metric_with_lstm_feats[it] = [precision_xgb, recall_xgb]\n",
        "\n",
        "with open('/content/drive/My Drive/Colab Notebooks/Diplom/models/lstm_next_sentence_pred/{0}/metric_with_lstm_feats.pkl'.format(it), 'wb') as f:\n",
        "  pkl.dump(metric_with_lstm_feats, f)"
      ],
      "execution_count": null,
      "outputs": [
        {
          "output_type": "stream",
          "text": [
            "100%|██████████| 6605/6605 [04:19<00:00, 25.43it/s]\n"
          ],
          "name": "stderr"
        },
        {
          "output_type": "stream",
          "text": [
            "\n",
            "\n",
            "{1: 0.453619803829986, 2: 0.4151331153666511, 3: 0.3840884321968007, 4: 0.3601432352483264, 5: 0.3409606103067017, 6: 0.3248622139187252, 7: 0.31250038922622714, 8: 0.30145248103912264, 9: 0.2915985706130542, 10: 0.2828311203042572}\n",
            "{1: 0.07950862374554564, 2: 0.13482872870033374, 3: 0.180905302606148, 4: 0.22030628785053202, 5: 0.25496357777277945, 6: 0.28520907318055266, 7: 0.3144739735493034, 8: 0.34100281605281596, 9: 0.36486959546644976, 10: 0.38685329135730223}\n"
          ],
          "name": "stdout"
        },
        {
          "output_type": "display_data",
          "data": {
            "image/png": "[encoded data removed]",
            "text/plain": [
              "<Figure size 432x288 with 1 Axes>"
            ]
          },
          "metadata": {
            "tags": [],
            "needs_background": "light"
          }
        }
      ]
    },
    {
      "cell_type": "code",
      "metadata": {
        "id": "LRkx-xumyIGP",
        "colab_type": "code",
        "colab": {}
      },
      "source": [
        ""
      ],
      "execution_count": null,
      "outputs": []
    }
  ]
}